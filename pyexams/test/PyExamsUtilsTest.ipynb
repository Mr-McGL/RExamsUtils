{
  "nbformat": 4,
  "nbformat_minor": 0,
  "metadata": {
    "colab": {
      "private_outputs": true,
      "provenance": [],
      "collapsed_sections": [
        "JiN5JVXm6L-I",
        "DICN52OG6R1l",
        "LC_SFcUw96Qu",
        "8E2GZ5HBRmEj"
      ],
      "authorship_tag": "ABX9TyNKiV2s/pMURKsqNBuXY0Wi",
      "include_colab_link": true
    },
    "kernelspec": {
      "name": "python3",
      "display_name": "Python 3"
    },
    "language_info": {
      "name": "python"
    }
  },
  "cells": [
    {
      "cell_type": "markdown",
      "metadata": {
        "id": "view-in-github",
        "colab_type": "text"
      },
      "source": [
        "<a href=\"https://colab.research.google.com/github/Mr-McGL/RExamsUtils/blob/dev%2Fmgarcia/pyexams/test/PyExamsUtilsTest.ipynb\" target=\"_parent\"><img src=\"https://colab.research.google.com/assets/colab-badge.svg\" alt=\"Open In Colab\"/></a>"
      ]
    },
    {
      "cell_type": "markdown",
      "source": [
        "# PyExamsUtils: Build and test"
      ],
      "metadata": {
        "id": "Y-wINt9J5HfO"
      }
    },
    {
      "cell_type": "markdown",
      "source": [
        "## Init extensions"
      ],
      "metadata": {
        "id": "JiN5JVXm6L-I"
      }
    },
    {
      "cell_type": "code",
      "execution_count": null,
      "metadata": {
        "id": "Loe7SifG4j8-"
      },
      "outputs": [],
      "source": [
        "%%capture __script_and_ext__output__\n",
        "!mkdir -p /content/scripts/\n",
        "%pushd /content/scripts/\n",
        "try:\n",
        "  !wget -O importExt_script.py https://gist.githubusercontent.com/Mr-McGL/661ae7e50a1cfe7dfd5c0b23216bf0c3/raw/importExt_script.py\n",
        "\n",
        "  %cd ..\n",
        "  %run scripts/importExt_script skip_ext\n",
        "  %run scripts/importExt_script pNpDir_ext\n",
        "  %run scripts/importExt_script writefileE_ext\n",
        "  %run scripts/importExt_script resize_output_ext\n",
        "  %run scripts/importExt_script repo_ext\n",
        "\n",
        "finally:\n",
        "  %popd"
      ]
    },
    {
      "cell_type": "code",
      "source": [
        "%%resize_output -hh 100px\n",
        "__script_and_ext__output__()"
      ],
      "metadata": {
        "id": "00boDGo35rFS"
      },
      "execution_count": null,
      "outputs": []
    },
    {
      "cell_type": "markdown",
      "source": [
        "## Build\n",
        "To set up the build, make sure to configure the following parameters:\n",
        "\n",
        "* `url`: The repository URL.\n",
        "* `branch`: Specify the branch you want to build from."
      ],
      "metadata": {
        "id": "DICN52OG6R1l"
      }
    },
    {
      "cell_type": "code",
      "source": [
        "url = \"https://github.com/Mr-McGL/RExamsUtils.git\"\n",
        "branch = \"dev/mgarcia\""
      ],
      "metadata": {
        "id": "l5SrIjC65_Hq"
      },
      "execution_count": null,
      "outputs": []
    },
    {
      "cell_type": "code",
      "source": [
        "%%resize_output -hh 400px -o __build_output__\n",
        "%%pushAndPopDir -swd\n",
        "#private repositories\n",
        "#%%repo -t github -f reu  {url} {tokenFileID}\n",
        "#%%pushAndPopDir -swd\n",
        "\n",
        "import importlib\n",
        "\n",
        "def prntStep(*args, **kwargs):\n",
        "  print(f\"\\x1b[1m\\x1b[36m\", end='')\n",
        "  print(*args, \"\\x1b[0m\", **kwargs)\n",
        "\n",
        "def installPKG(pkg):\n",
        "  if importlib.util.find_spec(pkg) is None:\n",
        "    !pip install {pkg}\n",
        "  else:\n",
        "    !pip install --upgrade {pkg}\n",
        "\n",
        "################################\n",
        "# Required Packages\n",
        "prntStep(\"\\nInstalling Required Packages\")\n",
        "installPKG(\"build\")\n",
        "installPKG(\"virtualenv\")\n",
        "\n",
        "##############################\n",
        "# Clonning the Repository\n",
        "# (for private repositories use %%repo)\n",
        "prntStep(\"\\nCloning the repository\")\n",
        "!git clone --recursive {url} reu\n",
        "\n",
        "##############################\n",
        "# Set Branch\n",
        "prntStep(\"\\nSetting the required branch\")\n",
        "%cd reu\n",
        "!git checkout {branch}\n",
        "\n",
        "\n",
        "##############################\n",
        "# Build\n",
        "prntStep(\"\\nBuilding package\")\n",
        "%cd pyexams\n",
        "#!python3 -m build\n",
        "!python3 -m build\n",
        "\n",
        "##############################\n",
        "# Copying Package\n",
        "prntStep(\"\\nCopying package files\")\n",
        "!mkdir -p ../../pkgs\n",
        "!cp -rf ./dist/* ../../pkgs\n",
        "\n",
        "##############################\n",
        "# Delete repository\n",
        "# (for private repositories use %%repo)\n",
        "prntStep(\"\\nDeleting repository\")\n",
        "%cd ../..\n",
        "!rm -r reu"
      ],
      "metadata": {
        "id": "eO9RpGkthr3B"
      },
      "execution_count": null,
      "outputs": []
    },
    {
      "cell_type": "code",
      "source": [
        "%%resize_output -hh 200px\n",
        "__build_output__"
      ],
      "metadata": {
        "id": "mdfMbBZr1-Q8"
      },
      "execution_count": null,
      "outputs": []
    },
    {
      "cell_type": "code",
      "source": [
        "%%skip {True}\n",
        "%%pushAndPopDir -swd\n",
        "!rm -r reu"
      ],
      "metadata": {
        "id": "81xjPEM6nfgp"
      },
      "execution_count": null,
      "outputs": []
    },
    {
      "cell_type": "markdown",
      "source": [
        "## Upload Binaries\n",
        "\n",
        "Before uploading the package binaries, ensure that you've set the following parameters:\n",
        "\n",
        "* `url`: The URL of the repository for binaries.\n",
        "* `tokenFileID`: The Google Drive file ID where the your tokens are stored.\n",
        "* `name`: Your user name.\n",
        "* `email`: Your email address."
      ],
      "metadata": {
        "id": "LC_SFcUw96Qu"
      }
    },
    {
      "cell_type": "markdown",
      "source": [
        "***How to create a token file:***\n",
        "\n",
        "<details>\n",
        "\n",
        "```py\n",
        "%%resize_output -hh 60px\n",
        "!apt-get install xattr\n",
        "```\n",
        "\n",
        "```py\n",
        "%%pushAndPopDir -swd\n",
        "\n",
        "tokenFileName = \"_tokens_.json\"\n",
        "folderName =\"\"\n",
        "\n",
        "from google.colab import drive, userdata\n",
        "from subprocess import getoutput\n",
        "import json\n",
        "\n",
        "drive.mount('gdrive')\n",
        "repoURL = userdata.get('repoURL')\n",
        "\n",
        "%pushd gdrive/MyDrive/{folderName}\n",
        "\n",
        "with open(tokenFileName,\"w\") as f:\n",
        "  f.write(json.dumps({\n",
        "  \"github\": {\n",
        "\t\t  \"user\": userdata.get('user_name'),# #<---- Your user name\n",
        "\t\t  \"email\": userdata.get('user_email'), #<---- Your email\n",
        "\t\t  \"token\": userdata.get('token') #<---- Your token\n",
        "\t  }\n",
        "  }))\n",
        "\n",
        "%popd\n",
        "\n",
        "drive.flush_and_unmount()\n",
        "```\n",
        "\n",
        "```py\n",
        "#https://gist.github.com/korakot/9bec3d134a70aa9797e17bc0adeb6663\n",
        "drive.mount('gdrive')\n",
        "%pushd gdrive/MyDrive/{folderName}\n",
        "file_ID = getoutput(f\"xattr -p 'user.drive.id' {tokenFileName}\")\n",
        "%popd\n",
        "drive.flush_and_unmount()\n",
        "print(file_ID)\n",
        "```\n",
        "\n",
        "</details>"
      ],
      "metadata": {
        "id": "RrMwN9Gt-5mB"
      }
    },
    {
      "cell_type": "code",
      "source": [
        "# @title  { run: \"auto\", form-width: \"50%\", display-mode: \"form\" }\n",
        "skip_upload = True # @param {type:\"boolean\"}"
      ],
      "metadata": {
        "id": "8TP0TFzM_zwF"
      },
      "execution_count": null,
      "outputs": []
    },
    {
      "cell_type": "code",
      "source": [
        "%%skip {skip_upload}\n",
        "\n",
        "#tokenFileID = \"1cCDt2uhK4vnwpiStmyyjzci3u90JaIE3\" #safe\n",
        "#Stored as Google Colab secret\n",
        "from google.colab import userdata\n",
        "tokenFileID = userdata.get('tokenFileID')\n",
        "email = userdata.get('user_email')\n",
        "name = userdata.get('user_name')\n",
        "url = \"https://github.com/Mr-McGL/RExamsUtilsBinaries.git\""
      ],
      "metadata": {
        "id": "tLyE1Vt76j5k"
      },
      "execution_count": null,
      "outputs": []
    },
    {
      "cell_type": "code",
      "source": [
        "%%skip {skip_upload}\n",
        "!git config --global user.email {email}\n",
        "!git config --global user.name {name}"
      ],
      "metadata": {
        "id": "6DBUbr-DBvT5"
      },
      "execution_count": null,
      "outputs": []
    },
    {
      "cell_type": "code",
      "source": [
        "%%resize_output -hh 100px -o __upload_output__\n",
        "%%skip {skip_upload}\n",
        "%%pushAndPopDir -swd\n",
        "%%repo -t github -f reu_bin  {url} {tokenFileID}\n",
        "%%pushAndPopDir -swd\n",
        "\n",
        "%cd reu_bin\n",
        "\n",
        "!mkdir -p ./pkgs\n",
        "!cp -rf ../pkgs/* ./pkgs\n",
        "!git add *\n",
        "!git commit -a -m \"PKGs updated\"\n",
        "!git push"
      ],
      "metadata": {
        "id": "vuGnduJv6i_v"
      },
      "execution_count": null,
      "outputs": []
    },
    {
      "cell_type": "code",
      "source": [
        "__upload_output__"
      ],
      "metadata": {
        "id": "VbJoaUYvDARc"
      },
      "execution_count": null,
      "outputs": []
    },
    {
      "cell_type": "markdown",
      "source": [
        "## Install"
      ],
      "metadata": {
        "id": "5ahij1NH92uj"
      }
    },
    {
      "cell_type": "code",
      "source": [
        "%%resize_output -hh 400px -o __build_install__\n",
        "%%pushAndPopDir -swd pkgs\n",
        "import os\n",
        "#files = [entry.name for entry in os.scandir('.') if entry.is_file() and entry.name.endswith(\".whl\")]\n",
        "files = sorted([f for f in os.listdir('.') if f.endswith(\".whl\")])\n",
        "!pip install --force-reinstall {files[-1]}"
      ],
      "metadata": {
        "id": "bS32YT2p2LUZ"
      },
      "execution_count": null,
      "outputs": []
    },
    {
      "cell_type": "code",
      "source": [
        "%%resize_output -hh 200px\n",
        "__build_install__"
      ],
      "metadata": {
        "id": "5oIdI3kE4noa"
      },
      "execution_count": null,
      "outputs": []
    },
    {
      "cell_type": "code",
      "source": [
        "%%skip True\n",
        "%%resize_output -hh 200px\n",
        "%%pushAndPopDir -swd pkgs\n",
        "\n",
        "files = sorted([f for f in os.listdir('.') if f.endswith(\".whl\")])\n",
        "!pip uninstall {files[-1]}"
      ],
      "metadata": {
        "id": "bW_a_nrgkmz8"
      },
      "execution_count": null,
      "outputs": []
    },
    {
      "cell_type": "code",
      "source": [
        "import pyexams.fprnt as exfprint\n",
        "exfprint.fprnt(\"Hola\", fg=\"r\")\n",
        "\n",
        "import pyexams.ex\n",
        "pyexams.ex.run(\"ls\")\n",
        "\n",
        "import pyexams\n",
        "pyexams.types.Struct({1:2})"
      ],
      "metadata": {
        "id": "keO_Grv1kck5"
      },
      "execution_count": null,
      "outputs": []
    },
    {
      "cell_type": "markdown",
      "source": [
        "## Test"
      ],
      "metadata": {
        "id": "iGujRXE7TNm_"
      }
    },
    {
      "cell_type": "markdown",
      "source": [
        "### Development"
      ],
      "metadata": {
        "id": "8E2GZ5HBRmEj"
      }
    },
    {
      "cell_type": "code",
      "source": [
        "# @title  { run: \"auto\", display-mode: \"form\" }\n",
        "dev = False # @param {type:\"boolean\"}"
      ],
      "metadata": {
        "id": "BjdTDETOR-6i"
      },
      "execution_count": null,
      "outputs": []
    },
    {
      "cell_type": "code",
      "source": [
        "#Init\n",
        "%%skip {not dev}\n",
        "%%resize_output -hh 100px\n",
        "%%pushAndPopDir -swd\n",
        "\n",
        "url = \"https://github.com/Mr-McGL/RExamsUtils.git\"\n",
        "branch = \"dev/mgarcia\"\n",
        "\n",
        "import importlib\n",
        "\n",
        "def prntStep(*args, **kwargs):\n",
        "  print(f\"\\x1b[1m\\x1b[36m\", end='')\n",
        "  print(*args, \"\\x1b[0m\", **kwargs)\n",
        "\n",
        "def installPKG(pkg):\n",
        "  if importlib.util.find_spec(pkg) is None:\n",
        "    !pip install {pkg}\n",
        "  else:\n",
        "    !pip install --upgrade {pkg}\n",
        "\n",
        "prntStep(\"\\nInstalling Required Packages\")\n",
        "installPKG(\"build\")\n",
        "installPKG(\"virtualenv\")\n",
        "\n",
        "prntStep(\"\\nCloning the repository\")\n",
        "!git clone --recursive {url} reu\n",
        "\n",
        "prntStep(\"\\nSetting the required branch\")\n",
        "%cd reu\n",
        "!git checkout {branch}"
      ],
      "metadata": {
        "id": "WBd2TVhURxrE"
      },
      "execution_count": null,
      "outputs": []
    },
    {
      "cell_type": "code",
      "source": [
        "#Build and install\n",
        "%%skip {not dev}\n",
        "%%resize_output -hh 100px\n",
        "%%pushAndPopDir -swd reu/pyexams\n",
        "\n",
        "import os\n",
        "\n",
        "#prntStep(\"\\nUninstalling previous version\")\n",
        "#if os.path.exists(\"./dist\"):\n",
        "#  %pushd \"./dist\"\n",
        "#  files = sorted([f for f in os.listdir('.') if f.endswith(\".whl\")])\n",
        "#  !pip uninstall -y {files[-1]}\n",
        "#  %popd\n",
        "\n",
        "prntStep(\"\\nCleaning repo\")\n",
        "dzi = !find . -name *Zone.Identifier\n",
        "dcch = !find . -name __pycache__\n",
        "degg = !find . -name *.egg-info\n",
        "\n",
        "for f in dzi + dcch + degg:\n",
        "  !rm -r {f}\n",
        "\n",
        "if os.path.exists(\"./build\"):\n",
        "  !rm -r ./build\n",
        "\n",
        "if os.path.exists(\"./dist\"):\n",
        "  !rm -r ./dist\n",
        "\n",
        "\n",
        "prntStep(\"\\nBuilding repo\")\n",
        "!python3 -m build\n",
        "\n",
        "prntStep(\"\\nInstalling repo\")\n",
        "#!pip uninstall .\n",
        "%cd \"./dist\"\n",
        "files = sorted([f for f in os.listdir('.') if f.endswith(\".whl\")])\n",
        "!pip install --force-reinstall {files[-1]}\n",
        "#!pip install --force-reinstall ."
      ],
      "metadata": {
        "id": "Ca7qfbZ1SbHt"
      },
      "execution_count": null,
      "outputs": []
    },
    {
      "cell_type": "code",
      "source": [
        "%%skip {not dev}\n",
        "\n",
        "import pyexams.fprnt as exfprint\n",
        "exfprint.fprnt(\"Hola\", fg=\"r\")\n",
        "\n",
        "import pyexams.ex\n",
        "pyexams.ex.run(\"ls\")\n",
        "\n",
        "import pyexams\n",
        "pyexams.types.Struct({1:2})"
      ],
      "metadata": {
        "id": "YYcauGfaVsFQ"
      },
      "execution_count": null,
      "outputs": []
    },
    {
      "cell_type": "code",
      "source": [
        "%%skip {not dev}\n",
        "%%pushAndPopDir -swd\n",
        "prntStep(\"\\nDeleting repository\")\n",
        "!rm -r reu"
      ],
      "metadata": {
        "id": "mc-yEd1eVr8h"
      },
      "execution_count": null,
      "outputs": []
    },
    {
      "cell_type": "markdown",
      "source": [
        "### ***fprnt*** - Formatted print tests"
      ],
      "metadata": {
        "id": "aR0CAgt3yUSN"
      }
    },
    {
      "cell_type": "markdown",
      "source": [
        "Los siguientes diccionarios incluyen caracteres especiales."
      ],
      "metadata": {
        "id": "rm_9ppYtezuf"
      }
    },
    {
      "cell_type": "code",
      "source": [
        "from pyexams.fprnt import (format as frmt, fgColor as fgc,\n",
        "                             bgColor as bgc, special as spcl)\n",
        "\n",
        "print(f\"{frmt.bold+frmt['italic']}Bold and italic{frmt.resetBold} - italic{frmt.reset} - default\")\n",
        "print(f\"{frmt.b+frmt.i}Bold and italic{frmt.ri} - italic{frmt.rst} - default\")\n",
        "\n",
        "print(\"\")\n",
        "print(f\"{fgc.cyan+bgc.magenta}Cyan and magenta{frmt.rst} | default\")\n",
        "print(f\"{fgc.c+bgc.m}Cyan and magenta{fgc.default} | default and Magenta {bgc.d} default\")\n",
        "\n",
        "print(f\"\\n Unseen {spcl.lbeging}Line deleted\")\n"
      ],
      "metadata": {
        "id": "adWaIvi0dWZe"
      },
      "execution_count": null,
      "outputs": []
    },
    {
      "cell_type": "code",
      "source": [
        "from pyexams.fprnt import fgvColor as fgvc, bgvColor as bgvc, fgRGB, bgRGB\n",
        "\n",
        "\n",
        "print(f\"{fgvc(1)+bgvc(50)}Test 1\")\n",
        "print(f\"{fgRGB(200,0,0)+bgRGB(200,200,200)}Test 2\")\n",
        "\n",
        "print(f\"{fgRGB(200,0,0)+bgRGB(200,200,200)}Test 2\")\n",
        "\n"
      ],
      "metadata": {
        "id": "otdfy-7YlciR"
      },
      "execution_count": null,
      "outputs": []
    },
    {
      "cell_type": "code",
      "source": [
        "from pyexams.fprnt import setFormat as _sf\n",
        "\n",
        "print(f\"{_sf(('fg',200,0,0), ('bg',200,200,200),'b' )}Test 1\")\n",
        "print(f\"{_sf(('fg',200), ('bg',1),'b' )}Test 2\")\n",
        "print(f\"{_sf(('fg','r'), ('bg','w'),'b' )}Test 3\")\n",
        "print(f\"{_sf('fgc','bgw','b' )}Test 4\")\n",
        "print(f\"{_sf('fgred','bgw','b' )}Test{_sf('r')} 5\")"
      ],
      "metadata": {
        "id": "LmfZIUWCnTP-"
      },
      "execution_count": null,
      "outputs": []
    },
    {
      "cell_type": "markdown",
      "source": [
        "La siguiente funcion permite seleccionar un formato."
      ],
      "metadata": {
        "id": "wyyIWRPmjPOx"
      }
    },
    {
      "cell_type": "code",
      "source": [
        "from pyexams.fprnt import fprnt, fprntNNL\n",
        "\n",
        "fprnt(\"Test 1\", fg = \"r\", bg = \"w\", frmt = \"u\")\n",
        "fprnt(\"Test 2\", fg = 2, bg = 3)\n",
        "fprnt(\"Test 3\", fg = (0,0,200), bg = (100,0,0))\n",
        "\n",
        "fprntNNL(\"Test\", fg = (0,100,200), bg = (100,0,0))\n",
        "fprnt(\" 4\", fg = (200,50,0), bg = (0,200,0))\n",
        "\n",
        "fprnt(\"Test\", fg = (0,100,200), bg = (100,0,0), end=' ')\n",
        "fprnt(\"5\", fg = (200,50,0), bg = (0,200,0))"
      ],
      "metadata": {
        "id": "vTuQ-tsTjLsy"
      },
      "execution_count": null,
      "outputs": []
    }
  ]
}