{
  "nbformat": 4,
  "nbformat_minor": 0,
  "metadata": {
    "colab": {
      "private_outputs": true,
      "provenance": [],
      "collapsed_sections": [
        "JiN5JVXm6L-I",
        "DICN52OG6R1l",
        "LC_SFcUw96Qu",
        "5ahij1NH92uj",
        "iGujRXE7TNm_",
        "8E2GZ5HBRmEj",
        "aR0CAgt3yUSN",
        "tzdOFqJcOG9u",
        "OB7uN7ioOfKU",
        "KpQohsOaVIbG",
        "VxGbBADFIY-n",
        "hRgZ_bz1JPMQ",
        "55wrFbq8h-1i",
        "2g85s9uGixsG",
        "wt_flp9pjDdz",
        "kASSr182sYE0"
      ],
      "authorship_tag": "ABX9TyNKiV2s/pMURKsqNBuXY0Wi",
      "include_colab_link": true
    },
    "kernelspec": {
      "name": "python3",
      "display_name": "Python 3"
    },
    "language_info": {
      "name": "python"
    }
  },
  "cells": [
    {
      "cell_type": "markdown",
      "metadata": {
        "id": "view-in-github",
        "colab_type": "text"
      },
      "source": [
        "<a href=\"https://colab.research.google.com/github/Mr-McGL/RExamsUtils/blob/dev%2Fmgarcia/pyexams/test/PyExamsUtilsTest.ipynb\" target=\"_parent\"><img src=\"https://colab.research.google.com/assets/colab-badge.svg\" alt=\"Open In Colab\"/></a>"
      ]
    },
    {
      "cell_type": "markdown",
      "source": [
        "# PyExamsUtils: Build and test"
      ],
      "metadata": {
        "id": "Y-wINt9J5HfO"
      }
    },
    {
      "cell_type": "markdown",
      "source": [
        "## Init"
      ],
      "metadata": {
        "id": "JiN5JVXm6L-I"
      }
    },
    {
      "cell_type": "markdown",
      "source": [
        "***Scripts and extensions***"
      ],
      "metadata": {
        "id": "0X_ThY3QHwai"
      }
    },
    {
      "cell_type": "code",
      "execution_count": null,
      "metadata": {
        "id": "Loe7SifG4j8-"
      },
      "outputs": [],
      "source": [
        "%%capture __script_and_ext__output__\n",
        "!mkdir -p /content/scripts/\n",
        "%pushd /content/scripts/\n",
        "try:\n",
        "  !wget -O importExt_script.py https://gist.githubusercontent.com/Mr-McGL/661ae7e50a1cfe7dfd5c0b23216bf0c3/raw/importExt_script.py\n",
        "\n",
        "  %cd ..\n",
        "  %run scripts/importExt_script skip_ext\n",
        "  %run scripts/importExt_script pNpDir_ext\n",
        "  %run scripts/importExt_script writefileE_ext\n",
        "  %run scripts/importExt_script extended_output_ext\n",
        "  #ToDo: use pydrive2\n",
        "  %run scripts/importExt_script repo_ext\n",
        "\n",
        "finally:\n",
        "  %popd"
      ]
    },
    {
      "cell_type": "code",
      "source": [
        "%%exout -hh 100px\n",
        "__script_and_ext__output__()"
      ],
      "metadata": {
        "id": "00boDGo35rFS"
      },
      "execution_count": null,
      "outputs": []
    },
    {
      "cell_type": "markdown",
      "source": [
        "## Build\n",
        "To set up the build, make sure to configure the following parameters:\n",
        "\n",
        "* `url`: The repository URL.\n",
        "* `branch`: Specify the branch you want to build from."
      ],
      "metadata": {
        "id": "DICN52OG6R1l"
      }
    },
    {
      "cell_type": "code",
      "source": [
        "url = \"https://github.com/Mr-McGL/RExamsUtils.git\"\n",
        "branch = \"dev/mgarcia\""
      ],
      "metadata": {
        "id": "l5SrIjC65_Hq"
      },
      "execution_count": null,
      "outputs": []
    },
    {
      "cell_type": "code",
      "source": [
        "%%exout -hh 400px -o __build_output__\n",
        "%%pushAndPopDir -swd\n",
        "#private repositories\n",
        "#%%repo -t github -f reu  {url} {tokenFileID}\n",
        "#%%pushAndPopDir -swd\n",
        "\n",
        "import importlib\n",
        "\n",
        "def prntStep(*args, **kwargs):\n",
        "  print(f\"\\x1b[1m\\x1b[36m\", end='')\n",
        "  print(*args, \"\\x1b[0m\", **kwargs)\n",
        "\n",
        "def installPKG(pkg):\n",
        "  if importlib.util.find_spec(pkg) is None:\n",
        "    !pip install {pkg}\n",
        "  else:\n",
        "    !pip install --upgrade {pkg}\n",
        "\n",
        "################################\n",
        "# Required Packages\n",
        "prntStep(\"\\nInstalling Required Packages\")\n",
        "installPKG(\"build\")\n",
        "installPKG(\"virtualenv\")\n",
        "\n",
        "##############################\n",
        "# Clonning the Repository\n",
        "# (for private repositories use %%repo)\n",
        "prntStep(\"\\nCloning the repository\")\n",
        "!git clone --recursive {url} reu\n",
        "\n",
        "##############################\n",
        "# Set Branch\n",
        "prntStep(\"\\nSetting the required branch\")\n",
        "%cd reu\n",
        "!git checkout {branch}\n",
        "\n",
        "\n",
        "##############################\n",
        "# Build\n",
        "prntStep(\"\\nBuilding package\")\n",
        "%cd pyexams\n",
        "#!python3 -m build\n",
        "!python3 -m build\n",
        "\n",
        "##############################\n",
        "# Copying Package\n",
        "prntStep(\"\\nCopying package files\")\n",
        "!mkdir -p ../../pkgs\n",
        "!cp -rf ./dist/* ../../pkgs\n",
        "\n",
        "##############################\n",
        "# Delete repository\n",
        "# (for private repositories use %%repo)\n",
        "prntStep(\"\\nDeleting repository\")\n",
        "%cd ../..\n",
        "!rm -r reu"
      ],
      "metadata": {
        "id": "eO9RpGkthr3B"
      },
      "execution_count": null,
      "outputs": []
    },
    {
      "cell_type": "code",
      "source": [
        "%%exout -hh 200px -cl\n",
        "__build_output__"
      ],
      "metadata": {
        "id": "mdfMbBZr1-Q8"
      },
      "execution_count": null,
      "outputs": []
    },
    {
      "cell_type": "code",
      "source": [
        "%%skip {True}\n",
        "%%pnpd -swd\n",
        "#%%pushAndPopDir -swd\n",
        "!rm -r reu"
      ],
      "metadata": {
        "id": "81xjPEM6nfgp"
      },
      "execution_count": null,
      "outputs": []
    },
    {
      "cell_type": "markdown",
      "source": [
        "## Upload Binaries\n",
        "\n",
        "Before uploading the package binaries, ensure that you've set the following parameters:\n",
        "\n",
        "* `url`: The URL of the repository for binaries.\n",
        "* `tokenFileID`: The Google Drive file ID where the your tokens are stored.\n",
        "* `name`: Your user name.\n",
        "* `email`: Your email address."
      ],
      "metadata": {
        "id": "LC_SFcUw96Qu"
      }
    },
    {
      "cell_type": "markdown",
      "source": [
        "***How to create a token file:***\n",
        "\n",
        "<details>\n",
        "\n",
        "```py\n",
        "%%resize_output -hh 60px\n",
        "!apt-get install xattr\n",
        "```\n",
        "\n",
        "```py\n",
        "%%pushAndPopDir -swd\n",
        "\n",
        "tokenFileName = \"_tokens_.json\"\n",
        "folderName =\"\"\n",
        "\n",
        "from google.colab import drive, userdata\n",
        "from subprocess import getoutput\n",
        "import json\n",
        "\n",
        "drive.mount('gdrive')\n",
        "repoURL = userdata.get('repoURL')\n",
        "\n",
        "%pushd gdrive/MyDrive/{folderName}\n",
        "\n",
        "with open(tokenFileName,\"w\") as f:\n",
        "  f.write(json.dumps({\n",
        "  \"github\": {\n",
        "\t\t  \"user\": userdata.get('user_name'),# #<---- Your user name\n",
        "\t\t  \"email\": userdata.get('user_email'), #<---- Your email\n",
        "\t\t  \"token\": userdata.get('token') #<---- Your token\n",
        "\t  }\n",
        "  }))\n",
        "\n",
        "%popd\n",
        "\n",
        "drive.flush_and_unmount()\n",
        "```\n",
        "\n",
        "```py\n",
        "#https://gist.github.com/korakot/9bec3d134a70aa9797e17bc0adeb6663\n",
        "drive.mount('gdrive')\n",
        "%pushd gdrive/MyDrive/{folderName}\n",
        "file_ID = getoutput(f\"xattr -p 'user.drive.id' {tokenFileName}\")\n",
        "%popd\n",
        "drive.flush_and_unmount()\n",
        "print(file_ID)\n",
        "```\n",
        "\n",
        "</details>"
      ],
      "metadata": {
        "id": "RrMwN9Gt-5mB"
      }
    },
    {
      "cell_type": "code",
      "source": [
        "# @title  { run: \"auto\", form-width: \"50%\", display-mode: \"form\" }\n",
        "skip_upload = True # @param {type:\"boolean\"}"
      ],
      "metadata": {
        "id": "8TP0TFzM_zwF"
      },
      "execution_count": null,
      "outputs": []
    },
    {
      "cell_type": "code",
      "source": [
        "%%skip {skip_upload}\n",
        "\n",
        "#tokenFileID = \"1cCDt2uhK4vnwpiStmyyjzci3u90JaIE3\" #safe\n",
        "#Stored as Google Colab secret\n",
        "from google.colab import userdata\n",
        "tokenFileID = userdata.get('tokenFileID')\n",
        "email = userdata.get('user_email')\n",
        "name = userdata.get('user_name')\n",
        "url = \"https://github.com/Mr-McGL/RExamsUtilsBinaries.git\""
      ],
      "metadata": {
        "id": "tLyE1Vt76j5k"
      },
      "execution_count": null,
      "outputs": []
    },
    {
      "cell_type": "code",
      "source": [
        "%%skip {skip_upload}\n",
        "!git config --global user.email {email}\n",
        "!git config --global user.name {name}"
      ],
      "metadata": {
        "id": "6DBUbr-DBvT5"
      },
      "execution_count": null,
      "outputs": []
    },
    {
      "cell_type": "code",
      "source": [
        "%%exout -hh 100px -o __upload_output__\n",
        "%%skip {skip_upload}\n",
        "%%pnpd -swd\n",
        "%%repo -t github -f reu_bin  {url} {tokenFileID}\n",
        "%%pnpd -swd\n",
        "\n",
        "%cd reu_bin\n",
        "\n",
        "!mkdir -p ./pkgs\n",
        "!cp -rf ../pkgs/* ./pkgs\n",
        "!git add *\n",
        "!git commit -a -m \"PKGs updated\"\n",
        "!git push"
      ],
      "metadata": {
        "id": "vuGnduJv6i_v"
      },
      "execution_count": null,
      "outputs": []
    },
    {
      "cell_type": "code",
      "source": [
        "__upload_output__"
      ],
      "metadata": {
        "id": "VbJoaUYvDARc"
      },
      "execution_count": null,
      "outputs": []
    },
    {
      "cell_type": "markdown",
      "source": [
        "## Install"
      ],
      "metadata": {
        "id": "5ahij1NH92uj"
      }
    },
    {
      "cell_type": "code",
      "source": [
        "%%exout -hh 400px -o __build_install__\n",
        "%%pushAndPopDir -swd pkgs\n",
        "import os\n",
        "#files = [entry.name for entry in os.scandir('.') if entry.is_file() and entry.name.endswith(\".whl\")]\n",
        "files = sorted([f for f in os.listdir('.') if f.endswith(\".whl\")])\n",
        "#!pip install --force-reinstall {files[-1]}\n",
        "print (f\"pip install {files[-1]}\")\n",
        "!pip install {files[-1]}"
      ],
      "metadata": {
        "id": "bS32YT2p2LUZ"
      },
      "execution_count": null,
      "outputs": []
    },
    {
      "cell_type": "code",
      "source": [
        "%%exout -hh 200px -cl\n",
        "__build_install__"
      ],
      "metadata": {
        "id": "5oIdI3kE4noa"
      },
      "execution_count": null,
      "outputs": []
    },
    {
      "cell_type": "code",
      "source": [
        "%%skip True\n",
        "%%exout -hh 200px\n",
        "%%pushAndPopDir -swd pkgs\n",
        "\n",
        "files = sorted([f for f in os.listdir('.') if f.endswith(\".whl\")])\n",
        "!pip uninstall {files[-1]}"
      ],
      "metadata": {
        "id": "bW_a_nrgkmz8"
      },
      "execution_count": null,
      "outputs": []
    },
    {
      "cell_type": "code",
      "source": [
        "import pyexams.fprnt as exfprint\n",
        "exfprint.fprnt(\"Testing\", fg=\"r\")\n",
        "\n",
        "import pyexams.ex\n",
        "pyexams.ex.run(\"ls\")\n",
        "\n",
        "import pyexams\n",
        "pyexams.types.Struct({1:2})"
      ],
      "metadata": {
        "id": "keO_Grv1kck5"
      },
      "execution_count": null,
      "outputs": []
    },
    {
      "cell_type": "markdown",
      "source": [
        "## Test"
      ],
      "metadata": {
        "id": "iGujRXE7TNm_"
      }
    },
    {
      "cell_type": "code",
      "source": [
        "%%exout -hh 100px -cl\n",
        "!pip install nb-mypy\n",
        "%load_ext nb_mypy\n",
        "%nb_mypy -v\n",
        "%nb_mypy Off"
      ],
      "metadata": {
        "id": "xMzWOdOCzjoP"
      },
      "execution_count": null,
      "outputs": []
    },
    {
      "cell_type": "markdown",
      "source": [
        "### Development"
      ],
      "metadata": {
        "id": "8E2GZ5HBRmEj"
      }
    },
    {
      "cell_type": "code",
      "source": [
        "# @title  { run: \"auto\", display-mode: \"form\" }\n",
        "dev = False # @param {type:\"boolean\"}"
      ],
      "metadata": {
        "id": "BjdTDETOR-6i"
      },
      "execution_count": null,
      "outputs": []
    },
    {
      "cell_type": "code",
      "source": [
        "#Init\n",
        "%%skip {not dev}\n",
        "%%exout -hh 100px\n",
        "%%pushAndPopDir -swd\n",
        "\n",
        "url = \"https://github.com/Mr-McGL/RExamsUtils.git\"\n",
        "branch = \"dev/mgarcia\"\n",
        "\n",
        "import importlib\n",
        "\n",
        "def prntStep(*args, **kwargs):\n",
        "  print(f\"\\x1b[1m\\x1b[36m\", end='')\n",
        "  print(*args, \"\\x1b[0m\", **kwargs)\n",
        "\n",
        "def installPKG(pkg):\n",
        "  if importlib.util.find_spec(pkg) is None:\n",
        "    !pip install {pkg}\n",
        "  else:\n",
        "    !pip install --upgrade {pkg}\n",
        "\n",
        "prntStep(\"\\nInstalling Required Packages\")\n",
        "installPKG(\"build\")\n",
        "installPKG(\"virtualenv\")\n",
        "\n",
        "prntStep(\"\\nCloning the repository\")\n",
        "!git clone --recursive {url} reu\n",
        "\n",
        "prntStep(\"\\nSetting the required branch\")\n",
        "%cd reu\n",
        "!git checkout {branch}"
      ],
      "metadata": {
        "id": "WBd2TVhURxrE"
      },
      "execution_count": null,
      "outputs": []
    },
    {
      "cell_type": "code",
      "source": [
        "#Build and install\n",
        "%%skip {not dev}\n",
        "%%exout -hh 100px\n",
        "%%pushAndPopDir -swd reu/pyexams\n",
        "\n",
        "import os\n",
        "\n",
        "#prntStep(\"\\nUninstalling previous version\")\n",
        "#if os.path.exists(\"./dist\"):\n",
        "#  %pushd \"./dist\"\n",
        "#  files = sorted([f for f in os.listdir('.') if f.endswith(\".whl\")])\n",
        "#  !pip uninstall -y {files[-1]}\n",
        "#  %popd\n",
        "\n",
        "prntStep(\"\\nCleaning repo\")\n",
        "dzi = !find . -name *Zone.Identifier\n",
        "dcch = !find . -name __pycache__\n",
        "degg = !find . -name *.egg-info\n",
        "\n",
        "for f in dzi + dcch + degg:\n",
        "  !rm -r {f}\n",
        "\n",
        "if os.path.exists(\"./build\"):\n",
        "  !rm -r ./build\n",
        "\n",
        "if os.path.exists(\"./dist\"):\n",
        "  !rm -r ./dist\n",
        "\n",
        "\n",
        "prntStep(\"\\nBuilding repo\")\n",
        "!python3 -m build\n",
        "\n",
        "prntStep(\"\\nInstalling repo\")\n",
        "#!pip uninstall .\n",
        "#%cd \"./dist\"\n",
        "#files = sorted([f for f in os.listdir('.') if f.endswith(\".whl\")])\n",
        "#!pip install {files[-1]}\n",
        "#!pip install --force-reinstall {files[-1]}\n",
        "#!pip install --force-reinstall ."
      ],
      "metadata": {
        "id": "Ca7qfbZ1SbHt"
      },
      "execution_count": null,
      "outputs": []
    },
    {
      "cell_type": "code",
      "source": [
        "%%skip {not dev}\n",
        "%%exout -hh 100px\n",
        "%%pushAndPopDir -swd reu/pyexams/dist\n",
        "prntStep(\"\\nInstalling repo\")\n",
        "files = sorted([f for f in os.listdir('.') if f.endswith(\".whl\")])\n",
        "#!yes | pip uninstall {files[-1]}\n",
        "!pip install {files[-1]}"
      ],
      "metadata": {
        "id": "TuKaFD-AQPV_"
      },
      "execution_count": null,
      "outputs": []
    },
    {
      "cell_type": "code",
      "source": [
        "import pyexams.ex"
      ],
      "metadata": {
        "id": "AhnP3ryiOxz3"
      },
      "execution_count": null,
      "outputs": []
    },
    {
      "cell_type": "code",
      "source": [
        "%%skip {not dev}\n",
        "\n",
        "import pyexams.fprnt as exfprint\n",
        "exfprint.fprnt(\"Hola\", fg=\"r\")\n",
        "\n",
        "import pyexams.ex\n",
        "pyexams.ex.run(\"ls\")\n",
        "\n",
        "import pyexams\n",
        "pyexams.types.Struct({1:2})"
      ],
      "metadata": {
        "id": "YYcauGfaVsFQ"
      },
      "execution_count": null,
      "outputs": []
    },
    {
      "cell_type": "code",
      "source": [
        "%%skip {not dev}\n",
        "%%exout -swd\n",
        "prntStep(\"\\nDeleting repository\")\n",
        "!rm -r reu"
      ],
      "metadata": {
        "id": "mc-yEd1eVr8h"
      },
      "execution_count": null,
      "outputs": []
    },
    {
      "cell_type": "markdown",
      "source": [
        "### ***fprnt*** - Formatted print tests"
      ],
      "metadata": {
        "id": "aR0CAgt3yUSN"
      }
    },
    {
      "cell_type": "markdown",
      "source": [
        "Los siguientes diccionarios incluyen caracteres especiales."
      ],
      "metadata": {
        "id": "rm_9ppYtezuf"
      }
    },
    {
      "cell_type": "code",
      "source": [
        "from pyexams.fprnt import (format as frmt, fgColor as fgc,\n",
        "                             bgColor as bgc, special as spcl)\n",
        "\n",
        "print(f\"{frmt.bold+frmt['italic']}Bold and italic{frmt.resetBold} - italic{frmt.reset} - default\")\n",
        "print(f\"{frmt.b+frmt.i}Bold and italic{frmt.ri} - italic{frmt.rst} - default\")\n",
        "\n",
        "print(\"\")\n",
        "print(f\"{fgc.cyan+bgc.magenta}Cyan and magenta{frmt.rst} | default\")\n",
        "print(f\"{fgc.c+bgc.m}Cyan and magenta{fgc.default} | default and Magenta {bgc.d} default\")\n",
        "\n",
        "print(f\"\\n Unseen {spcl.lbeging}Line deleted\")\n"
      ],
      "metadata": {
        "id": "adWaIvi0dWZe"
      },
      "execution_count": null,
      "outputs": []
    },
    {
      "cell_type": "code",
      "source": [
        "from pyexams.fprnt import fgvColor as fgvc, bgvColor as bgvc, fgRGB, bgRGB\n",
        "\n",
        "\n",
        "print(f\"{fgvc(1)+bgvc(50)}Test 1\")\n",
        "print(f\"{fgRGB(200,0,0)+bgRGB(200,200,200)}Test 2\")\n",
        "\n",
        "print(f\"{fgRGB(200,0,0)+bgRGB(200,200,200)}Test 2\")\n",
        "\n"
      ],
      "metadata": {
        "id": "otdfy-7YlciR"
      },
      "execution_count": null,
      "outputs": []
    },
    {
      "cell_type": "code",
      "source": [
        "from pyexams.fprnt import setFormat as sf\n",
        "\n",
        "print(f\"{sf(('fg',200,0,0), ('bg',200,200,200),'b' )}Test 1\")\n",
        "print(f\"{sf(('fg',200), ('bg',1),'b' )}Test 2\")\n",
        "print(f\"{sf(('fg','r'), ('bg','w'),'b' )}Test 3\")\n",
        "print(f\"{sf('fgc','bgw','b' )}Test 4\")\n",
        "print(f\"{sf('fgred','bgw','b' )}Test{sf('r')} 5\")"
      ],
      "metadata": {
        "id": "LmfZIUWCnTP-"
      },
      "execution_count": null,
      "outputs": []
    },
    {
      "cell_type": "markdown",
      "source": [
        "La siguiente funcion permite seleccionar un formato."
      ],
      "metadata": {
        "id": "wyyIWRPmjPOx"
      }
    },
    {
      "cell_type": "code",
      "source": [
        "from pyexams.fprnt import fprnt, fprntNNL\n",
        "\n",
        "fprnt(\"Test 1\", fg = \"r\", bg = \"w\", frmt = \"u\")\n",
        "fprnt(\"Test 2\", fg = 2, bg = 3)\n",
        "fprnt(\"Test 3\", fg = (0,0,200), bg = (100,0,0))\n",
        "\n",
        "fprntNNL(\"Test\", fg = (0,100,200), bg = (100,0,0))\n",
        "fprnt(\" 4\", fg = (200,50,0), bg = (0,200,0))\n",
        "\n",
        "fprnt(\"Test\", fg = (0,100,200), bg = (100,0,0), end=' ')\n",
        "fprnt(\"5\", fg = (200,50,0), bg = (0,200,0))"
      ],
      "metadata": {
        "id": "vTuQ-tsTjLsy"
      },
      "execution_count": null,
      "outputs": []
    },
    {
      "cell_type": "markdown",
      "source": [
        "### Types"
      ],
      "metadata": {
        "id": "tzdOFqJcOG9u"
      }
    },
    {
      "cell_type": "markdown",
      "source": [
        "#### Check"
      ],
      "metadata": {
        "id": "OB7uN7ioOfKU"
      }
    },
    {
      "cell_type": "code",
      "source": [
        "from pyexams.types import is_seq, is_seq_of_seq, is_seq_of_seq_or_bt"
      ],
      "metadata": {
        "id": "lA5ffE-HOTBI"
      },
      "execution_count": null,
      "outputs": []
    },
    {
      "cell_type": "code",
      "source": [
        "from typing import Sequence\n",
        "from pyexams.fprnt import setFormat as sf\n",
        "\n",
        "def print_test_results(tresults: Sequence[bool], sep=\"\\n\", prefix=\" * \", **kwargs):\n",
        "  \"\"\"\n",
        "  Prints a string of \"OK\" or \"KO\" separated by the provided separator, \" * \" by default, for each\n",
        "  element in the test results array, highlighting \"OK\" in green and \"KO\" in red.\n",
        "\n",
        "  Args:\n",
        "      tresults (Sequence[bool]): The test results array.\n",
        "      sep (str): The separator between the \"OK\" or \"KO\" strings. Defaults to \"\\n\".\n",
        "      prefix (str): The prefix to prepend to each \"OK\" or \"KO\" string. Defaults to \" * \".\n",
        "      **kwargs: Keyword arguments to be passed to the `print()` function.\n",
        "  \"\"\"\n",
        "  r = f'{sep}'.join(f\"{sf('fgg','b')}{prefix}OK\" if res else f\"{sf('fgr','b')}{prefix}KO\" for res in tresults)\n",
        "  print(f\"{r}{sf('fgg','r')}\", sep=sep, **kwargs)"
      ],
      "metadata": {
        "id": "lm5Z1YaeORki"
      },
      "execution_count": null,
      "outputs": []
    },
    {
      "cell_type": "code",
      "source": [
        "%nb_mypy On"
      ],
      "metadata": {
        "id": "g8eMy8vLOkAQ"
      },
      "execution_count": null,
      "outputs": []
    },
    {
      "cell_type": "code",
      "source": [
        "%%exout -hh 100px -cl\n",
        "\n",
        "print_test_results((\n",
        "    is_seq([],str) == True,\n",
        "    is_seq([1],str) == False,\n",
        "    is_seq([\"a\"],str) == True,\n",
        "    is_seq([\"a\"],int) == False,\n",
        "    is_seq([\"a\", 1],(int,str)) == True,\n",
        "    is_seq([\"a\", 1.0],(int,str)) == False,\n",
        "    is_seq([\"a\", 1],(int,bool)) == False,\n",
        "))\n",
        "\n",
        "print(\"---\")\n",
        "print_test_results((\n",
        "    is_seq_of_seq([('a','a'),('a',)], str) == True,\n",
        "    is_seq_of_seq([('a','a'),('a')], str) == False,\n",
        "    is_seq_of_seq([('a','a'),'a'], str) == False,\n",
        "    is_seq_of_seq([('a','a'),['a']], str) == True,\n",
        "    is_seq_of_seq([('a','a'),[1]], (str,int)) == True,\n",
        "    is_seq_of_seq([('a','a'),[1]], str) == False,\n",
        "))\n",
        "\n",
        "print(\"---\")\n",
        "print_test_results((\n",
        "    is_seq_of_seq_or_bt([('a','a'),('a',)], str) == True,\n",
        "    is_seq_of_seq_or_bt([('a','a'),'a'], str) == True,\n",
        "    is_seq_of_seq_or_bt(['a','a','a'], str) == True,\n",
        "    is_seq_of_seq_or_bt(['a','a',[1]], str) == False,\n",
        "    is_seq_of_seq_or_bt(['a','a',[1]], (str, int)) == True,\n",
        "    ))\n"
      ],
      "metadata": {
        "id": "cWVU1uBJOOAh"
      },
      "execution_count": null,
      "outputs": []
    },
    {
      "cell_type": "code",
      "source": [
        "%nb_mypy Off"
      ],
      "metadata": {
        "id": "gX5rLSKUOksB"
      },
      "execution_count": null,
      "outputs": []
    },
    {
      "cell_type": "markdown",
      "source": [
        "### Install R and R/exams\n"
      ],
      "metadata": {
        "id": "KpQohsOaVIbG"
      }
    },
    {
      "cell_type": "code",
      "source": [
        "%%exout -hh 100px -cl\n",
        "%%pnpd -swd scripts\n",
        "!wget https://raw.githubusercontent.com/Mr-McGL/RExamsUtils/dev/mgarcia/nbscripts/download_rexams_utils.py\n",
        "#-ne\n",
        "%run download_rexams_utils.py -np -sld\n",
        "%cd ../extensions\n",
        "%load_ext sysrun_ext\n",
        "%cd ..\n",
        "%sysrun init_rexams"
      ],
      "metadata": {
        "id": "0ooHUgYBVsHl"
      },
      "execution_count": null,
      "outputs": []
    },
    {
      "cell_type": "markdown",
      "source": [
        "### ***R***"
      ],
      "metadata": {
        "id": "VxGbBADFIY-n"
      }
    },
    {
      "cell_type": "markdown",
      "source": [
        "#### Run"
      ],
      "metadata": {
        "id": "hRgZ_bz1JPMQ"
      }
    },
    {
      "cell_type": "code",
      "source": [
        "from pyexams.r import run as rrun\n",
        "rrun(\"print(1)\")"
      ],
      "metadata": {
        "id": "vR_eJ3DzJYFZ"
      },
      "execution_count": null,
      "outputs": []
    },
    {
      "cell_type": "code",
      "source": [
        "!pip install"
      ],
      "metadata": {
        "id": "Lb0E8PMZSP5O"
      },
      "execution_count": null,
      "outputs": []
    },
    {
      "cell_type": "code",
      "source": [
        "#ToDo: Add tests"
      ],
      "metadata": {
        "id": "W6GRspW7KWO2"
      },
      "execution_count": null,
      "outputs": []
    },
    {
      "cell_type": "markdown",
      "source": [
        "#### Output"
      ],
      "metadata": {
        "id": "oCl1FbKLJJWh"
      }
    },
    {
      "cell_type": "code",
      "source": [
        "%nb_mypy On"
      ],
      "metadata": {
        "id": "X54AFHBIcosc"
      },
      "execution_count": null,
      "outputs": []
    },
    {
      "cell_type": "code",
      "source": [
        "from pyexams.r import set_warnerr_cb, set_console_cb, run as rrun"
      ],
      "metadata": {
        "id": "FUkYmNpwIeyr"
      },
      "execution_count": null,
      "outputs": []
    },
    {
      "cell_type": "code",
      "source": [
        "def error_test():\n",
        "    rrun(\"\"\"\n",
        "      write(\"\\nprints to stderr: \", stderr())\n",
        "      for (i in 1:50) { cat(\"x\", file = stderr())}\n",
        "       write(\"\", stderr())\n",
        "    \"\"\")"
      ],
      "metadata": {
        "id": "PB23gkgBKghn"
      },
      "execution_count": null,
      "outputs": []
    },
    {
      "cell_type": "code",
      "source": [
        "set_warnerr_cb(promt= \"[R] <> \",\n",
        "               promt_format = sf ('bi', ('fg', 0, 100 , 0)),\n",
        "               msg_format = sf ('i', ('fg', 0, 200 , 0)) )\n",
        "error_test()"
      ],
      "metadata": {
        "id": "dJ3qe-GqIepi"
      },
      "execution_count": null,
      "outputs": []
    },
    {
      "cell_type": "code",
      "source": [
        "set_warnerr_cb(  msg_format = sf ('bi', ('fg', 200, 200 , 0)) )\n",
        "error_test()"
      ],
      "metadata": {
        "id": "4t69nNcmI7bv"
      },
      "execution_count": null,
      "outputs": []
    },
    {
      "cell_type": "code",
      "source": [
        "set_warnerr_cb(promt= 'default', promt_format= 'default', msg_format= 'default')\n",
        "error_test()"
      ],
      "metadata": {
        "id": "p1zYAUggJHsv"
      },
      "execution_count": null,
      "outputs": []
    },
    {
      "cell_type": "code",
      "source": [
        "set_warnerr_cb(default = True)\n",
        "error_test()"
      ],
      "metadata": {
        "id": "zR8N1-enJIZa"
      },
      "execution_count": null,
      "outputs": []
    },
    {
      "cell_type": "code",
      "source": [
        "set_console_cb(default = True)\n",
        "rrun(\"print('Standard output')\")\n",
        "set_console_cb(promt= \"[R] <> \",  msg_format = sf ('bi', ('fg', 200, 200 , 0)))\n",
        "rrun(\"print('Standard output')\")"
      ],
      "metadata": {
        "id": "HUUt56NkK_nL"
      },
      "execution_count": null,
      "outputs": []
    },
    {
      "cell_type": "code",
      "source": [
        "%nb_mypy Off"
      ],
      "metadata": {
        "id": "79iyuMCtNMQT"
      },
      "execution_count": null,
      "outputs": []
    },
    {
      "cell_type": "markdown",
      "source": [
        "### R/exams"
      ],
      "metadata": {
        "id": "55wrFbq8h-1i"
      }
    },
    {
      "cell_type": "markdown",
      "source": [
        "#### _basics (only for develoment)"
      ],
      "metadata": {
        "id": "2g85s9uGixsG"
      }
    },
    {
      "cell_type": "code",
      "source": [
        "%nb_mypy On"
      ],
      "metadata": {
        "id": "-ZDqo9XKhFqm"
      },
      "execution_count": null,
      "outputs": []
    },
    {
      "cell_type": "code",
      "source": [
        "from pyexams.exams._basics import __RawParam, __param"
      ],
      "metadata": {
        "id": "NYFut4n5iGck"
      },
      "execution_count": null,
      "outputs": []
    },
    {
      "cell_type": "code",
      "source": [
        "from pyexams.fprnt import setFormat as sf\n",
        "\n",
        "def ptest(t: bool, **kwargs):\n",
        "  print(f\"{sf('fgg','b')}OK{sf('r')}\" if t else f\"{sf('fgr','b')}KO{sf('r')}\", **kwargs)"
      ],
      "metadata": {
        "id": "zoUftnPFieWc"
      },
      "execution_count": null,
      "outputs": []
    },
    {
      "cell_type": "code",
      "source": [
        "ptest(isinstance(\"Hola\", str))\n",
        "ptest(isinstance(__RawParam(\"Hola\"), str))\n",
        "ptest(isinstance(__RawParam(\"Hola\"), __RawParam))\n",
        "ptest(not isinstance(\"Hola\", __RawParam))"
      ],
      "metadata": {
        "id": "bLT8DPOmiavS"
      },
      "execution_count": null,
      "outputs": []
    },
    {
      "cell_type": "code",
      "source": [
        "%%exout -hh 100px -cl\n",
        "__param.reset()\n",
        "ptest(__param('', \"first\")=='\\n\\t\"first\"')\n",
        "ptest(__param('a', __RawParam(\"first\"))==',\\n\\ta = first')\n",
        "ptest(__param(\"a\", \"a\")==',\\n\\ta = \"a\"')\n",
        "ptest(__param(\"a\", 1)==',\\n\\ta = 1')\n",
        "ptest(__param(\"a\", True)==',\\n\\ta = TRUE')\n",
        "ptest(__param(\"a\", [1,2,3])==',\\n\\ta = c(1, 2, 3)')\n",
        "ptest(__param(\"a\", [True,False,True])==',\\n\\ta = c(TRUE, FALSE, TRUE)')\n",
        "ptest(__param(\"a\",(\"b\",\"a\"))==',\\n\\ta = c(\"b\", \"a\")')\n",
        "ptest(__param(\"a\",(\"b\",(\"a\",\"c\")))==',\\n\\ta = list(\"b\", c(\"a\", \"c\"))')\n",
        "ptest(__param(\"a\",(3,(2,1)))==',\\n\\ta = list(3, c(2, 1))')\n",
        "ptest(__param(\"a\",dict(b=(3,(2,1))))==',\\n\\ta = list(\\n\\t\\tb = list(3, c(2, 1)))')\n"
      ],
      "metadata": {
        "id": "-VB8Z1OSi6us"
      },
      "execution_count": null,
      "outputs": []
    },
    {
      "cell_type": "code",
      "source": [
        "%nb_mypy Off"
      ],
      "metadata": {
        "id": "rGpWrOyNhICG"
      },
      "execution_count": null,
      "outputs": []
    },
    {
      "cell_type": "markdown",
      "source": [
        "#### Skeleton"
      ],
      "metadata": {
        "id": "wt_flp9pjDdz"
      }
    },
    {
      "cell_type": "code",
      "source": [
        "%nb_mypy On"
      ],
      "metadata": {
        "id": "dDex9Ui3iD8J"
      },
      "execution_count": null,
      "outputs": []
    },
    {
      "cell_type": "code",
      "source": [
        "from pyexams.exams import skeleton"
      ],
      "metadata": {
        "id": "JWkMGOUssPbO"
      },
      "execution_count": null,
      "outputs": []
    },
    {
      "cell_type": "code",
      "source": [
        "%%pushAndPopDir -swd\n",
        "%%exout -hh 200px -cl\n",
        "skeleton(dir='exams/test1')\n",
        "skeleton(dir='exams/test2', markup=\"latex\")\n",
        "skeleton(dir='exams/test3/md', addmarkup2path = False)\n",
        "skeleton(dir='exams/test4', writer = \"all\", question_type = \"all\")\n",
        "!ls -R exams | grep \":$\" | sed -e 's/:$//' -e 's/[^-][^\\/]*\\//--/g' -e 's/^/   /' -e 's/-/|/'\n",
        "print(\"-----\\n\")\n",
        "!find exams/test4 -type f -o -type d | sed -e 's/:$//' -e 's/[^-][^\\/]*\\//--/g' -e 's/^/   /' -e 's/-/|/'\n",
        "\n",
        "!rm -r exams"
      ],
      "metadata": {
        "id": "9Uu2Vd-fi34G"
      },
      "execution_count": null,
      "outputs": []
    },
    {
      "cell_type": "code",
      "source": [
        "%nb_mypy Off"
      ],
      "metadata": {
        "id": "VRyEw-KJry_k"
      },
      "execution_count": null,
      "outputs": []
    },
    {
      "cell_type": "markdown",
      "source": [
        "#### Render"
      ],
      "metadata": {
        "id": "kASSr182sYE0"
      }
    },
    {
      "cell_type": "code",
      "source": [
        "%nb_mypy On"
      ],
      "metadata": {
        "id": "bSi6NlJTnlWY"
      },
      "execution_count": null,
      "outputs": []
    },
    {
      "cell_type": "code",
      "source": [
        "from typing import cast, Any\n",
        "import random\n",
        "import time\n",
        "#from IPython.display import display\n",
        "#from IPython.core.display import display\n",
        "import ipywidgets as widgets\n",
        "from glob import glob\n",
        "\n",
        "\n",
        "from pyexams.fprnt import fprnt, setFormat as sf\n",
        "from pyexams.r import set_warnerr_cb, set_console_cb\n",
        "from pyexams.exams import skeleton, toHTML, toPDF, toNOPS, toMoodle, toPandoc, print_metadata"
      ],
      "metadata": {
        "id": "suIpXeZzs2S2"
      },
      "execution_count": null,
      "outputs": []
    },
    {
      "cell_type": "code",
      "source": [
        "from pathlib import Path\n",
        "def file2str(fn):  return Path(fn).read_text()\n",
        "\n",
        "def test_tile(title:str):\n",
        "  fprnt(\"\\n-------------------\", fg=\"m\", frmt = \"b\")\n",
        "  print(title)\n",
        "  fprnt(\"-------------------\\n\", fg=\"m\", frmt = \"b\")\n",
        "\n",
        "\n",
        "def run_test(func, *args, sep:bool = True, print_md: bool = True, **kwargs):\n",
        "  md = func(*args, **kwargs) # <------ Funtion to test\n",
        "\n",
        "  if print_md and isinstance(md, dict):\n",
        "    print_metadata(cast(dict[Any, Any], md))\n",
        "    print(f\"seed.type: {md['seeds']['type']}\\nseed.type: {md['seeds']['val']}\")\n",
        "\n",
        "  if sep: fprnt(\"\\n-------------------\\n\", fg = \"m\", frmt = \"b\")\n",
        "\n",
        "  return [md]\n",
        "\n",
        "def run_toHtml(*args, **kwargs):\n",
        "  return  run_test(toHTML, *args, **kwargs)"
      ],
      "metadata": {
        "id": "1IBLpW-5tDcM"
      },
      "execution_count": null,
      "outputs": []
    },
    {
      "cell_type": "code",
      "source": [
        "%%exout -hh 300px -cl\n",
        "%%pushAndPopDir -swd\n",
        "\n",
        "# Set R console prompt format to make R exams messages visible\n",
        "set_console_cb(promt= \"| \",  msg_format = sf ('i', ('fg', 246)))\n",
        "\n",
        "#Verbose test\n",
        "#############\n",
        "test_tile(\"Verbose test!\")\n",
        "for v in ('quiet', 'low', 'moderate', 'all'):\n",
        "  print(f\"Verbose level: {v}\")\n",
        "  run_toHtml((\"swisscapital\", [\"anova\", \"deriv\"], \"boxhist\", \"countrycodes\"), verbose = v, n = 2, gseed = 1, #toHtml params\n",
        "                  print_md = False) #Test params\n",
        "\n",
        "# Return metadata test\n",
        "######################\n",
        "test_tile(\"Return metadata test!\")\n",
        "mds = []\n",
        "for rmd in (True, False):\n",
        "  mds += run_toHtml(\"swisscapital\", return_metadata = rmd, #toHtml params\n",
        "                     sep = False, print_md = False)\n",
        "\n",
        "print(f'None: {type(mds[-1])} - Metadata: {type(mds[-2])}')\n",
        "\n",
        "# Name test #Encoding(qName) <- \"UTF-8\"\n",
        "#######################################\n",
        "test_tile(\"Name test!\")\n",
        "run_toHtml(\"swisscapital\", name = \"Test_\", n = 3, #toHtml params\n",
        "           sep = False, print_md = False) #Test params\n",
        "!ls -l *.html\n",
        "\n",
        "# Seed test\n",
        "############\n",
        "random.seed(int(time.time()))\n",
        "test_tile(\"Seed test 1!\")\n",
        "for _ in range(2):\n",
        "  run_toHtml((\"swisscapital\", [\"anova\", \"deriv\", \"boxhist\", \"countrycodes\"]), n = 2, gseed = 6) #toHtml params\n",
        "\n",
        "test_tile(\"Seed test  2!\")\n",
        "mds = []\n",
        "mds += run_toHtml((\"swisscapital\", [\"anova\", \"deriv\"], \"boxhist\", \"countrycodes\"), n = 2, seed = 5) #toHtml params\n",
        "mds += run_toHtml((\"swisscapital\", [\"anova\", \"deriv\"], \"boxhist\", \"countrycodes\"), n = 2, seed = 5) #toHtml params\n",
        "md = cast(dict[Any,Any], mds[-1])\n",
        "mds += run_toHtml((\"swisscapital\", [\"anova\", \"deriv\"], \"boxhist\", \"countrycodes\"), n = 2, seed = md['seeds']['val']) #toHtml params\n",
        "\n",
        "test_tile(\"Seed test  3!\") # Local seeds not recomended in this scenario.\n",
        "for _ in range(2):\n",
        "  run_toHtml((\"swisscapital\", [\"anova\", \"deriv\", \"boxhist\", \"countrycodes\"]), n = 2, seed = 6) #toHtml params\n",
        "\n",
        "# N-samples test\n",
        "################\n",
        "test_tile(\"N-samples test 1!\")\n",
        "for _ in range(2):\n",
        "  run_toHtml((\"swisscapital\", [\"anova\", \"deriv\"], \"boxhist\", \"countrycodes\"), nsamp = 2, n = 2, gseed = 1) #toHtml params\n",
        "\n",
        "test_tile(\"N-samples test 2!\")\n",
        "for _ in range(2):\n",
        "  run_toHtml((\"swisscapital\", [\"anova\", \"deriv\"], \"boxhist\", \"countrycodes\"), nsamp = (1,2,1,1), n = 2, gseed = 1) #toHtml params\n",
        "\n",
        "# Not recomended\n",
        "test_tile(\"N-samples test 3!\")\n",
        "for _ in range(3):\n",
        "  run_toHtml((\"swisscapital\", [\"anova\", \"deriv\"], \"boxhist\", \"countrycodes\"), nsamp = 2, n = 2, seed = 1) #toHtml params\n",
        "\n",
        "#Partial solution\n",
        "test_tile(\"N-samples test 4!\")\n",
        "for _ in range(3):\n",
        "  run_toHtml(([\"swisscapital\",\"swisscapital\"], [\"anova\", \"deriv\"], [\"boxhist\",\"boxhist\"]), nsamp = 2, n = 2, seed = 1) #toHtml params\n",
        "\n",
        "# Question and solution test\n",
        "############################\n",
        "test_tile(\"Question and solution test 1!\")\n",
        "run_toHtml(\"swisscapital\", name='T1qa_QS', gseed = 1, question = True, solution = True) #toHtml params\n",
        "run_toHtml(\"swisscapital\", name='T1qa_qS', gseed = 1, question = False, solution = True) #toHtml params\n",
        "run_toHtml(\"swisscapital\", name='T1qa_Qs', gseed = 1, question = True, solution = False) #toHtml params\n",
        "display(widgets.HBox([widgets.HTML(file2str(fn)) for fn in glob('T1qa_*1.html')]))\n",
        "\n",
        "test_tile(\"Question and solution test 2!\")\n",
        "run_toHtml(\"swisscapital\", name='T2qa_', gseed = 1, question = \"<h4>--Question--</<h4>\", solution = \"<h4>--Solution--</<h4>\")\n",
        "display(widgets.HBox([widgets.HTML(file2str('T2qa_1.html'))]))\n",
        "\n",
        "# Folder test!\n",
        "##############\n",
        "test_tile(\"Folder test!\")\n",
        "run_toHtml(\"swisscapital\",  odir=\"exams/result\", edir=\"exams/markdown\",  tdir=\"exams/tmp\", sdir=\"exams/stmp\", #toHtml params\n",
        "           sep = False, print_md = False) #Test params\n",
        "!ls -R exams | grep \":$\" | sed -e 's/:$//' -e 's/[^-][^\\/]*\\//--/g' -e 's/^/   /' -e 's/-/|/'\n",
        "!rm -r \"exams/result\" \"exams/tmp\" \"exams/stmp\"\n",
        "\n",
        "# exshuffle test!\n",
        "##################\n",
        "test_tile(\"exshuffle test!\")\n",
        "run_toHtml((\"anova\", \"anova\"),  gseed = 571940514); #toHtml params\n",
        "run_toHtml((\"anova\", \"anova\"), n = 2, exshuffle=2, verbose='low', gseed = 571940514); #toHtml params\n",
        "\n",
        "# RDS test!\n",
        "###########\n",
        "test_tile(\"RDS test!\")\n",
        "run_toHtml(\"anova\", rds = True); #toHtml params\n",
        "!ls *.rds\n",
        "!rm *.rds\n",
        "\n",
        "\n",
        "#ToDo: Additional Tests\n",
        "#Img resolution\n",
        "\n",
        "#toHtml(\"p\", template = \"template\", svg = True, mathjax = True)\n",
        "#toHtml(\"p\", base64 = True)\n",
        "#toHtml(\"p\", base64 = [\"png\"])\n",
        "\n",
        "set_console_cb(default = True)\n",
        "!rm *.html"
      ],
      "metadata": {
        "id": "EWKqsdywtIAn"
      },
      "execution_count": null,
      "outputs": []
    },
    {
      "cell_type": "code",
      "source": [
        "toPandoc(\"anova\",seed = 2, verbose='low')"
      ],
      "metadata": {
        "id": "bb6wy_ruteb-"
      },
      "execution_count": null,
      "outputs": []
    },
    {
      "cell_type": "code",
      "source": [
        "%%pushAndPopDir -swd\n",
        "%nb_mypy Off\n",
        "mds = [toHTML([\"swisscapital\", [\"anova\", \"deriv\"], \"boxhist\", \"countrycodes\"], **seed) \\\n",
        "       for seed in ({'seed':1}, {'gseed':1})]\n",
        "!rm *.html\n",
        "%nb_mypy On"
      ],
      "metadata": {
        "id": "lY01XZPwtSSQ"
      },
      "execution_count": null,
      "outputs": []
    },
    {
      "cell_type": "code",
      "source": [
        "%%exout -hh 100px -cl\n",
        "#%nb_mypy Off\n",
        "\n",
        "for md in mds:\n",
        "  fprnt('\\n-------------------', fg='m')\n",
        "  print_metadata(md)\n",
        "  fprnt(md[\"seeds\"],fg=242)\n",
        "\n",
        "#%nb_mypy On"
      ],
      "metadata": {
        "id": "4A48-W7ntUey"
      },
      "execution_count": null,
      "outputs": []
    },
    {
      "cell_type": "code",
      "source": [
        "%%pushAndPopDir -swd\n",
        "import json\n",
        "\n",
        "mdsfn = [f'metadata{i}.json' for i in range(len(mds))]\n",
        "for fn, md in zip(mdsfn, mds):\n",
        "  with open(fn, 'w') as f:\n",
        "    json.dump(md, f, indent=2)"
      ],
      "metadata": {
        "id": "a3M6NVQCtW5q"
      },
      "execution_count": null,
      "outputs": []
    },
    {
      "cell_type": "code",
      "source": [
        "%%pushAndPopDir -swd\n",
        "import zipfile\n",
        "with zipfile.ZipFile('metadata.zip', 'w') as zf:\n",
        "  for fn in mdsfn: zf.write(fn)"
      ],
      "metadata": {
        "id": "qtb5vG4htYc0"
      },
      "execution_count": null,
      "outputs": []
    },
    {
      "cell_type": "code",
      "source": [
        "%%pushAndPopDir -swd\n",
        "from google.colab import files\n",
        "files.download(\"metadata.zip\")\n",
        "!rm metadata.zip metadata*.json"
      ],
      "metadata": {
        "id": "4poyCytFtZut"
      },
      "execution_count": null,
      "outputs": []
    }
  ]
}