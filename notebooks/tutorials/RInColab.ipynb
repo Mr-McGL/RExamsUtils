{
  "nbformat": 4,
  "nbformat_minor": 0,
  "metadata": {
    "colab": {
      "private_outputs": true,
      "provenance": [],
      "collapsed_sections": [
        "_gSAONEm7KFn",
        "8AKmZpvuVWC2",
        "J5_vx08gz99u",
        "mo3XZ-SZnotw",
        "6PCtlP6AqJKf",
        "QR78onUNm0Hk",
        "58iNf0Z6v3g9",
        "8uQEXWSlv2QE",
        "og8oYa9urMCr"
      ],
      "authorship_tag": "ABX9TyNadJzpIuaRwNb6filxUgv9",
      "include_colab_link": true
    },
    "kernelspec": {
      "name": "python3",
      "display_name": "Python 3"
    },
    "language_info": {
      "name": "python"
    }
  },
  "cells": [
    {
      "cell_type": "markdown",
      "metadata": {
        "id": "view-in-github",
        "colab_type": "text"
      },
      "source": [
        "<a href=\"https://colab.research.google.com/github/Mr-McGL/RExamsUtils/blob/dev%2Fmgarcia/notebooks/tutorials/RInColab.ipynb\" target=\"_parent\"><img src=\"https://colab.research.google.com/assets/colab-badge.svg\" alt=\"Open In Colab\"/></a>"
      ]
    },
    {
      "cell_type": "markdown",
      "source": [
        "<table width=\"100%\" align=\"center\">\n",
        "  <tr>\n",
        "    <td width=\"90px\" align=\"left\">\n",
        "      <a href=\"https://www.r-exams.org\">\n",
        "      <img src=\"https://github.com/Mr-McGL/RExamsUtilsBinaries/raw/main/imgs/RExams_logo_dgray.png\">\n",
        "    </td>\n",
        "    <td width=\"120px\" align=\"left\">\n",
        "      <a href=\"https://www.urjc.es\"> <img src=\"https://raw.githubusercontent.com/Mr-McGL/RExamsUtilsBinaries/main/imgs/URJC_logo_BN_DG.jpg\" alt=\"URJC\" width=\"100%\"></a>\n",
        "    </td>\n",
        "    <td align=\"center\">\n",
        "      <font size=\"2\" color=\"#999999\"> <em>© 2023 by Marcos García Lorenzo (<a href=https://gestion2.urjc.es/pdi/grupos-innovacion/mimic>MIMIC</a> - <a href=https://www.urjc.es>URJC</a>). All rights reserved. </em></font><br>\n",
        "      <font size=\"3px\"></font>\n",
        "      <font size=\"1px\"><a href=#sec:dis>[Click here for license and disclaimer information]<a></font>\n",
        "    </td>\n",
        "    <td width=\"70px\" align=\"right\"></td>\n",
        "    <td width=\"100px\" align=\"right\">\n",
        "      <a href=\"https://creativecommons.org/licenses/by-nc-sa/4.0/legalcode\"> <img src=\"https://licensebuttons.net/l/by-nc-sa/3.0/88x31.png\" alt=\"CC BY-NC-SA\" width=\"100%\"></a>\n",
        "    </td>\n",
        "  </tr>\n",
        "</table>\n",
        "\n",
        "# How to use *R* in Colab"
      ],
      "metadata": {
        "id": "1tC39tf1AsyX"
      }
    },
    {
      "cell_type": "markdown",
      "source": [
        "## Abstract\n",
        "\n",
        "This notebook takes a closer look at the two main options available for using R in Google Colab. Join us as we explore how to enable this powerful tool in your Colab notebooks!\n",
        "\n",
        "<br>\n",
        "\n",
        "<details>\n",
        "<summary><strong> What is <emph>Colab</emph>?</strong></summary>\n",
        "\n",
        "***Google Colab***[$^{[1]}$](https://colab.research.google.com/), short for ***Google Colaboratory***, is a cloud-based development environment provided by Google. It allows users to write, run, and collaborate on Python code using Jupyter notebooks, without the need for any local installation. Google Colab provides a web-based interface where users can create and edit notebooks.\n",
        "\n",
        "In addition to Python, Google Colab also provides support for other languages like R and Julia, allowing users to create notebooks specific to those languages.\n",
        "\n",
        "Overall, Google Colab provides a convenient and accessible platform for coding, experimenting, and sharing code, making it a popular choice for data scientists, researchers, and developers.\n",
        "\n",
        "<br>\n",
        "\n",
        "</details>\n",
        "\n",
        "<details>\n",
        "<summary> <strong> What is <emph>R</emph>?</strong></summary>\n",
        "\n",
        "***R***[$^{[2]}$](https://www.r-project.org/) is an open-source programming language and software environment designed\n",
        "specifically for statistical analysis and data visualization. It was created by Ross Ihaka and Robert Gentleman at the University of Auckland, New Zealand. R has become extremely popular among data scientists, statisticians, and analysts due to its flexibility, data manipulation capabilities, and wide range of statistical and graphical tools.\n",
        "\n",
        "The R language is characterized by its flexible syntax. It enables users to write and execute commands interactively in the command line or create complete scripts and programs. Additionally, R offers a wide range of high-quality graphics that allow for effective data visualization.\n",
        "\n",
        "Being open-source, R has an active community of users and developers who contribute packages, documentation, and support. This makes R a powerful and versatile choice for data analysis and statistical research in a wide range of fields, from science and medicine to social sciences and economics.\n",
        "\n",
        "<br>\n",
        "</details>\n",
        "\n",
        "<details>\n",
        "<summary> <strong> Alternatives</strong></summary>\n",
        "\n",
        "* [*Option 1.*](#sec:op1) Open your notebook in an R runtime (R code only)\n",
        "* [*Option 2.*](#sec:op2) Embed R code into a notebook running on a Python runtime (allows both Python and R code)\n",
        "\n",
        "<br>\n",
        "</details>\n"
      ],
      "metadata": {
        "id": "NDKsOgXuIscf"
      }
    },
    {
      "cell_type": "markdown",
      "source": [
        "## <a name=\"sec:op1\"></a>*Option 1:* Create an R Notebook in Google Colab"
      ],
      "metadata": {
        "id": "_gSAONEm7KFn"
      }
    },
    {
      "cell_type": "markdown",
      "source": [
        "This option utilizes the IR kernel nativelly available in Colab, creating a dedicated environment for executing R code. While it offers a seamless experience for R programming, it is important to note that Python statements are not supported. Additionally, this runtime does not include the IPython functionalities, such as the ability to execute shell commands using prefixes (`!`) or utilize cell magics (`%%`) and line magics (`%`).\n",
        "\n",
        "***How to:***\n",
        "\n",
        "* The following link  opens a new Google Colab page with an R kernel ready for you to start coding: https://colab.research.google.com/notebook#create=true&language=r\n",
        "* To check the runtime kernel, simply do the following:\n",
        "  1. Go to *Runtime*[$^{\\diamond}$](#label1) menu at the top of the Colab interface\n",
        "  2. From the dropdown menu, select *Change runtime type*[$^\\star$](#label2)\n",
        "  3. A dialog box will appear, showing the current runtime type and options\n",
        "  4. Verify that the option for *R* is selected under the *Runtime type*\n",
        "  [$^\\times$](#label3)  section\n",
        "\n",
        "\n",
        "<br>\n",
        "\n",
        "<details>\n",
        "<summary> <strong> Figures: </strong> </summary>\n",
        "<br>\n",
        "\n",
        "<table width=\"95%\"\">\n",
        "  <tr>\n",
        "    <td><img src=\"https://user-images.githubusercontent.com/101522927/239479821-bb3cacb7-ade2-4847-ab88-72ad7cde2a54.png\" alt=\"Miniatura 1\"></td>\n",
        "    <td><img src=\"https://user-images.githubusercontent.com/101522927/239480214-b7797663-9522-4d2a-870f-e23caff0b8f7.png\" alt=\"Miniatura 2\"></td>\n",
        "  </tr>\n",
        "</table>\n",
        "\n",
        "<br>\n",
        "\n",
        "</details>\n",
        "\n",
        "<details>\n",
        "<summary> <strong> Links </strong> </summary>\n",
        "\n",
        "For more information, you can refer to the following link:\n",
        "* [IRKernel repo](https://github.com/IRkernel/IRkernel)\n",
        "* [IRKernel examples](https://github.com/IRkernel/IRkernel/tree/master/example-notebooks)\n",
        "\n",
        "</details>\n",
        "\n",
        "---\n",
        "\n",
        "<a name=\"label1\">$^\\diamond$</a> *Entrono de ejecucción*  \n",
        "<a name=\"label2\">$^\\star$</a> *Cambiar tipo de entorno de ejeccución*  \n",
        "<a name=\"label3\">$^\\times$</a> *Tipo de entorno de ejeccución*\n",
        "\n",
        "\n"
      ],
      "metadata": {
        "id": "gGJ9jMq0z99u"
      }
    },
    {
      "cell_type": "markdown",
      "source": [
        "## <a name=\"sec:op1\"></a>*Option 2:* Embed R code into your Python notebook  "
      ],
      "metadata": {
        "id": "NVj00aQlz99t"
      }
    },
    {
      "cell_type": "markdown",
      "source": [
        "The *rpy2*[$^{[3]}$](https://rpy2.github.io/) package provides an interface between Python and R, allowing you to write R code within a Python runtime. This means that you can embed R code into your Python environment. With this integration, you can easily combine the strengths of both languages to analyze data, create visualizations, and perform various data science tasks within your Python notebook.\n",
        "\n",
        "This guide will walk you through the installation of *rpy2* in Google Colab. It will show you how to execute R code and explain how to access R variables from Python code and vice versa.\n"
      ],
      "metadata": {
        "id": "v5tFLlDi0kwv"
      }
    },
    {
      "cell_type": "markdown",
      "source": [
        "### 2.1 Instalation"
      ],
      "metadata": {
        "id": "SvoDhniFVBgL"
      }
    },
    {
      "cell_type": "markdown",
      "source": [
        "\n",
        "#### **Install *rpy2* in your local machine**  \n",
        "\n",
        "To install *rpy2* in a **local** Jupyter environment permanently, you can copy and execute the following code in a cell of your notebook:\n",
        "\n",
        "```py\n",
        "!pip install rpy2\n",
        "```\n",
        "\n",
        "<u>***Note:***</u> By running this code **once**, the *rpy2* package will be installed in your Jupyter environment **permanently**, and you will be able to use it across different notebooks and sessions.\n"
      ],
      "metadata": {
        "id": "8AKmZpvuVWC2"
      }
    },
    {
      "cell_type": "code",
      "source": [
        "#@title ####  **Install *rpy2* in Colab** { display-mode: \"form\" }\n",
        "#@markdown Although Google Colab comes with the *rpy2* package pre-installed, there have been reported issues with this default version (see\n",
        "#@markdown [stackoverflow](https://stackoverflow.com/questions/74283327/conversion-py2rpy-not-defined-for-objects-of-type-class-str)).\n",
        "#@markdown  In such cases, it may be necessary to downgrade *rpy2* to version *3.5.1*. You can do this by executing the following code in a cell:\n",
        "#@markdown ```py\n",
        "#@markdown !pip install rpy2==3.5.1\n",
        "#@markdown ```\n",
        "#@markdown <u>***Note:***</u> In Google Colab, the package installations are not persistent across runtime restarts.\n",
        "#@markdown  Whenever you reset or restart the runtime environment, you'll need to downgrade the *rpy2* package.\n",
        "#@markdown\n",
        "#@markdown <font color=#ff90> <u>**Click the button ![image](https://user-images.githubusercontent.com/101522927/239503327-25ab8bf5-ad27-45b6-9c2f-39d303eec112.png)\n",
        "#@markdown on the left to install *rpy2***.</u></font>\n",
        "#\n",
        "from importlib.metadata import version as pkg_version\n",
        "from packaging.version import parse as get_version\n",
        "\n",
        "if get_version(pkg_version(\"rpy2\")) > get_version(\"3.5.1\"):\n",
        "  print(\"\\x1B[1m\\x1B[4m\\x1b[31mTo avoid any potential issues with newer versions, rpy2 will be downgraded (rpy2==3.5.1)\\x1b[0m\")\n",
        "  !(pip install rpy2==3.5.1)\n",
        "  #output = !(pip install rpy2==3.5.1) 2> null\n",
        "  #print(\"\\x1B[1m\\x1B[4m\\x1b[31mPlease rerun the notebook from the beginning.\\x1b[0m\")\n",
        "  #quit()\n",
        "  #%reset -f\n",
        "else:\n",
        "  print(f\"\\x1B[1m\\x1B[4m\\x1b[32mIt is not necessary to downgrade to current rpy2 version (rpy2=={pkg_version('rpy2')}).\\x1b[0m\")\n"
      ],
      "metadata": {
        "id": "JLpemIPp7KFm"
      },
      "execution_count": null,
      "outputs": []
    },
    {
      "cell_type": "code",
      "source": [
        " #Check current rpy2 version\n",
        " !pip freeze |grep rpy2"
      ],
      "metadata": {
        "id": "7rSXPGQFepOb"
      },
      "execution_count": null,
      "outputs": []
    },
    {
      "cell_type": "markdown",
      "source": [
        "#### Magic Commands\n",
        "The *rpy2* package provides magic commands. To use these commands, First, you need to load the following extension."
      ],
      "metadata": {
        "id": "L7PxiDjDFPVa"
      }
    },
    {
      "cell_type": "code",
      "source": [
        "#Load rpy2 extension\n",
        "%reload_ext rpy2.ipython"
      ],
      "metadata": {
        "id": "WetTthLHFCKB"
      },
      "execution_count": null,
      "outputs": []
    },
    {
      "cell_type": "markdown",
      "source": [
        "### 2.2 How to write and run R code in your notebook"
      ],
      "metadata": {
        "id": "6pE0s_J3f5p3"
      }
    },
    {
      "cell_type": "markdown",
      "source": [
        "There are two alternatives: command magics and the use of package objects."
      ],
      "metadata": {
        "id": "4LDlvAMlqgwW"
      }
    },
    {
      "cell_type": "markdown",
      "source": [
        "#### 2.2.1 Command magics\n",
        "\n",
        "The *rpy2* package provides a line magic command (`%R`) and a cell magic command (`%%R`), allowing you to execute R code seamlessly.\n"
      ],
      "metadata": {
        "id": "z5dUX605g5MN"
      }
    },
    {
      "cell_type": "markdown",
      "source": [
        "Now, with the extension loaded, you can make use of the commands mentioned earlier. Here are a few examples:\n",
        "##### 1. Line Magic Command:"
      ],
      "metadata": {
        "id": "J5_vx08gz99u"
      }
    },
    {
      "cell_type": "code",
      "source": [
        "#The line magic command %R returns an R data structure. To capture and store\n",
        "#this value without displaying it as output, you can use the variable 'v'\n",
        "v = %R print(\"Hello, R!\")\n",
        "\n",
        "#Uncomment this to show its value\n",
        "#type(v)"
      ],
      "metadata": {
        "id": "nE79yE-giLIx"
      },
      "execution_count": null,
      "outputs": []
    },
    {
      "cell_type": "markdown",
      "source": [
        "##### 2. Cell Magic Command"
      ],
      "metadata": {
        "id": "mo3XZ-SZnotw"
      }
    },
    {
      "cell_type": "code",
      "source": [
        "%%R\n",
        "x <- c(1, 2, 3, 4, 5)\n",
        "print (c(mean(x),sd(x)))\n",
        "x"
      ],
      "metadata": {
        "id": "SdRzkyW8noHn"
      },
      "execution_count": null,
      "outputs": []
    },
    {
      "cell_type": "markdown",
      "source": [
        "##### 3. Main arguments"
      ],
      "metadata": {
        "id": "RIK0Wj9YrW1q"
      }
    },
    {
      "cell_type": "markdown",
      "source": [
        "* `-n`, `--noreturn`: Force the magic to not return anything.\n",
        "* `-i`, `--input`: Names of input variable from shell.user_ns to be assigned to R variables of the same names after using the Converter self.converter. Multiple names can be passed separated only by commas with no whitespace.\n",
        "* `-o`, `--output`: Names of variables to be pushed from rpy2 to shell.user_ns after executing cell body (rpy2's internal facilities will apply ri2ro as appropriate. Multiple names can be passed separated only by commas with no whitespace."
      ],
      "metadata": {
        "id": "xAQ3XZUn0B1P"
      }
    },
    {
      "cell_type": "code",
      "source": [
        "import numpy as np\n",
        "Z = np.array([1,4,5,10])\n",
        "%R -i Z mean(Z)"
      ],
      "metadata": {
        "id": "Mqn3m8N6tSjg"
      },
      "execution_count": null,
      "outputs": []
    },
    {
      "cell_type": "code",
      "source": [
        "%R -o W W=Z*mean(Z)\n",
        "W"
      ],
      "metadata": {
        "id": "A4MJsQcftlFv"
      },
      "execution_count": null,
      "outputs": []
    },
    {
      "cell_type": "code",
      "source": [
        "%R print(1)"
      ],
      "metadata": {
        "id": "ja4zIkX7twRY"
      },
      "execution_count": null,
      "outputs": []
    },
    {
      "cell_type": "code",
      "source": [
        "%R -n print(1)"
      ],
      "metadata": {
        "id": "z9Q_caj2t0Ov"
      },
      "execution_count": null,
      "outputs": []
    },
    {
      "cell_type": "markdown",
      "source": [
        "##### 4. Other line magics:\n",
        "\n"
      ],
      "metadata": {
        "id": "YEJb5hGPuBEr"
      }
    },
    {
      "cell_type": "markdown",
      "source": [
        "* `%Rpush`: A line-level magic for R that pushes variables from python to rpy2. The line should be made up of whitespace separated variable names in the IPython namespace.\n",
        "* `%Rpull` A line-level magic for R that pulls variables from python to rpy2.This is useful when a structured array is desired as output, or when the object in R has mixed data types. See the `%%R` docstring for more examples.\n",
        "* `%Rget` Return an object from rpy2, possibly as a structured array (if possible). Similar to Rpull except only one argument is accepted and the value is returned rather than pushed to self.shell.user_ns. Note: Beware that R names can have '.' so this is not fool proof.  To avoid this, don't name your R objects with '.'s..."
      ],
      "metadata": {
        "id": "5vWuMl2n0Fh1"
      }
    },
    {
      "cell_type": "code",
      "source": [
        "import numpy as np\n",
        "X = np.array([4.5,6.3,7.9])\n",
        "%Rpush X\n",
        "%R -n print(mean(X))\n"
      ],
      "metadata": {
        "id": "e1UOxRQGxZpT"
      },
      "execution_count": null,
      "outputs": []
    },
    {
      "cell_type": "code",
      "source": [
        "%R x = c(3,4,6.7); y = c(4,6,7); z = c('a',3,4)\n",
        "%Rpull x  y z\n",
        "print(type(z))\n",
        "print(x,y,z)\n",
        "print(list(x),list(y),list(z))"
      ],
      "metadata": {
        "id": "FEcm3edwxrkw"
      },
      "execution_count": null,
      "outputs": []
    },
    {
      "cell_type": "code",
      "source": [
        "x = %Rget x\n",
        "y = %Rget y\n",
        "z = %Rget z\n",
        "\n",
        "print(x,y,z)"
      ],
      "metadata": {
        "id": "vJjNZH5fxz2S"
      },
      "execution_count": null,
      "outputs": []
    },
    {
      "cell_type": "markdown",
      "source": [
        "Additional parameters, cell magics, and line magics can be found [here](https://rpy2.github.io/doc/v2.9.x/html/_modules/rpy2/ipython/rmagic.html)   "
      ],
      "metadata": {
        "id": "UNjp3H-1r8jz"
      }
    },
    {
      "cell_type": "markdown",
      "source": [
        "#### 2.2.2 *rpy2* modules to execute R code"
      ],
      "metadata": {
        "id": "6PCtlP6AqJKf"
      }
    },
    {
      "cell_type": "markdown",
      "source": [
        "To execute R code, you can utilize the object `rpy2.robjects.r`.\n",
        "\n",
        "***Example:***"
      ],
      "metadata": {
        "id": "miackwqBryqS"
      }
    },
    {
      "cell_type": "code",
      "source": [
        "from rpy2.robjects import r as runRCode"
      ],
      "metadata": {
        "id": "0OUctbmhsJCI"
      },
      "execution_count": null,
      "outputs": []
    },
    {
      "cell_type": "code",
      "source": [
        "v = runRCode('''\n",
        "    square <- function(x) {\n",
        "        x^2\n",
        "    }\n",
        "    x <- c (square(1),square(2))\n",
        "    print(x)\n",
        "''')\n",
        "v"
      ],
      "metadata": {
        "id": "XNnoWbajsHmt"
      },
      "execution_count": null,
      "outputs": []
    },
    {
      "cell_type": "markdown",
      "source": [
        "### 2.3 Interoperability"
      ],
      "metadata": {
        "id": "68c4XAeboOfx"
      }
    },
    {
      "cell_type": "markdown",
      "source": [
        "\n",
        "With rpy2, you can achieve bidirectional interaction between R and Python:\n",
        "\n",
        "1. ***Data exchange***: rpy2 enables seamless data transfer between R and Python. It allows you to convert R objects to Python objects (e.g., numpy arrays or pandas data frames) and vice versa.\n",
        "2. ***Calling R functions from Python***: rpy2 provides a straightforward method to call R functions directly from Python. You can import R packages and utilize their functions in Python code.\n",
        "3. ***Calling Python functions from R***: Conversely, rpy2 also allows you to call Python functions from R."
      ],
      "metadata": {
        "id": "sJE-c0FRpAzw"
      }
    },
    {
      "cell_type": "markdown",
      "source": [
        "#### 2.3.1 Accessing R variables in Python"
      ],
      "metadata": {
        "id": "lVZQDMbpvp1F"
      }
    },
    {
      "cell_type": "markdown",
      "source": [
        "\n",
        "##### **Method 1**:\n",
        "\n",
        "The line magic command can be utilized to retrieve the values of R variables.\n",
        "\n",
        "***Example 1:***  \n",
        "*'numeric'* variables in R are transformed into *NumPy arrays*, even when they have only one element. This behavior ensures consistency in data structures when exchanging variables between R and Python."
      ],
      "metadata": {
        "id": "h6Ie_w5Qwvzd"
      }
    },
    {
      "cell_type": "code",
      "source": [
        "# Let's assign numeric values to two variables in R:\n",
        "%%R\n",
        "x1 = 1\n",
        "x2 = c(1,2,3,4)\n",
        "\n",
        "print (class(x1))\n",
        "print (class(x2))"
      ],
      "metadata": {
        "id": "CjCtZWHUwvCI"
      },
      "execution_count": null,
      "outputs": []
    },
    {
      "cell_type": "code",
      "source": [
        "#numeric variables are transformed into NumPy arrays.\n",
        "v1 = %R x1\n",
        "v2 = %R x2\n",
        "v3 = %R x3 = seq(0, 2*pi, length.out=4)\n",
        "v4 = %R 1:4\n",
        "\n",
        "print (f\"V1 -- Type: {type(v1)}  -- Val: {v1}\")\n",
        "print (f\"V2 -- Type: {type(v2)}  -- Val: {v2}\")\n",
        "print (f\"V3 -- Type: {type(v3)}  -- Val: {v3}\")\n",
        "print (f\"V4 -- Type: {type(v4)}  -- Val: {v4}\")"
      ],
      "metadata": {
        "id": "nchLuJo5yWWl"
      },
      "execution_count": null,
      "outputs": []
    },
    {
      "cell_type": "markdown",
      "source": [
        "***Example 2:***  \n",
        "*'dataframes'* in R are transformed into *Pandas dataframes*."
      ],
      "metadata": {
        "id": "r3Bkpual0EFZ"
      }
    },
    {
      "cell_type": "code",
      "source": [
        "%%R\n",
        "df <- data.frame(\n",
        "  \"array1\" = c(\"a\", \"b\", \"c\", \"d\"),\n",
        "  \"array2\" = c(1.2, 3.4, 4.5, 5.6)\n",
        ")\n",
        "\n",
        "print(df)\n",
        "class(df)"
      ],
      "metadata": {
        "id": "CS6RjPBZ0Z8G"
      },
      "execution_count": null,
      "outputs": []
    },
    {
      "cell_type": "code",
      "source": [
        "df = %R df\n",
        "print(type(df))\n",
        "df"
      ],
      "metadata": {
        "id": "U8gO2UL-0g-A"
      },
      "execution_count": null,
      "outputs": []
    },
    {
      "cell_type": "markdown",
      "source": [
        "***Example 3:***  \n",
        "Other R types need to be explicitly converted"
      ],
      "metadata": {
        "id": "1EXnj2mk3JVg"
      }
    },
    {
      "cell_type": "code",
      "source": [
        "#Everything is an array.\n",
        "r_s = %R s <- \"Hello\"\n",
        "_ = %R print(class(s))\n",
        "print (f\"r_s: -- Type: {type(r_s)}\")\n",
        "\n",
        "#Get the first position\n",
        "py_s = r_s[0]\n",
        "print (f\" py_s -- Type: {type(py_s)}\")\n",
        "py_s"
      ],
      "metadata": {
        "id": "mhxwmUg8296W"
      },
      "execution_count": null,
      "outputs": []
    },
    {
      "cell_type": "code",
      "source": [
        "#Everything is an array.\n",
        "r_l = %R s <- c(\"Hello\",\"Bye\")\n",
        "tmp = %R print(class(s))\n",
        "print (\"--\\n\",f\"r_l -- Type: {type(r_l)}\", \"\\n--\")\n",
        "\n",
        "#Get the first position\n",
        "py_l = list(r_l)\n",
        "print (f\" py_l -- Type: {type(py_l)}\",\"\\n--\")\n",
        "py_l"
      ],
      "metadata": {
        "id": "vi36bRye5q5C"
      },
      "execution_count": null,
      "outputs": []
    },
    {
      "cell_type": "markdown",
      "source": [
        "##### **Method 2**:\n",
        "\n",
        "To retrieve the values of an R variable, you can utilize the object `rpy2.robjects.r`."
      ],
      "metadata": {
        "id": "7ZUonYHY6m64"
      }
    },
    {
      "cell_type": "code",
      "source": [
        "%%R\n",
        "s <- \"Hello\"\n",
        "s"
      ],
      "metadata": {
        "id": "F-klhXNW8M-3"
      },
      "execution_count": null,
      "outputs": []
    },
    {
      "cell_type": "code",
      "source": [
        "import rpy2.robjects as ro\n",
        "\n",
        "# Assuming you have an R variable named my_string\n",
        "r_s = ro.r['s']\n",
        "\n",
        "# Convert the R variable to a Python string\n",
        "py_s = r_s[0]\n",
        "print (f\"py_s -- Type: {type(py_s)}\")\n",
        "py_s"
      ],
      "metadata": {
        "id": "ui0pg8mI5EzL"
      },
      "execution_count": null,
      "outputs": []
    },
    {
      "cell_type": "markdown",
      "source": [
        "##### **Method 3**:\n",
        "\n",
        "Arguments and command magic (see above):\n",
        "\n",
        "* `%R -o`, `R --output`: Names of variables to be pushed from rpy2 to shell.user_ns after executing cell body (rpy2's internal facilities will apply ri2ro as appropriate. Multiple names can be passed separated only by commas with no whitespace.\n",
        "* `%Rpull` A line-level magic for R that pulls variables from python to rpy2.This is useful when a structured array is desired as output, or when the object in R has mixed data types. See the `%%R` docstring for more examples.\n",
        "* `%Rget` Return an object from rpy2, possibly as a structured array (if possible). Similar to Rpull except only one argument is accepted and the value is returned rather than pushed to self.shell.user_ns. Note: Beware that R names can have '.' so this is not fool proof.  To avoid this, don't name your R objects with '.'s..."
      ],
      "metadata": {
        "id": "C0UW8NuR0VMW"
      }
    },
    {
      "cell_type": "markdown",
      "source": [
        "#### 2.3.2 Accessing Python variables in R"
      ],
      "metadata": {
        "id": "uBiAJGIUv3vm"
      }
    },
    {
      "cell_type": "markdown",
      "source": [
        "##### **Method 1**:\n",
        "Arguments and command magic (see above):\n",
        "* `%R -i`, `%R --input`: Names of input variable from shell.user_ns to be assigned to R variables of the same names after using the Converter self.converter. Multiple names can be passed separated only by commas with no whitespace.\n",
        "* `%Rpush`: A line-level magic for R that pushes variables from python to rpy2. The line should be made up of whitespace separated variable names in the IPython namespace."
      ],
      "metadata": {
        "id": "QR78onUNm0Hk"
      }
    },
    {
      "cell_type": "code",
      "source": [
        "py_s1 = \"Python string1\"\n",
        "py_s2 = \"Python string2\"\n",
        "\n",
        "%R -i py_s1"
      ],
      "metadata": {
        "id": "90srqivcmzp-"
      },
      "execution_count": null,
      "outputs": []
    },
    {
      "cell_type": "code",
      "source": [
        "%%R -i py_s2\n",
        "print(py_s1)\n",
        "print(py_s2)"
      ],
      "metadata": {
        "id": "5fRgigyomv7Q"
      },
      "execution_count": null,
      "outputs": []
    },
    {
      "cell_type": "code",
      "source": [
        "py_s11 = \"Python string1\"\n",
        "py_s22 = \"Python string2\"\n",
        "\n",
        "%Rpush py_s11 py_s22"
      ],
      "metadata": {
        "id": "WcEpswmPqD9H"
      },
      "execution_count": null,
      "outputs": []
    },
    {
      "cell_type": "code",
      "source": [
        "py_s1 = \"Python string1\"\n",
        "py_s2 = \"Python string2\"\n",
        "\n",
        "%R -i py_s1\n",
        "print(py_s11)\n",
        "print(py_s22)"
      ],
      "metadata": {
        "id": "-dDnWI7Mpzdl"
      },
      "execution_count": null,
      "outputs": []
    },
    {
      "cell_type": "markdown",
      "source": [
        "##### **Method 2**:\n",
        "\n",
        "To retrieve the values of an R variable, you can utilize the object `rpy2.robjects.r`."
      ],
      "metadata": {
        "id": "3q5-Uc-WmwXL"
      }
    },
    {
      "cell_type": "markdown",
      "source": [
        "To access Python variables in R using rpy2, you can use the `robjects` module."
      ],
      "metadata": {
        "id": "OlppxVJo9gKI"
      }
    },
    {
      "cell_type": "markdown",
      "source": [
        "***Examples:***  \n",
        "Implicit and explicit casting"
      ],
      "metadata": {
        "id": "YGwFxG9q96oK"
      }
    },
    {
      "cell_type": "code",
      "source": [
        "import rpy2.robjects as ro\n",
        "import numpy as np"
      ],
      "metadata": {
        "id": "ecWCzL9f9fyj"
      },
      "execution_count": null,
      "outputs": []
    },
    {
      "cell_type": "code",
      "source": [
        "#Implicit\n",
        "py_s = \"Phython Variable\"\n",
        "ro.globalenv['s'] = py_s\n",
        "\n",
        "#Explicit\n",
        "py_np = np.array([1]*3)\n",
        "ro.globalenv['x'] = ro.FloatVector(py_np)\n",
        "\n",
        "#Implicit\n",
        "py_l = [1, \"Hello\"]\n",
        "ro.globalenv['l'] = py_l"
      ],
      "metadata": {
        "id": "roKpsTsx-DCA"
      },
      "execution_count": null,
      "outputs": []
    },
    {
      "cell_type": "code",
      "source": [
        "%%R\n",
        "print(class(s))\n",
        "print(s)"
      ],
      "metadata": {
        "id": "Dqbr-4mC-2fc"
      },
      "execution_count": null,
      "outputs": []
    },
    {
      "cell_type": "code",
      "source": [
        "%%R\n",
        "print(class(x))\n",
        "print(x)"
      ],
      "metadata": {
        "id": "_ozXHq5ZGacT"
      },
      "execution_count": null,
      "outputs": []
    },
    {
      "cell_type": "code",
      "source": [
        "%%R\n",
        "print(class(l))\n",
        "print(l)"
      ],
      "metadata": {
        "id": "vqmCxPfZGSVd"
      },
      "execution_count": null,
      "outputs": []
    },
    {
      "cell_type": "markdown",
      "source": [
        "#### 2.3.3 Calling R functions from Python"
      ],
      "metadata": {
        "id": "58iNf0Z6v3g9"
      }
    },
    {
      "cell_type": "markdown",
      "source": [
        "A great features of the *rpy2* is that it not only allows you to call functions you have implemented in R, but also functions from R packages. This opens up a whole world of possibilities, as R has a vast ecosystem of packages covering various domains and statistical techniques.\n",
        "\n",
        "***Example 1:***  Using the R package *stats*"
      ],
      "metadata": {
        "id": "elua-wjwedr4"
      }
    },
    {
      "cell_type": "code",
      "source": [
        "import rpy2.robjects as ro\n",
        "\n",
        "# Import the 'stats' package from R\n",
        "stats = ro.packages.importr('stats')\n",
        "\n",
        "# Cast the list (input) to an R vector\n",
        "x = ro.FloatVector([1, 2, 3, 4, 5])\n",
        "\n",
        "# Call R functions from Python\n",
        "y = stats.rnorm(5)\n",
        "correlation = stats.cor(x, y)\n",
        "\n",
        "print(\"Correlation:\", correlation[0])"
      ],
      "metadata": {
        "id": "Ja87VyODexh8"
      },
      "execution_count": null,
      "outputs": []
    },
    {
      "cell_type": "markdown",
      "source": [
        "\n",
        "***Example 2:***  Calling your own R functions"
      ],
      "metadata": {
        "id": "vQgKDczWhBan"
      }
    },
    {
      "cell_type": "code",
      "source": [
        "# Define your R function using the %%R magic command\n",
        "%%R\n",
        "my_function <- function(x) {\n",
        "  result <- x^2 + 3\n",
        "  return(result)\n",
        "}"
      ],
      "metadata": {
        "id": "jY9c_12_hFSh"
      },
      "execution_count": null,
      "outputs": []
    },
    {
      "cell_type": "code",
      "source": [
        "import rpy2.robjects as ro\n",
        "\n",
        "# Call your R function from Python\n",
        "result = ro.r['my_function'](5)\n",
        "\n",
        "print(\"Result:\", result[0])\n"
      ],
      "metadata": {
        "id": "gZTepwY8hYRg"
      },
      "execution_count": null,
      "outputs": []
    },
    {
      "cell_type": "markdown",
      "source": [
        "#### 2.3.4 Calling Python functions from R"
      ],
      "metadata": {
        "id": "8uQEXWSlv2QE"
      }
    },
    {
      "cell_type": "markdown",
      "source": [
        "\n",
        "The mechanism for calling Python functions from R is similar to accessing Python variables from R. However, the input and output parameters of the function need to be adapted. Let's take a look at an example:"
      ],
      "metadata": {
        "id": "gjiZU3n1KIdF"
      }
    },
    {
      "cell_type": "code",
      "source": [
        "import rpy2.rinterface as ri\n",
        "import rpy2.robjects as ro\n",
        "import numpy as np\n",
        "\n",
        "# Define a Python function to square a number\n",
        "@ri.rternalize\n",
        "def pysquare(a):\n",
        "    return (\n",
        "        # Output cast\n",
        "        ro.FloatVector(\n",
        "            # Input cast and operation\n",
        "            np.array(a) ** 2.0\n",
        "        )\n",
        "    )\n",
        "\n",
        "# Assign the Python function as an R function\n",
        "ro.globalenv['rsquare'] = pysquare\n"
      ],
      "metadata": {
        "id": "MM9rAZlPXXcM"
      },
      "execution_count": null,
      "outputs": []
    },
    {
      "cell_type": "code",
      "source": [
        "%%R\n",
        "rsquare(c(4.0,5))"
      ],
      "metadata": {
        "id": "smX-PcrZZkWC"
      },
      "execution_count": null,
      "outputs": []
    },
    {
      "cell_type": "markdown",
      "source": [
        "### 3. Console (Callbacks)\n",
        "\n",
        "R provides a lot of information through the console, for example, during package installatiosn. *rpy2* allows configuring how to interact with and receive information from the console. The following example, taken from the documentation, explains how to configure the function that reads from the console:\n",
        "\n",
        "```py\n",
        "def my_consoleread(prompt: str) -> str:\n",
        "    custom_prompt = f'R is asking this: {prompt}'\n",
        "    return input(custom_prompt)\n",
        "\n",
        "rpy2.rinterface_lib.callbacks.consoleread = my_consoleread\n",
        "```\n",
        "\n",
        "The function:\n",
        "\n",
        "```py\n",
        "rpy2.rinterface_lib.callbacks.consolewrite_print(s: str) -> None\n",
        "```\n",
        "\n",
        "allows modifying how information written to the console is presented.\n",
        "\n",
        "***When working in Google Colab, we recommend modifying how errors and warnings are displayed to make it more user-friendly. Here's an example:***\n"
      ],
      "metadata": {
        "id": "KBcrDbYe580J"
      }
    },
    {
      "cell_type": "code",
      "source": [
        "%%R\n",
        "warning(\"foo\", immediate. = TRUE)"
      ],
      "metadata": {
        "id": "BkK7sKihD3Ir"
      },
      "execution_count": null,
      "outputs": []
    },
    {
      "cell_type": "code",
      "source": [
        "def warn_error_print(msg: str) -> None:\n",
        "    if not msg:\n",
        "        return\n",
        "\n",
        "    def print_line(m: str, add_prefix: bool, end: str = \"\\n\"):\n",
        "        prefix = \"\\x1b[1m\\x1b[32m[R]: \\x1b[0m\" if add_prefix else \"\"\n",
        "        print(f\"{prefix}\\x1b[3m\\x1B[1m\\x1b[35m{m}\\x1b[0m\", end=end)\n",
        "\n",
        "    lines = msg.split('\\n')\n",
        "    add_prefix = warn_error_print.new_line\n",
        "    for line in lines[:-1]:\n",
        "        print_line(line, add_prefix)\n",
        "        add_prefix = True\n",
        "\n",
        "    if lines[-1]:\n",
        "        print_line(lines[-1], add_prefix, end='')\n",
        "\n",
        "    warn_error_print.new_line = lines[-1] == ''\n",
        "\n",
        "warn_error_print.new_line = True"
      ],
      "metadata": {
        "id": "EwigbcdM8yTD"
      },
      "execution_count": null,
      "outputs": []
    },
    {
      "cell_type": "code",
      "source": [
        "import rpy2\n",
        "consolewrite_warnerror_default  = rpy2.rinterface_lib.callbacks.consolewrite_warnerror\n",
        "rpy2.rinterface_lib.callbacks.consolewrite_warnerror = warn_error_print"
      ],
      "metadata": {
        "id": "RaJ3AulHA8qA"
      },
      "execution_count": null,
      "outputs": []
    },
    {
      "cell_type": "code",
      "source": [
        "%%R\n",
        "warning(\"\\nfoo\", immediate. = TRUE)\n",
        "warning(\"\\nfoo\", immediate. = TRUE)"
      ],
      "metadata": {
        "id": "tKcGLPcWBCk0"
      },
      "execution_count": null,
      "outputs": []
    },
    {
      "cell_type": "code",
      "source": [
        "rpy2.rinterface_lib.callbacks.consolewrite_warnerror = consolewrite_warnerror_default"
      ],
      "metadata": {
        "id": "qlxbahAqBCRO"
      },
      "execution_count": null,
      "outputs": []
    },
    {
      "cell_type": "markdown",
      "source": [
        "<a name=\"sec:dis\"></a>\n",
        "## Disclaimer, license and additional information"
      ],
      "metadata": {
        "id": "og8oYa9urMCr"
      }
    },
    {
      "cell_type": "markdown",
      "source": [
        "### Disclaimer\n",
        "\n",
        "The code provided in this notebook is for educational and illustrative purposes only. While we strive to ensure the accuracy and reliability of the information and code presented, we make no representations or warranties of any kind, express or implied, about the completeness, accuracy, reliability, suitability, or availability with respect to the notebook or the code contained within it. Any reliance you place on such information and code is therefore strictly at your own risk.\n",
        "\n",
        "We disclaim any liability for any errors, omissions, or inaccuracies in the notebook or the code. We will not be liable for any loss or damage arising from the use of this notebook or the code it contains. It is your responsibility to ensure that any code or information you use from this notebook is adequately tested and meets your requirements.\n",
        "\n",
        "Please note that the code may require modifications to adapt it to your specific use case, and you should exercise caution and judgment when implementing it.\n",
        "\n",
        "By using this notebook and the provided code, you agree to these terms and conditions.\n",
        "\n",
        "### License\n",
        "\n",
        "This work is licensed under a Creative Commons Attribution-ShareAlike 4.0 International License (CC BY-NC-SA); you may not use this file except in compliance with the License.\n",
        "To view a copy of this license, visit [link to the Creative Commons license](https://creativecommons.org/licenses/by-nc-sa/4.0/legalcode).\n",
        "\n",
        "Unless required by applicable law or agreed to in writing, software distributed under the License is distributed on an \"AS IS\" BASIS, WITHOUT WARRANTIES OR CONDITIONS OF ANY KIND, either express or implied. See the License for the specific language governing permissions and limitations under the License.\n",
        "\n",
        "\n",
        "\n"
      ],
      "metadata": {
        "id": "AZJSkxR-rqDr"
      }
    },
    {
      "cell_type": "markdown",
      "source": [
        "### Authorship\n",
        "\n",
        "- **Authors:**\n",
        "  - Marcos García-Lorenzo\n",
        "      - Affiliation: *VG-Lab*, Universidad Rey Juan Carlos, Móstoles, Spain\n",
        "      - Email: marcos.garcia &lt;at&gt; urjc.es\n",
        "\n",
        "<!--\n",
        "- **Contributors:**\n",
        "- **Revised by:**\n",
        "-->\n",
        "\n",
        "- **Code Maintenance:**\n",
        "  - The code in this notebook is maintained by Marcos García-Lorenzo. For any questions, bug reports, or suggestions related to the code, please contact Marcos at the provided email address.\n",
        "\n",
        "\n",
        "<!--\n",
        "### Acknowledgments\n",
        "We would like to express our gratitude to\n",
        "\n",
        "### Citation Request\n",
        "If you find this notebook useful for your work, we kindly request that you cite it as follows:\n",
        "\n",
        "[Author(s)]. [Notebook Title]. [Year]. Available in [URL of the notebook].\n",
        "\n",
        "This will help acknowledge the original authors and provide proper credit for their work.\n",
        "\n",
        "Thank you for your consideration and support!\n",
        "-->\n"
      ],
      "metadata": {
        "id": "C95OdC5IZ0W6"
      }
    }
  ]
}