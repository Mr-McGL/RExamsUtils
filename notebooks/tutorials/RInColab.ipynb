{
  "nbformat": 4,
  "nbformat_minor": 0,
  "metadata": {
    "colab": {
      "private_outputs": true,
      "provenance": [],
      "authorship_tag": "ABX9TyNPiJiVgwGUKLrY/Fk9bXeF",
      "include_colab_link": true
    },
    "kernelspec": {
      "name": "python3",
      "display_name": "Python 3"
    },
    "language_info": {
      "name": "python"
    }
  },
  "cells": [
    {
      "cell_type": "markdown",
      "metadata": {
        "id": "view-in-github",
        "colab_type": "text"
      },
      "source": [
        "<a href=\"https://colab.research.google.com/github/Mr-McGL/RExamsUtils/blob/dev%2Fmgarcia/notebooks/RInColab.ipynb\" target=\"_parent\"><img src=\"https://colab.research.google.com/assets/colab-badge.svg\" alt=\"Open In Colab\"/></a>"
      ]
    },
    {
      "cell_type": "markdown",
      "source": [
        "Todo:\n",
        "* Anadirlo a los repositorios donde vaya a estar\n",
        "* Incluir icono para abrirlo desde el repo publico\n"
      ],
      "metadata": {
        "id": "8Evc148dhvIK"
      }
    },
    {
      "cell_type": "markdown",
      "source": [
        "<font size=\"2\"> *© 2023 by Marcos García Lorenzo ([URJC](www.urjc.es)). All rights reserved.*  &emsp;--&emsp; [[**Click here for license and disclaimer information**](#sec:dis)]<br>\n",
        "<a href=\"https://creativecommons.org/licenses/by-nc-sa/4.0/legalcode\">  <img src=\"https://licensebuttons.net/l/by-nc-sa/3.0/88x31.png\" alt=\"CC BY-NC-SA\"/> </a>\n",
        "</font>\n",
        "\n",
        "# How to use *R* in Colab"
      ],
      "metadata": {
        "id": "1tC39tf1AsyX"
      }
    },
    {
      "cell_type": "markdown",
      "source": [
        "## Abstract\n",
        "\n",
        "This notebook takes a closer look at the two main options available for using R in Google Colab. Join us as we explore how to enable this powerful tool in your Colab notebooks!\n",
        "\n",
        "<br>\n",
        "\n",
        "<details>\n",
        "<summary><strong> What is <emph>Colab</emph>?</strong></summary>\n",
        "\n",
        "***Google Colab***[$^{[1]}$](https://colab.research.google.com/), short for ***Google Colaboratory***, is a cloud-based development environment provided by Google. It allows users to write, run, and collaborate on Python code using Jupyter notebooks, without the need for any local installation. Google Colab provides a web-based interface where users can create and edit notebooks.\n",
        "\n",
        "In addition to Python, Google Colab also provides support for other languages like R and Julia, allowing users to create notebooks specific to those languages.\n",
        "\n",
        "Overall, Google Colab provides a convenient and accessible platform for coding, experimenting, and sharing code, making it a popular choice for data scientists, researchers, and developers.\n",
        "\n",
        "<br>\n",
        "\n",
        "</details>\n",
        "\n",
        "<details>\n",
        "<summary> <strong> What is <emph>R</emph>?</strong></summary>\n",
        "\n",
        "***R***[$^{[2]}$](https://www.r-project.org/) is an open-source programming language and software environment designed\n",
        "specifically for statistical analysis and data visualization. It was created by Ross Ihaka and Robert Gentleman at the University of Auckland, New Zealand. R has become extremely popular among data scientists, statisticians, and analysts due to its flexibility, data manipulation capabilities, and wide range of statistical and graphical tools.\n",
        "\n",
        "The R language is characterized by its flexible syntax. It enables users to write and execute commands interactively in the command line or create complete scripts and programs. Additionally, R offers a wide range of high-quality graphics that allow for effective data visualization.\n",
        "\n",
        "Being open-source, R has an active community of users and developers who contribute packages, documentation, and support. This makes R a powerful and versatile choice for data analysis and statistical research in a wide range of fields, from science and medicine to social sciences and economics.\n",
        "\n",
        "<br>\n",
        "</details>\n",
        "\n",
        "<details>\n",
        "<summary> <strong> Alternatives</strong></summary>\n",
        "\n",
        "* [*Option 1.*](#sec:op1) Open your notebook in an R runtime (R code only)\n",
        "* [*Option 2.*](#sec:op2) Embed R code into a notebook running on a Python runtime (allows both Python and R code)\n",
        "\n",
        "<br>\n",
        "</details>\n"
      ],
      "metadata": {
        "id": "NDKsOgXuIscf"
      }
    },
    {
      "cell_type": "markdown",
      "source": [
        "## <a name=\"sec:op1\"></a>*Option 1:* Create an R Notebook in Google Colab"
      ],
      "metadata": {
        "id": "_gSAONEm7KFn"
      }
    },
    {
      "cell_type": "markdown",
      "source": [
        "This option utilizes the IR kernel nativelly available in Colab, creating a dedicated environment for executing R code. While it offers a seamless experience for R programming, it is important to note that Python statements are not supported. Additionally, this runtime does not include the IPython functionalities, such as the ability to execute shell commands using prefixes (`!`) or utilize cell magics (`%%`) and line magics (`%`).\n",
        "\n",
        "***How to:***\n",
        "\n",
        "* The following link  opens a new Google Colab page with an R kernel ready for you to start coding: https://colab.research.google.com/notebook#create=true&language=r\n",
        "* To check the runtime kernel, simply do the following:\n",
        "  1. Go to *Runtime*[$^{\\diamond}$](#label1) menu at the top of the Colab interface\n",
        "  2. From the dropdown menu, select *Change runtime type*[$^\\star$](#label2)\n",
        "  3. A dialog box will appear, showing the current runtime type and options\n",
        "  4. Verify that the option for *R* is selected under the *Runtime type*\n",
        "  [$^\\times$](#label3)  section\n",
        "\n",
        "\n",
        "<br>\n",
        "\n",
        "<details>\n",
        "<summary> <strong> Figures: </strong> </summary>\n",
        "<br>\n",
        "\n",
        "<table width=\"95%\"\">\n",
        "  <tr>\n",
        "    <td><img src=\"https://user-images.githubusercontent.com/101522927/239479821-bb3cacb7-ade2-4847-ab88-72ad7cde2a54.png\" alt=\"Miniatura 1\"></td>\n",
        "    <td><img src=\"https://user-images.githubusercontent.com/101522927/239480214-b7797663-9522-4d2a-870f-e23caff0b8f7.png\" alt=\"Miniatura 2\"></td>\n",
        "  </tr>\n",
        "</table>\n",
        "\n",
        "<br>\n",
        "\n",
        "</details>\n",
        "\n",
        "<details>\n",
        "<summary> <strong> Links </strong> </summary>\n",
        "\n",
        "For more information, you can refer to the following link:\n",
        "* [IRKernel repo](https://github.com/IRkernel/IRkernel)\n",
        "* [IRKernel examples](https://github.com/IRkernel/IRkernel/tree/master/example-notebooks)\n",
        "\n",
        "</details>\n",
        "\n",
        "---\n",
        "\n",
        "<a name=\"label1\">$^\\diamond$</a> *Entrono de ejecucción*  \n",
        "<a name=\"label2\">$^\\star$</a> *Cambiar tipo de entorno de ejeccución*  \n",
        "<a name=\"label3\">$^\\times$</a> *Tipo de entorno de ejeccución*\n",
        "\n",
        "\n"
      ],
      "metadata": {
        "id": "gGJ9jMq0z99u"
      }
    },
    {
      "cell_type": "markdown",
      "source": [
        "## <a name=\"sec:op1\"></a>*Option 2:* Embed R code into your Python notebook  "
      ],
      "metadata": {
        "id": "NVj00aQlz99t"
      }
    },
    {
      "cell_type": "markdown",
      "source": [
        "The *rpy2*[$^{[3]}$](https://rpy2.github.io/) package provides an interface between Python and R, allowing you to write R code within a Python runtime. This means that you can embed R code into your Python environment. With this integration, you can easily combine the strengths of both languages to analyze data, create visualizations, and perform various data science tasks within your Python notebook.\n",
        "\n",
        "This guide will walk you through the installation of *rpy2* in Google Colab. It will show you how to execute R code and explain how to access R variables from Python code and vice versa.\n"
      ],
      "metadata": {
        "id": "v5tFLlDi0kwv"
      }
    },
    {
      "cell_type": "markdown",
      "source": [
        "### 2.1 Instalation"
      ],
      "metadata": {
        "id": "SvoDhniFVBgL"
      }
    },
    {
      "cell_type": "markdown",
      "source": [
        "\n",
        "#### **Install *rpy2* in your local machine**  \n",
        "\n",
        "To install *rpy2* in a **local** Jupyter environment permanently, you can copy and execute the following code in a cell of your notebook:\n",
        "\n",
        "```py\n",
        "!pip install rpy2\n",
        "```\n",
        "\n",
        "<u>***Note:***</u> By running this code **once**, the *rpy2* package will be installed in your Jupyter environment **permanently**, and you will be able to use it across different notebooks and sessions.\n"
      ],
      "metadata": {
        "id": "8AKmZpvuVWC2"
      }
    },
    {
      "cell_type": "code",
      "source": [
        "#@title ####  **Install *rpy2* in Colab** { display-mode: \"form\" }\n",
        "#@markdown Although Google Colab comes with the *rpy2* package pre-installed, there have been reported issues with this default version (see\n",
        "#@markdown [stackoverflow](https://stackoverflow.com/questions/74283327/conversion-py2rpy-not-defined-for-objects-of-type-class-str)).\n",
        "#@markdown  In such cases, it may be necessary to downgrade *rpy2* to version *3.5.1*. You can do this by executing the following code in a cell:\n",
        "#@markdown ```py\n",
        "#@markdown !pip install rpy2==3.5.1\n",
        "#@markdown ```\n",
        "#@markdown <u>***Note:***</u> In Google Colab, the package installations are not persistent across runtime restarts.\n",
        "#@markdown  Whenever you reset or restart the runtime environment, you'll need to downgrade the *rpy2* package.\n",
        "#@markdown\n",
        "#@markdown <font color=#ff90> <u>**Click the button ![image](https://user-images.githubusercontent.com/101522927/239503327-25ab8bf5-ad27-45b6-9c2f-39d303eec112.png)\n",
        "#@markdown on the left to install *rpy2***.</u></font>\n",
        "#\n",
        "from importlib.metadata import version as pkg_version\n",
        "from packaging.version import parse as get_version\n",
        "\n",
        "if get_version(pkg_version(\"rpy2\")) > get_version(\"3.5.1\"):\n",
        "  print(\"\\x1B[1m\\x1B[4m\\x1b[31mTo avoid any potential issues with newer versions, rpy2 will be downgraded (rpy2==3.5.1)\\x1b[0m\")\n",
        "  !(pip install rpy2==3.5.1)\n",
        "  #output = !(pip install rpy2==3.5.1) 2> null\n",
        "  #print(\"\\x1B[1m\\x1B[4m\\x1b[31mPlease rerun the notebook from the beginning.\\x1b[0m\")\n",
        "  #quit()\n",
        "else:\n",
        "  print(f\"\\x1B[1m\\x1B[4m\\x1b[32mIt is not necessary to downgrade to current rpy2 version (rpy2=={pkg_version('rpy2')}).\\x1b[0m\")\n"
      ],
      "metadata": {
        "id": "JLpemIPp7KFm"
      },
      "execution_count": null,
      "outputs": []
    },
    {
      "cell_type": "code",
      "source": [
        " #Check current rpy2 version\n",
        " !pip freeze |grep rpy2"
      ],
      "metadata": {
        "id": "7rSXPGQFepOb"
      },
      "execution_count": null,
      "outputs": []
    },
    {
      "cell_type": "markdown",
      "source": [
        "#### Magic Commands\n",
        "The *rpy2* package provides magic commands. To use these commands, First, you need to load the following extension."
      ],
      "metadata": {
        "id": "L7PxiDjDFPVa"
      }
    },
    {
      "cell_type": "code",
      "source": [
        "#Load rpy2 extension\n",
        "%reload_ext rpy2.ipython"
      ],
      "metadata": {
        "id": "WetTthLHFCKB"
      },
      "execution_count": null,
      "outputs": []
    },
    {
      "cell_type": "markdown",
      "source": [
        "### 2.2 How to write and run R code in your notebook"
      ],
      "metadata": {
        "id": "6pE0s_J3f5p3"
      }
    },
    {
      "cell_type": "markdown",
      "source": [
        "There are two alternatives: command magics and the use of package objects."
      ],
      "metadata": {
        "id": "4LDlvAMlqgwW"
      }
    },
    {
      "cell_type": "markdown",
      "source": [
        "#### 2.2.1 Command magics\n",
        "\n",
        "The *rpy2* package provides a line magic command (`%R`) and a cell magic command (`%%R`), allowing you to execute R code seamlessly.\n"
      ],
      "metadata": {
        "id": "z5dUX605g5MN"
      }
    },
    {
      "cell_type": "markdown",
      "source": [
        "Now, with the extension loaded, you can make use of the commands mentioned earlier. Here are a few examples:\n",
        "1. Line Magic Command:"
      ],
      "metadata": {
        "id": "J5_vx08gz99u"
      }
    },
    {
      "cell_type": "code",
      "source": [
        "#The line magic command %R returns an R data structure. To capture and store\n",
        "#this value without displaying it as output, you can use the variable 'v'\n",
        "v = %R print(\"Hello, R!\")\n",
        "\n",
        "#Uncomment this to show its value\n",
        "#type(v)"
      ],
      "metadata": {
        "id": "nE79yE-giLIx"
      },
      "execution_count": null,
      "outputs": []
    },
    {
      "cell_type": "markdown",
      "source": [
        "2. Cell Magic Command"
      ],
      "metadata": {
        "id": "mo3XZ-SZnotw"
      }
    },
    {
      "cell_type": "code",
      "source": [
        "%%R\n",
        "x <- c(1, 2, 3, 4, 5)\n",
        "print (c(mean(x),sd(x)))\n",
        "x"
      ],
      "metadata": {
        "id": "SdRzkyW8noHn"
      },
      "execution_count": null,
      "outputs": []
    },
    {
      "cell_type": "markdown",
      "source": [
        "#### 2.2.2 *rpy2* modules to execute R code"
      ],
      "metadata": {
        "id": "6PCtlP6AqJKf"
      }
    },
    {
      "cell_type": "markdown",
      "source": [
        "To execute R code, you can utilize the object `rpy2.robjects.r`.\n",
        "\n",
        "***Example:***"
      ],
      "metadata": {
        "id": "miackwqBryqS"
      }
    },
    {
      "cell_type": "code",
      "source": [
        "from rpy2.robjects import r as runRCode"
      ],
      "metadata": {
        "id": "0OUctbmhsJCI"
      },
      "execution_count": null,
      "outputs": []
    },
    {
      "cell_type": "code",
      "source": [
        "v = runRCode('''\n",
        "    square <- function(x) {\n",
        "        x^2\n",
        "    }\n",
        "    x <- c (square(1),square(2))\n",
        "    print(x)\n",
        "''')\n",
        "v"
      ],
      "metadata": {
        "id": "XNnoWbajsHmt"
      },
      "execution_count": null,
      "outputs": []
    },
    {
      "cell_type": "markdown",
      "source": [
        "### 2.3 Interoperability"
      ],
      "metadata": {
        "id": "68c4XAeboOfx"
      }
    },
    {
      "cell_type": "markdown",
      "source": [
        "\n",
        "With rpy2, you can achieve bidirectional interaction between R and Python:\n",
        "\n",
        "1. ***Data exchange***: rpy2 enables seamless data transfer between R and Python. It allows you to convert R objects to Python objects (e.g., numpy arrays or pandas data frames) and vice versa.\n",
        "2. ***Calling R functions from Python***: rpy2 provides a straightforward method to call R functions directly from Python. You can import R packages and utilize their functions in Python code.\n",
        "3. ***Calling Python functions from R***: Conversely, rpy2 also allows you to call Python functions from R."
      ],
      "metadata": {
        "id": "sJE-c0FRpAzw"
      }
    },
    {
      "cell_type": "markdown",
      "source": [
        "#### 2.3.1 Accessing R variables in Python"
      ],
      "metadata": {
        "id": "lVZQDMbpvp1F"
      }
    },
    {
      "cell_type": "markdown",
      "source": [
        "\n",
        "##### **Method 1**:\n",
        "\n",
        "The line magic command can be utilized to retrieve the values of R variables.\n",
        "\n",
        "***Example 1:***  \n",
        "*'numeric'* variables in R are transformed into *NumPy arrays*, even when they have only one element. This behavior ensures consistency in data structures when exchanging variables between R and Python."
      ],
      "metadata": {
        "id": "h6Ie_w5Qwvzd"
      }
    },
    {
      "cell_type": "code",
      "source": [
        "# Let's assign numeric values to two variables in R:\n",
        "%%R\n",
        "x1 = 1\n",
        "x2 = c(1,2,3,4)\n",
        "\n",
        "print (class(x1))\n",
        "print (class(x2))"
      ],
      "metadata": {
        "id": "CjCtZWHUwvCI"
      },
      "execution_count": null,
      "outputs": []
    },
    {
      "cell_type": "code",
      "source": [
        "#numeric variables are transformed into NumPy arrays.\n",
        "v1 = %R x1\n",
        "v2 = %R x2\n",
        "v3 = %R x3 = seq(0, 2*pi, length.out=4)\n",
        "v4 = %R 1:4\n",
        "\n",
        "print (f\"V1 -- Type: {type(v1)}  -- Val: {v1}\")\n",
        "print (f\"V2 -- Type: {type(v2)}  -- Val: {v2}\")\n",
        "print (f\"V3 -- Type: {type(v3)}  -- Val: {v3}\")\n",
        "print (f\"V4 -- Type: {type(v4)}  -- Val: {v4}\")"
      ],
      "metadata": {
        "id": "nchLuJo5yWWl"
      },
      "execution_count": null,
      "outputs": []
    },
    {
      "cell_type": "markdown",
      "source": [
        "***Example 2:***  \n",
        "*'dataframes'* in R are transformed into *Pandas dataframes*."
      ],
      "metadata": {
        "id": "r3Bkpual0EFZ"
      }
    },
    {
      "cell_type": "code",
      "source": [
        "%%R\n",
        "df <- data.frame(\n",
        "  \"array1\" = c(\"a\", \"b\", \"c\", \"d\"),\n",
        "  \"array2\" = c(1.2, 3.4, 4.5, 5.6)\n",
        ")\n",
        "\n",
        "print(df)\n",
        "class(df)"
      ],
      "metadata": {
        "id": "CS6RjPBZ0Z8G"
      },
      "execution_count": null,
      "outputs": []
    },
    {
      "cell_type": "code",
      "source": [
        "df = %R df\n",
        "print(type(df))\n",
        "df"
      ],
      "metadata": {
        "id": "U8gO2UL-0g-A"
      },
      "execution_count": null,
      "outputs": []
    },
    {
      "cell_type": "markdown",
      "source": [
        "***Example 3:***  \n",
        "Other R types need to be explicitly converted"
      ],
      "metadata": {
        "id": "1EXnj2mk3JVg"
      }
    },
    {
      "cell_type": "code",
      "source": [
        "#Everything is an array.\n",
        "r_s = %R s <- \"Hello\"\n",
        "_ = %R print(class(s))\n",
        "print (f\"r_s: -- Type: {type(r_s)}\")\n",
        "\n",
        "#Get the first position\n",
        "py_s = r_s[0]\n",
        "print (f\" py_s -- Type: {type(py_s)}\")\n",
        "py_s"
      ],
      "metadata": {
        "id": "mhxwmUg8296W"
      },
      "execution_count": null,
      "outputs": []
    },
    {
      "cell_type": "code",
      "source": [
        "#Everything is an array.\n",
        "r_l = %R s <- c(\"Hello\",\"Bye\")\n",
        "tmp = %R print(class(s))\n",
        "print (\"--\\n\",f\"r_l -- Type: {type(r_l)}\", \"\\n--\")\n",
        "\n",
        "#Get the first position\n",
        "py_l = list(r_l)\n",
        "print (f\" py_l -- Type: {type(py_l)}\",\"\\n--\")\n",
        "py_l"
      ],
      "metadata": {
        "id": "vi36bRye5q5C"
      },
      "execution_count": null,
      "outputs": []
    },
    {
      "cell_type": "markdown",
      "source": [
        "##### **Method 2**:\n",
        "\n",
        "To retrieve the values of an R variable, you can utilize the object `rpy2.robjects.r`."
      ],
      "metadata": {
        "id": "7ZUonYHY6m64"
      }
    },
    {
      "cell_type": "code",
      "source": [
        "%%R\n",
        "s <- \"Hello\"\n",
        "s"
      ],
      "metadata": {
        "id": "F-klhXNW8M-3"
      },
      "execution_count": null,
      "outputs": []
    },
    {
      "cell_type": "code",
      "source": [
        "import rpy2.robjects as ro\n",
        "\n",
        "# Assuming you have an R variable named my_string\n",
        "r_s = ro.r['s']\n",
        "\n",
        "# Convert the R variable to a Python string\n",
        "py_s = r_s[0]\n",
        "print (f\"py_s -- Type: {type(py_s)}\")\n",
        "py_s"
      ],
      "metadata": {
        "id": "ui0pg8mI5EzL"
      },
      "execution_count": null,
      "outputs": []
    },
    {
      "cell_type": "markdown",
      "source": [
        "#### 2.3.2 Accessing R variables in Python"
      ],
      "metadata": {
        "id": "uBiAJGIUv3vm"
      }
    },
    {
      "cell_type": "markdown",
      "source": [
        "To access Python variables in R using rpy2, you can use the `robjects` module."
      ],
      "metadata": {
        "id": "OlppxVJo9gKI"
      }
    },
    {
      "cell_type": "markdown",
      "source": [
        "***Examples:***  \n",
        "Implicit and explicit casting"
      ],
      "metadata": {
        "id": "YGwFxG9q96oK"
      }
    },
    {
      "cell_type": "code",
      "source": [
        "import rpy2.robjects as ro\n",
        "import numpy as np"
      ],
      "metadata": {
        "id": "ecWCzL9f9fyj"
      },
      "execution_count": null,
      "outputs": []
    },
    {
      "cell_type": "code",
      "source": [
        "#Implicit\n",
        "py_s = \"Phython Variable\"\n",
        "ro.globalenv['s'] = py_s\n",
        "\n",
        "#Explicit\n",
        "py_np = np.array([1]*3)\n",
        "ro.globalenv['x'] = ro.FloatVector(py_np)\n",
        "\n",
        "#Implicit\n",
        "py_l = [1, \"Hello\"]\n",
        "ro.globalenv['l'] = py_l"
      ],
      "metadata": {
        "id": "roKpsTsx-DCA"
      },
      "execution_count": null,
      "outputs": []
    },
    {
      "cell_type": "code",
      "source": [
        "%%R\n",
        "print(class(s))\n",
        "print(s)"
      ],
      "metadata": {
        "id": "Dqbr-4mC-2fc"
      },
      "execution_count": null,
      "outputs": []
    },
    {
      "cell_type": "code",
      "source": [
        "%%R\n",
        "print(class(x))\n",
        "print(x)"
      ],
      "metadata": {
        "id": "_ozXHq5ZGacT"
      },
      "execution_count": null,
      "outputs": []
    },
    {
      "cell_type": "code",
      "source": [
        "%%R\n",
        "print(class(l))\n",
        "print(l)"
      ],
      "metadata": {
        "id": "vqmCxPfZGSVd"
      },
      "execution_count": null,
      "outputs": []
    },
    {
      "cell_type": "markdown",
      "source": [
        "#### 2.3.3 Calling R functions from Python"
      ],
      "metadata": {
        "id": "58iNf0Z6v3g9"
      }
    },
    {
      "cell_type": "markdown",
      "source": [
        "A great features of the *rpy2* is that it not only allows you to call functions you have implemented in R, but also functions from R packages. This opens up a whole world of possibilities, as R has a vast ecosystem of packages covering various domains and statistical techniques.\n",
        "\n",
        "***Example 1:***  Using the R package *stats*"
      ],
      "metadata": {
        "id": "elua-wjwedr4"
      }
    },
    {
      "cell_type": "code",
      "source": [
        "import rpy2.robjects as ro\n",
        "\n",
        "# Import the 'stats' package from R\n",
        "stats = ro.packages.importr('stats')\n",
        "\n",
        "# Cast the list (input) to an R vector\n",
        "x = ro.FloatVector([1, 2, 3, 4, 5])\n",
        "\n",
        "# Call R functions from Python\n",
        "y = stats.rnorm(5)\n",
        "correlation = stats.cor(x, y)\n",
        "\n",
        "print(\"Correlation:\", correlation[0])"
      ],
      "metadata": {
        "id": "Ja87VyODexh8"
      },
      "execution_count": null,
      "outputs": []
    },
    {
      "cell_type": "markdown",
      "source": [
        "\n",
        "***Example 2:***  Calling your own R functions"
      ],
      "metadata": {
        "id": "vQgKDczWhBan"
      }
    },
    {
      "cell_type": "code",
      "source": [
        "# Define your R function using the %%R magic command\n",
        "%%R\n",
        "my_function <- function(x) {\n",
        "  result <- x^2 + 3\n",
        "  return(result)\n",
        "}"
      ],
      "metadata": {
        "id": "jY9c_12_hFSh"
      },
      "execution_count": null,
      "outputs": []
    },
    {
      "cell_type": "code",
      "source": [
        "import rpy2.robjects as ro\n",
        "\n",
        "# Call your R function from Python\n",
        "result = ro.r['my_function'](5)\n",
        "\n",
        "print(\"Result:\", result[0])\n"
      ],
      "metadata": {
        "id": "gZTepwY8hYRg"
      },
      "execution_count": null,
      "outputs": []
    },
    {
      "cell_type": "markdown",
      "source": [
        "#### 2.3.4 Calling Python functions from R"
      ],
      "metadata": {
        "id": "8uQEXWSlv2QE"
      }
    },
    {
      "cell_type": "markdown",
      "source": [
        "\n",
        "The mechanism for calling Python functions from R is similar to accessing Python variables from R. However, the input and output parameters of the function need to be adapted. Let's take a look at an example:"
      ],
      "metadata": {
        "id": "gjiZU3n1KIdF"
      }
    },
    {
      "cell_type": "code",
      "source": [
        "import rpy2.rinterface as ri\n",
        "import rpy2.robjects as ro\n",
        "import numpy as np\n",
        "\n",
        "# Define a Python function to square a number\n",
        "@ri.rternalize\n",
        "def pysquare(a):\n",
        "    return (\n",
        "        # Output cast\n",
        "        ro.FloatVector(\n",
        "            # Input cast and operation\n",
        "            np.array(a) ** 2.0\n",
        "        )\n",
        "    )\n",
        "\n",
        "# Assign the Python function as an R function\n",
        "ro.globalenv['rsquare'] = pysquare\n"
      ],
      "metadata": {
        "id": "MM9rAZlPXXcM"
      },
      "execution_count": null,
      "outputs": []
    },
    {
      "cell_type": "code",
      "source": [
        "%%R\n",
        "rsquare(c(4.0,5))"
      ],
      "metadata": {
        "id": "smX-PcrZZkWC"
      },
      "execution_count": null,
      "outputs": []
    },
    {
      "cell_type": "markdown",
      "source": [
        "# Disclaimer, license and additional information"
      ],
      "metadata": {
        "id": "og8oYa9urMCr"
      }
    },
    {
      "cell_type": "markdown",
      "source": [
        "## Authorship\n",
        "\n",
        "- **Authors:**\n",
        "  - Marcos García-Lorenzo\n",
        "      - Affiliation: *VG-Lab*, Universidad Rey Juan Carlos, Móstoles, Spain\n",
        "      - Email: marcos.garcia &lt;at&gt; urjc.es\n",
        "\n",
        "<!--\n",
        "- **Contributors:**\n",
        "- **Revised by:**\n",
        "-->\n",
        "\n",
        "- **Code Maintenance:**\n",
        "  - The code in this notebook is maintained by Marcos García-Lorenzo. For any questions, bug reports, or suggestions related to the code, please contact Marcos at the provided email address.\n",
        "\n",
        "\n",
        "<!--\n",
        "## Acknowledgments\n",
        "We would like to express our gratitude to\n",
        "## Citation Request\n",
        "If you find this notebook useful for your work, we kindly request that you cite it as follows:\n",
        "\n",
        "[Author(s)]. [Notebook Title]. [Year]. Available in [URL of the notebook].\n",
        "\n",
        "This will help acknowledge the original authors and provide proper credit for their work.\n",
        "\n",
        "Thank you for your consideration and support!\n",
        "-->\n",
        "\n",
        "## Disclaimer\n",
        "\n",
        "The code provided in this notebook is for educational and illustrative purposes only. While we strive to ensure the accuracy and reliability of the information and code presented, we make no representations or warranties of any kind, express or implied, about the completeness, accuracy, reliability, suitability, or availability with respect to the notebook or the code contained within it. Any reliance you place on such information and code is therefore strictly at your own risk.\n",
        "\n",
        "We disclaim any liability for any errors, omissions, or inaccuracies in the notebook or the code. We will not be liable for any loss or damage arising from the use of this notebook or the code it contains. It is your responsibility to ensure that any code or information you use from this notebook is adequately tested and meets your requirements.\n",
        "\n",
        "Please note that the code may require modifications to adapt it to your specific use case, and you should exercise caution and judgment when implementing it.\n",
        "\n",
        "By using this notebook and the provided code, you agree to these terms and conditions.\n",
        "\n",
        "## License\n",
        "\n",
        "This work is licensed under a Creative Commons Attribution-ShareAlike 4.0 International License; you may not use this file except in compliance with the License.\n",
        "\n",
        "To view a copy of this license, visit [link to the Creative Commons license](link).\n",
        "\n",
        "Unless required by applicable law or agreed to in writing, software distributed under the License is distributed on an \"AS IS\" BASIS, WITHOUT WARRANTIES OR CONDITIONS OF ANY KIND, either express or implied. See the License for the specific language governing permissions and limitations under the License.\n",
        "\n",
        "\n"
      ],
      "metadata": {
        "id": "AZJSkxR-rqDr"
      }
    },
    {
      "cell_type": "markdown",
      "source": [
        "<a name=\"sec:dis\"></a>"
      ],
      "metadata": {
        "id": "wJMp19gtrQOR"
      }
    }
  ]
}
