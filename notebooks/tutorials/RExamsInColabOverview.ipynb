{
  "nbformat": 4,
  "nbformat_minor": 0,
  "metadata": {
    "colab": {
      "private_outputs": true,
      "provenance": [],
      "collapsed_sections": [
        "og8oYa9urMCr"
      ],
      "authorship_tag": "ABX9TyMNKnfwjbgD8tfocHQk0mtQ",
      "include_colab_link": true
    },
    "kernelspec": {
      "name": "python3",
      "display_name": "Python 3"
    },
    "language_info": {
      "name": "python"
    },
    "gpuClass": "standard"
  },
  "cells": [
    {
      "cell_type": "markdown",
      "metadata": {
        "id": "view-in-github",
        "colab_type": "text"
      },
      "source": [
        "<a href=\"https://colab.research.google.com/github/Mr-McGL/RExamsUtils/blob/dev%2Fmgarcia/notebooks/RExamsInColabOverview.ipynb\" target=\"_parent\"><img src=\"https://colab.research.google.com/assets/colab-badge.svg\" alt=\"Open In Colab\"/></a>"
      ]
    },
    {
      "cell_type": "markdown",
      "source": [
        "Todo:\n",
        "- Comprobar todos los enlaces. Faltan a otros notebooks!!!!\n"
      ],
      "metadata": {
        "id": "YcmbAnH62KJz"
      }
    },
    {
      "cell_type": "markdown",
      "source": [
        "<font size=\"2\"> *© 2023 by Marcos García Lorenzo ([URJC](www.urjc.es)). All rights reserved.*  &emsp;--&emsp; [[**Click here for license and disclaimer information**](#sec:dis)]\n",
        "</font>  \n",
        "<a href=\"https://creativecommons.org/licenses/by-nc-sa/4.0/legalcode\"> <img src=\"https://licensebuttons.net/l/by-nc-sa/3.0/88x31.png\" alt=\"CC BY-NC-SA\" width=80></a>\n",
        "\n",
        " # R/exams in Colab: <br> <font size=5>*Create Exams without Installing any Softare Locally* </font> <br> <font size=4> ***Overview and Sippets***<font>\n",
        "\n",
        "<br>\n",
        "\n",
        "In this Colab notebook, we will explore how to use R/exams, a powerful tool for creating exams and exercises using the R programming language. The best part is that you won't need to install any software on your local machine.\n",
        "\n",
        "<br>\n",
        "\n",
        "<details>\n",
        "<summary> <strong>What is R/exmans?</strong></summary>\n",
        "\n",
        "<br>\n",
        "\n",
        "***R/exams***[$^{[1]}$](https://www.r-exams.org/) is a fantastic tool for generating exams automatically. It allows you to export the exams into several formats such as HTML, PDF or even the Moodle XML file, which can be seamlessly imported into platforms like [URJC's *Aula Virtual*](https://www.aulavirtual.urjc.es/moodle/login/index.php). This makes it easy to create dynamic exams and then effortlessly import them into *URJC's Aula Virtual* for your students to access and take the tests.\n",
        "\n",
        "<br>\n",
        "\n",
        "</details>\n",
        "\n",
        "<details>\n",
        "<summary><strong>How to use this notebook?</strong></summary>\n",
        "\n",
        "<br>\n",
        "\n",
        "The main purpose of this notebook is to allow you to create your own exams without having to install any software locally. **We recommend that you make a copy of this notebook for each exam you wish to create and customize it to suit your needs.**\n",
        "\n",
        "While this notebook is not a R/Exams tutorial (you can access to the oficial web page tutorials here: [link](https://www.r-exams.org/tutorials/)), you will find several sections with code snippets that will assist you throughout the exam design process. Feel free to modify, add, and delete cells in this notebook to tailor it to your specific needs.\n",
        "\n",
        "Please note that the goal of this notebook is to provide you with a convenient and accessible tool for creating exams. Enjoy the process and create great exams for your students!\n",
        "\n",
        "<br>\n",
        "\n",
        "</details>\n"
      ],
      "metadata": {
        "id": "DlS4wb1Y5pbL"
      }
    },
    {
      "cell_type": "markdown",
      "source": [
        "## 1. Installing R/exams [$^{[2]}$](https://www.r-exams.org/tutorials/installation/)\n",
        "\n",
        "<u><font color=#ffa000 size=4>***Important!!!*** </font></u> All the cells in this section must be run to install and import the R/exams package. Optionally, you can uncomment some parts of the code to modify the configuration or adapt it to other Python environments."
      ],
      "metadata": {
        "id": "7MumODSHjq_R"
      }
    },
    {
      "cell_type": "markdown",
      "source": [
        "### 1.1. Enabling R in Python Notebook\n",
        "\n",
        "R/exams is an R package. In order to run this package in a Python kernel, we need to install the rpy2[$^{[3]}$](https://rpy2.github.io/) module. The rpy2 module allows us to execute R code in our notebook. For more information on how to run R code in Google Colab, you can refer to this tutorial [[TODO]]()."
      ],
      "metadata": {
        "id": "jQGyNei6kdn8"
      }
    },
    {
      "cell_type": "code",
      "execution_count": null,
      "metadata": {
        "id": "Hj97hvY-CMcH"
      },
      "outputs": [],
      "source": [
        "# To hide the output of the cell, uncomment the next line.\n",
        "# %%caputre installRPY2Output\n",
        "!pip install rpy2==3.5.1"
      ]
    },
    {
      "cell_type": "markdown",
      "source": [
        "The rpy2 package offers convenient line magic command (`%R`) and cell magic command (`%%R`), enabling seamless execution of R code. Before using them, you need to load the following extension:\n"
      ],
      "metadata": {
        "id": "t424mn5Bnly8"
      }
    },
    {
      "cell_type": "code",
      "source": [
        " #Load rpy2 package\n",
        " %reload_ext rpy2.ipython"
      ],
      "metadata": {
        "id": "cctHR8r3GlDy"
      },
      "execution_count": null,
      "outputs": []
    },
    {
      "cell_type": "markdown",
      "source": [
        "\n",
        "***Examples:***"
      ],
      "metadata": {
        "id": "oLNQzWdqGn0s"
      }
    },
    {
      "cell_type": "code",
      "source": [
        "#Use the following cell magic to run R code:\n",
        "%%R\n",
        "x <- seq(0, 2*pi, length.out=5)\n",
        "print(x)"
      ],
      "metadata": {
        "id": "zy1VKPaZnkQw"
      },
      "execution_count": null,
      "outputs": []
    },
    {
      "cell_type": "code",
      "source": [
        "# Use %R (line magic) to run a single R line\n",
        "x = %R x\n",
        "x = list(x)\n",
        "print(x)"
      ],
      "metadata": {
        "id": "9jMc4bo9n-Pl"
      },
      "execution_count": null,
      "outputs": []
    },
    {
      "cell_type": "markdown",
      "source": [
        "### 1.2. Installing R/exams and its dependencies\n",
        "\n"
      ],
      "metadata": {
        "id": "w9wB0yyEoJJy"
      }
    },
    {
      "cell_type": "markdown",
      "source": [
        "Installing the R/exams package takes approximately 4 minutes."
      ],
      "metadata": {
        "id": "KemqYmuRyfIz"
      }
    },
    {
      "cell_type": "code",
      "source": [
        "%%R\n",
        "#Stable version\n",
        "install.packages(\"exams\", dependencies = TRUE)\n",
        "\n",
        "#Development version (not recommended for beginners)\n",
        "#install.packages(\"exams\", repos = \"https://R-Forge.R-project.org\")"
      ],
      "metadata": {
        "id": "dkgWPv8moiGK"
      },
      "execution_count": null,
      "outputs": []
    },
    {
      "cell_type": "markdown",
      "source": [
        "Installing a LaTeX distribution"
      ],
      "metadata": {
        "id": "oYBAYlnio1W0"
      }
    },
    {
      "cell_type": "code",
      "source": [
        "#Install TinyTeX for generating PDF files\n",
        "%%R\n",
        "tinytex::install_tinytex()"
      ],
      "metadata": {
        "id": "HqzNmUb5oypa"
      },
      "execution_count": null,
      "outputs": []
    },
    {
      "cell_type": "markdown",
      "source": [
        "\n",
        "Pandoc$^{[}$[$^{4}$](https://pandoc.org/)$^{,}$[$^{5}$](https://github.com/JessicaTegner/pypandoc)$^{]}$ is internally used for certain conversions. Fortunately, this package is already installed in Colab."
      ],
      "metadata": {
        "id": "mYEP1nDqpgfN"
      }
    },
    {
      "cell_type": "code",
      "source": [
        "#Install pandoc (internal use). Already installed in Colab and Jupyter\n",
        "#%%capture installPandoc_output\n",
        "#!apt-get install pandoc\n",
        "\n",
        "#To use it in Python\n",
        "#!pip install pandoc\n",
        "#import pypandoc"
      ],
      "metadata": {
        "id": "ETpnQCXxpf6C"
      },
      "execution_count": null,
      "outputs": []
    },
    {
      "cell_type": "markdown",
      "source": [
        "The following packages$^{[}$[$^{6}$](https://imagemagick.org/index.php)$^{,}$[$^{7}$](https://www.pdflabs.com/tools/pdftk-the-pdf-toolkit/)$^{]}$ are required to create written NOPS exams (automatic evaluation)"
      ],
      "metadata": {
        "id": "PLo-9K6mqDjr"
      }
    },
    {
      "cell_type": "code",
      "source": [
        "# The following packages are required to create written NOPS exams (automatic evaluation):\n",
        "# https://www.r-exams.org/intro/written/\n",
        "#%%capture\n",
        "#!apt-get install pdftk imagemagick"
      ],
      "metadata": {
        "id": "0YX-GIAXqLVv"
      },
      "execution_count": null,
      "outputs": []
    },
    {
      "cell_type": "markdown",
      "source": [
        "### 1.3 Importing R/exams"
      ],
      "metadata": {
        "id": "6RMoPufCqOCe"
      }
    },
    {
      "cell_type": "code",
      "source": [
        "%%R\n",
        "library(\"exams\")"
      ],
      "metadata": {
        "id": "QKhJB-p5qMiS"
      },
      "execution_count": null,
      "outputs": []
    },
    {
      "cell_type": "markdown",
      "source": [
        "### 1.4 Installing Optional Modules\n",
        "\n",
        "In this section, you can install additional modules that are <u>***required for some snippets***</u>, but are not mandatory for the basic functioning of R/Exams."
      ],
      "metadata": {
        "id": "nSnMLwBQAS8W"
      }
    },
    {
      "cell_type": "markdown",
      "source": [
        "You have the option to install pygments[$^{[8]}$](https://pygments.org/), which enables syntax highlighting for Markdown files. Colab already has it installed, but you need to install the jedi[$^{[9]}$](https://jedi.readthedocs.io/en/latest/) package for it to work properly. The following snippet allows you to update the version. Please note that you'll need to restart the environment and re-run the previous cells!\n"
      ],
      "metadata": {
        "id": "_CSrs3XUBy3s"
      }
    },
    {
      "cell_type": "code",
      "source": [
        "# pygments update (**Catution: restarts runtime**.  Requires to rerun the notebook from the beginning)\n",
        "#%%capture\n",
        "#from packaging.version import parse as get_version\n",
        "#if get_version(pygments.__version__) <= get_version('2.13.0'):\n",
        "#  !pip install pygments -U\n",
        "#  import os\n",
        "#  os.kill(os.getpid(), 9)"
      ],
      "metadata": {
        "id": "iZ0MDgZkABFS"
      },
      "execution_count": null,
      "outputs": []
    },
    {
      "cell_type": "code",
      "source": [
        "#Required by pigments (code highlighting)\n",
        "#%%capture --no-stderr\n",
        "!pip install jedi"
      ],
      "metadata": {
        "id": "dSsQDMCpAH8g"
      },
      "execution_count": null,
      "outputs": []
    },
    {
      "cell_type": "markdown",
      "source": [
        "The R/exams allows you to create a skeleton with various examples that illustrate its functionality. \"Use the `exams_skeleton` function to create this skeleton. <u>***Some of the snippets used later on rely on these files***</u>.\n",
        "\n",
        "\n"
      ],
      "metadata": {
        "id": "RvGz_NB-C35B"
      }
    },
    {
      "cell_type": "code",
      "source": [
        "!mkdir -p ./exams/demo"
      ],
      "metadata": {
        "id": "jZr-E7H1Hios"
      },
      "execution_count": null,
      "outputs": []
    },
    {
      "cell_type": "code",
      "source": [
        "%%R\n",
        "exams_skeleton(\n",
        "        dir = \"./exams/demo\",\n",
        "        markup = \"markdown\", encoding = \"UTF-8\",\n",
        "        writer = c(\"exams2html\", \"exams2pdf\", \"exams2moodle\"))\n"
      ],
      "metadata": {
        "id": "YKE8KomWy3hW"
      },
      "execution_count": null,
      "outputs": []
    },
    {
      "cell_type": "markdown",
      "source": [
        "*Other options*\n",
        "\n",
        "```r\n",
        "type = c(\"num\", \"schoice\", \"mchoice\", \"string\", \"cloze\")\n",
        "writer = c(\"exams2html\", \"exams2pdf\", \"exams2moodle\", \"exams2qti12\", \"exams2qti21\", \"exams2arsnova\", \"exams2nops\")\n",
        "markup = \"latex\"\n",
        "```"
      ],
      "metadata": {
        "id": "v1Yto6J4RIB5"
      }
    },
    {
      "cell_type": "markdown",
      "source": [
        "*Directory tree created*"
      ],
      "metadata": {
        "id": "Yt2Zk3T_RY-d"
      }
    },
    {
      "cell_type": "code",
      "source": [
        "#tree\n",
        "!ls -R exams | grep \":$\" | sed -e 's/:$//' -e 's/[^-][^\\/]*\\//--/g' -e 's/^/   /' -e 's/-/|/'"
      ],
      "metadata": {
        "id": "Ul75LzIlC4P6"
      },
      "execution_count": null,
      "outputs": []
    },
    {
      "cell_type": "code",
      "source": [
        "# @title <font size=3> Show examples</font> { run: \"auto\", display-mode: \"form\" }\n",
        "example = \"Latex template\" # @param [\"Create exams in all available formats\", \"Create exams in HTML format\", \"Create exams in PDF format\", \"Create exams specifically for Moodle\",\"Multiple-choice question\",\"Single-choice question\", \"Numeric question\", \"Cloze question\", \"Latex template\", \"Latex solution template\", \"Latex plain template\", \"HTML plain template\"]\n",
        "\n",
        "\n",
        "\n",
        "options = [\"Create exams in all available formats\", \"Create exams in HTML format\", \"Create exams in PDF format\", \"Create exams specifically for Moodle\",\"Multiple-choice question\",\"Single-choice question\", \"Numeric question\", \"Cloze question\", \"Latex template\", \"Latex solution template\", \"Latex plain template\", \"HTML plain template\"]\n",
        "path = \"./exams/demo/\"\n",
        "files = [\"demo-all.R\", \"demo-html.R\", \"demo-pdf.R\", \"demo-moodle.R\", \"exercises/capitals.Rmd\", \"exercises/swisscapital.Rmd\", \"exercises/deriv.Rmd\",          \"exercises/lm.Rmd\", \"templates/exam.tex\", \"templates/solution.tex\", \"templates/plain.tex\", \"templates/plain.html\"]\n",
        "\n",
        "fn = files[options.index(example)]\n",
        "frmt = \"-l markdown\" if fn.endswith(\".Rmd\") else \"\"\n",
        "!pygmentize -f terminal {frmt} {path}{fn}"
      ],
      "metadata": {
        "id": "Sq3tFrg9Jfm7"
      },
      "execution_count": null,
      "outputs": []
    },
    {
      "cell_type": "markdown",
      "source": [
        "## 2. R/exams: Snippets for Desing Exams\n",
        "\n",
        "The goal of this section is to provide a collection of snippets that will facilitate the process of designing exams using R/exams. To create an exam you with this tool you will have to: (i) create the set of question templates that will be incorporated into the exam; (ii) optionally, if you want to export your exam to an HTML file or to a PDF file, you can create an exam format template; and (iii) finally you will have to configure and gernerate your exams.\n",
        "\n",
        "Following these three points, the rest of the notebook is structured as follows:\n",
        "\n",
        "1. [Question Bank](#sec:quest)\n",
        "2. [Exam Template](#sec:format)\n",
        "3. [Configure and Generate Exams](#sec:genExam)\n"
      ],
      "metadata": {
        "id": "X3t0yHKQ3Fbf"
      }
    },
    {
      "cell_type": "markdown",
      "source": [
        "### <a name=\"sec:quest\"></a> 2.1 Question Bank\n",
        "\n",
        "This section offers different alternatives for **uploading**, **creating**, and **downloading** a question bank.\n",
        "\n"
      ],
      "metadata": {
        "id": "d4vFvUphJePi"
      }
    },
    {
      "cell_type": "markdown",
      "source": [
        "#### 2.1.1 Upload Questions\n",
        "\n"
      ],
      "metadata": {
        "id": "Ofyj4U9-NlrU"
      }
    },
    {
      "cell_type": "markdown",
      "source": [
        "The variable `uploadedQuestions` will store the names of all the files you have uploaded."
      ],
      "metadata": {
        "id": "-bUAfI8QyCto"
      }
    },
    {
      "cell_type": "code",
      "source": [
        "uploadedQuestions = []"
      ],
      "metadata": {
        "id": "6EmTglRRwu3F"
      },
      "execution_count": null,
      "outputs": []
    },
    {
      "cell_type": "markdown",
      "source": [
        "##### *Option 1*: Upload questions from local files\n",
        "\n",
        "With this code, you have the option to upload the questions individually or upload a compressed file containing multiple questions. Further ahead, you will find a snippet that enables you to unpack the compressed files."
      ],
      "metadata": {
        "id": "OZDl5fLcRp8N"
      }
    },
    {
      "cell_type": "code",
      "source": [
        "from google.colab import files\n",
        "\n",
        "!mkdir -p ./exams/exercises\n",
        "%pushd ./exams/exercises\n",
        "\n",
        "try:\n",
        "  while True:\n",
        "    uploadedQuestions += list(files.upload().keys())\n",
        "    choice = input(\"Do you want to upload another file? (yes/no, default: no): \")\n",
        "    if choice.lower() not in (\"yes\",\"y\"):\n",
        "        break\n",
        "\n",
        "finally:\n",
        "  %popd"
      ],
      "metadata": {
        "id": "RDxfYpp2Rr-I"
      },
      "execution_count": null,
      "outputs": []
    },
    {
      "cell_type": "markdown",
      "source": [
        "##### *Option 2*: Upload questions from Google Drive\n",
        "\n",
        "The example below demonstrates how to mount your Google Drive in the virtual machine and copy your questions to the working directory."
      ],
      "metadata": {
        "id": "n7Ffizz2k8fg"
      }
    },
    {
      "cell_type": "code",
      "source": [
        "#@title <font size=3>Config and run</font>\n",
        "\n",
        "#@markdown Select the soruce folder (absolute path)\n",
        "src_folder = \"\" #@param {type:\"string\"}\n",
        "dst_folder = \"./exams/exercises/\"\n",
        "\n",
        "#@markdown\n",
        "#@markdown <u>**Click the button ![image](https://user-images.githubusercontent.com/101522927/239503327-25ab8bf5-ad27-45b6-9c2f-39d303eec112.png)\n",
        "#@markdown on the left to execute the cell.**</u>\n",
        "\n",
        "from google.colab import drive\n",
        "drive.mount('/gdrive')\n",
        "\n",
        "import shutil\n",
        "import os\n",
        "shutil.copytree(src_folder, dst_folder)\n",
        "\n",
        "uploadedQuestions += os.listdir(src_folder)"
      ],
      "metadata": {
        "cellView": "form",
        "id": "UtVuktk_k7oD"
      },
      "execution_count": null,
      "outputs": []
    },
    {
      "cell_type": "markdown",
      "source": [
        "##### Unpack uploaded files (optional)\n",
        "\n",
        "This code allows you to extract TAR, ZIP, GZ, BZ, and XZ files."
      ],
      "metadata": {
        "id": "UIiUVBkSmF5k"
      }
    },
    {
      "cell_type": "code",
      "source": [
        "import shutil\n",
        "import os\n",
        "\n",
        "path = \"./exams/exercises/\"\n",
        "\n",
        "for fn in uploadedQuestions:\n",
        "  if fn.split(\".\")[-1].lower() in (\"tar\",\"zip\",\"gz\", \"bz\", \"xz\"):\n",
        "    shutil.unpack_archive(f'{\"path\"}{fn}', path) #formats = “zip|tar|gztar|bztar|xztar”"
      ],
      "metadata": {
        "id": "zV--dyo4rAe_"
      },
      "execution_count": null,
      "outputs": []
    },
    {
      "cell_type": "markdown",
      "source": [
        "#### 2.1.2 Create a Question Bank\n",
        "\n",
        "We crafted a series of instructional notebooks detailing the creation of diverse question types compatible with RExams. Within this section, you will encounter the links to these alternatives."
      ],
      "metadata": {
        "id": "WDn1j9ADNdJ4"
      }
    },
    {
      "cell_type": "markdown",
      "source": [
        "TODO!!!!!!!!!!!!"
      ],
      "metadata": {
        "id": "uXm_1OesiU7w"
      }
    },
    {
      "cell_type": "markdown",
      "source": [
        "#### 2.1.3 Download Questions"
      ],
      "metadata": {
        "id": "KMdVp8L4DBHL"
      }
    },
    {
      "cell_type": "markdown",
      "source": [
        "##### *Option 1*: Download questions to your local device\n",
        "**Important!!!** This option only works if the folder containing the questions does not have subfolders."
      ],
      "metadata": {
        "id": "oJe0t7rWjgpo"
      }
    },
    {
      "cell_type": "code",
      "source": [
        "import os\n",
        "from google.colab import files\n",
        "\n",
        "folder = './exams/exercises'\n",
        "files = [f for f in os.listdir(folder) if os.path.isfile(f\"{folder}/{f}\")]\n",
        "\n",
        "for f in files:\n",
        "  files.download(f)"
      ],
      "metadata": {
        "id": "VCY523kFjhf9"
      },
      "execution_count": null,
      "outputs": []
    },
    {
      "cell_type": "markdown",
      "source": [
        "##### *Option 2*: Pack and download the question folder to your local device\n",
        "\n",
        "This code allows you to use the following formats: TAR, ZIP, GZ, BZ, and XZ files."
      ],
      "metadata": {
        "id": "0l7Eno5vnKie"
      }
    },
    {
      "cell_type": "code",
      "source": [
        "# @title <font size=3>Select Format<font> { run: \"auto\", display-mode: \"form\" }\n",
        "format = \"tar\" # @param [\"zip\",  \"gztar\", \"bztar\", \"xztar\", \"tar\"]\n",
        "\n",
        "idx = (\"zip\",  \"gztar\", \"bztar\", \"xztar\", \"tar\").index(format)\n",
        "ext = (\".zip\",  \".tar.gz\", \".tar.bz2\", \".tar.xz\", \".tar\")[idx]"
      ],
      "metadata": {
        "id": "LvTbo3HyoE2h"
      },
      "execution_count": null,
      "outputs": []
    },
    {
      "cell_type": "code",
      "source": [
        "from pickle import EXT1\n",
        "import shutil\n",
        "import os\n",
        "from google.colab import files\n",
        "\n",
        "path = \"./exams/exercises\"\n",
        "fn = path\n",
        "\n",
        "shutil.make_archive(path, format, fn)\n",
        "files.download(f\"{fn}{ext}\")\n"
      ],
      "metadata": {
        "id": "91tHdmmPnKie"
      },
      "execution_count": null,
      "outputs": []
    },
    {
      "cell_type": "markdown",
      "source": [
        "##### *Option 3*: Upload questions from Google Drive\n",
        "\n",
        "The example below demonstrates how to mount your Google Drive in the virtual machine and copy your questions to the working directory."
      ],
      "metadata": {
        "id": "K4LOGvEenKie"
      }
    },
    {
      "cell_type": "code",
      "source": [
        "#@title <font size=3>Config and run</font>\n",
        "\n",
        "#@markdown Select the soruce folder (absolute path)\n",
        "dst_folder = \"\" #@param {type:\"string\"}\n",
        "src_folder = \"./exams/exercises/\"\n",
        "\n",
        "#@markdown\n",
        "#@markdown <u>**Click the button ![image](https://user-images.githubusercontent.com/101522927/239503327-25ab8bf5-ad27-45b6-9c2f-39d303eec112.png)\n",
        "#@markdown on the left to execute the cell.**</u>\n",
        "\n",
        "from google.colab import drive\n",
        "drive.mount('/gdrive')\n",
        "\n",
        "import shutil\n",
        "import os\n",
        "shutil.copytree(src_folder, dst_folder)"
      ],
      "metadata": {
        "cellView": "form",
        "id": "aaK7czTrnKie"
      },
      "execution_count": null,
      "outputs": []
    },
    {
      "cell_type": "markdown",
      "source": [
        "### <a name=\"sec:format\"></a> 2.2 Exam Format Templates\n",
        "\n",
        "Templates allow you to customize how the content of exam questions is presented when generating exams in HTML and PDF formats.\n"
      ],
      "metadata": {
        "id": "KI2LDIDsJeCn"
      }
    },
    {
      "cell_type": "code",
      "source": [],
      "metadata": {
        "id": "GkmJq39JZCAL"
      },
      "execution_count": null,
      "outputs": []
    },
    {
      "cell_type": "markdown",
      "source": [
        "### 2.3 <a name=\"sec:genExam\"></a>Configuring and Generating Exams\n",
        "\n",
        "In this notebook, you will discover fundamental examples of creating and configuring exams from a question bank and a template. Additionally, you'll find links to other notebooks featuring more advanced examples."
      ],
      "metadata": {
        "id": "RjcQUPxGJd1D"
      }
    },
    {
      "cell_type": "code",
      "source": [],
      "metadata": {
        "id": "E5eR5TdF6GfT"
      },
      "execution_count": null,
      "outputs": []
    },
    {
      "cell_type": "markdown",
      "source": [
        "# Disclaimer, license and additional information"
      ],
      "metadata": {
        "id": "og8oYa9urMCr"
      }
    },
    {
      "cell_type": "markdown",
      "source": [
        "## Authorship\n",
        "\n",
        "- **Authors:**\n",
        "  - Marcos García Lorenzo\n",
        "      - Affiliation: *VG-Lab*, Universidad Rey Juan Carlos, Móstoles, Spain\n",
        "      - Email: marcos.garcia &lt;at&gt; urjc.es\n",
        "\n",
        "<!--\n",
        "- **Contributors:**\n",
        "- **Revised by:**\n",
        "-->\n",
        "\n",
        "- **Code Maintenance:**\n",
        "  - The code in this notebook is maintained by Marcos García-Lorenzo. For any questions, bug reports, or suggestions related to the code, please contact Marcos at the provided email address.\n",
        "\n",
        "\n",
        "<!--\n",
        "## Acknowledgments\n",
        "We would like to express our gratitude to\n",
        "## Citation Request\n",
        "If you find this notebook useful for your work, we kindly request that you cite it as follows:\n",
        "\n",
        "[Author(s)]. [Notebook Title]. [Year]. Available in [URL of the notebook].\n",
        "\n",
        "This will help acknowledge the original authors and provide proper credit for their work.\n",
        "\n",
        "Thank you for your consideration and support!\n",
        "-->\n",
        "\n",
        "## Disclaimer\n",
        "\n",
        "The code provided in this notebook is for educational and illustrative purposes only. While we strive to ensure the accuracy and reliability of the information and code presented, we make no representations or warranties of any kind, express or implied, about the completeness, accuracy, reliability, suitability, or availability with respect to the notebook or the code contained within it. Any reliance you place on such information and code is therefore strictly at your own risk.\n",
        "\n",
        "We disclaim any liability for any errors, omissions, or inaccuracies in the notebook or the code. We will not be liable for any loss or damage arising from the use of this notebook or the code it contains. It is your responsibility to ensure that any code or information you use from this notebook is adequately tested and meets your requirements.\n",
        "\n",
        "Please note that the code may require modifications to adapt it to your specific use case, and you should exercise caution and judgment when implementing it.\n",
        "\n",
        "By using this notebook and the provided code, you agree to these terms and conditions.\n",
        "\n",
        "## License\n",
        "\n",
        "This work is licensed under a Creative Commons Attribution-ShareAlike 4.0 International License; you may not use this file except in compliance with the License.\n",
        "\n",
        "To view a copy of this license, visit [link to the Creative Commons license](link).\n",
        "\n",
        "Unless required by applicable law or agreed to in writing, software distributed under the License is distributed on an \"AS IS\" BASIS, WITHOUT WARRANTIES OR CONDITIONS OF ANY KIND, either express or implied. See the License for the specific language governing permissions and limitations under the License.\n",
        "\n",
        "\n"
      ],
      "metadata": {
        "id": "AZJSkxR-rqDr"
      }
    },
    {
      "cell_type": "markdown",
      "source": [
        "<a name=\"sec:dis\"></a>"
      ],
      "metadata": {
        "id": "wJMp19gtrQOR"
      }
    }
  ]
}
