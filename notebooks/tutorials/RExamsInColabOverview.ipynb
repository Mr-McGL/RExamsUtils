{
  "nbformat": 4,
  "nbformat_minor": 0,
  "metadata": {
    "colab": {
      "private_outputs": true,
      "provenance": [],
      "collapsed_sections": [
        "jArKeF5FywId",
        "PE7y8lP-BrHA",
        "_uoAO9-5GCyt",
        "2yMF56J0F9_g",
        "iZqG6f71H9s1",
        "i7buoEsDSwdw",
        "Ofyj4U9-NlrU",
        "OZDl5fLcRp8N",
        "UIiUVBkSmF5k",
        "oJe0t7rWjgpo",
        "0l7Eno5vnKie",
        "K4LOGvEenKie",
        "PKA4UiVEs4ZM",
        "47KwTJi2s4ZM",
        "e9LL_2m-s4ZM",
        "PSpxBZihs4ZM",
        "SGSVyVrhs4ZN",
        "3xSWYgDPs4ZN",
        "lZJl_cm-s4ZN",
        "WKj2mj_69XML",
        "EkIesEnGAaew",
        "hKWajB1PGUxb",
        "P_p27QLzMmRQ",
        "-lWnWAMdaWp1"
      ],
      "authorship_tag": "ABX9TyMNKnfwjbgD8tfocHQk0mtQ",
      "include_colab_link": true
    },
    "kernelspec": {
      "name": "python3",
      "display_name": "Python 3"
    },
    "language_info": {
      "name": "python"
    },
    "gpuClass": "standard"
  },
  "cells": [
    {
      "cell_type": "markdown",
      "metadata": {
        "id": "view-in-github",
        "colab_type": "text"
      },
      "source": [
        "<a href=\"https://colab.research.google.com/github/Mr-McGL/RExamsUtils/blob/dev%2Fmgarcia/notebooks/RExamsInColabOverview.ipynb\" target=\"_parent\"><img src=\"https://colab.research.google.com/assets/colab-badge.svg\" alt=\"Open In Colab\"/></a>"
      ]
    },
    {
      "cell_type": "markdown",
      "source": [
        "<!--\n",
        "<font size=\"2\"> *© 2023 by Marcos García Lorenzo ([URJC](https://www.urjc.es)). All rights reserved.*  &emsp;--&emsp; [[**Click here for license and disclaimer information**](#sec:dis)]\n",
        "</font>  \n",
        "<a href=\"https://creativecommons.org/licenses/by-nc-sa/4.0/legalcode\"> <img src=\"https://licensebuttons.net/l/by-nc-sa/3.0/88x31.png\" alt=\"CC BY-NC-SA\" width=80></a>\n",
        "-->\n",
        "\n",
        "<table width=\"100%\" align=\"center\">\n",
        "  <tr>\n",
        "    <td width=\"90px\" align=\"left\">\n",
        "      <a href=\"https://www.r-exams.org\">\n",
        "      <!--<img src=\"https://www.r-exams.org/assets/img/logo.svg\"></a>-->\n",
        "      <!--<img src=\"https://www.r-exams.org/assets/img/logo.svg\"></a>-->\n",
        "      <!--<img src=\"https://github.com/Mr-McGL/RExamsUtilsBinaries/raw/main/imgs/RExams_logo_white.png\">-->\n",
        "      <img src=\"https://github.com/Mr-McGL/RExamsUtilsBinaries/raw/main/imgs/RExams_logo_dgray.png\">\n",
        "    </td>\n",
        "    <td width=\"120px\" align=\"left\">\n",
        "      <!--<a href=\"https://www.urjc.es\"> <img src=\"https://raw.githubusercontent.com/Mr-McGL/RExamsUtilsBinaries/main/imgs/URJC_logo_BN_NEG.jpg\" alt=\"URJC\" width=\"100%\"></a>-->\n",
        "      <a href=\"https://www.urjc.es\"> <img src=\"https://raw.githubusercontent.com/Mr-McGL/RExamsUtilsBinaries/main/imgs/URJC_logo_BN_DG.jpg\" alt=\"URJC\" width=\"100%\"></a>\n",
        "    </td>\n",
        "    <td align=\"center\">\n",
        "      <font size=\"2\" color=\"#aaaaaa\"> <em>© 2023 by Marcos García Lorenzo (<a href=https://gestion2.urjc.es/pdi/grupos-innovacion/mimic>MIMIC</a> - <a href=https://www.urjc.es>URJC</a>). All rights reserved. </em></font><br>\n",
        "      <font size=\"3px\"></font>\n",
        "      <font size=\"1px\"><a href=#sec:dis>[Click here for license and disclaimer information]<a></font>\n",
        "    </td>\n",
        "    <td width=\"70px\" align=\"right\"></td>\n",
        "    <td width=\"100px\" align=\"right\">\n",
        "      <a href=\"https://creativecommons.org/licenses/by-nc-sa/4.0/legalcode\"> <img src=\"https://licensebuttons.net/l/by-nc-sa/3.0/88x31.png\" alt=\"CC BY-NC-SA\" width=\"100%\"></a>\n",
        "    </td>\n",
        "  </tr>\n",
        "</table>\n",
        "  \n",
        "\n",
        "\n",
        " # R/exams in Colab: <br> <font size=5>*Create Exams without Installing any Softare Locally* </font> <br> <font size=4> ***Overview and Sippets***<br><font>\n",
        "\n",
        "<font size=1px><br></font>\n",
        "\n",
        "In this Colab notebook, we will explore how to use R/exams, a powerful tool for creating exams and exercises using the R programming language. The best part is that you won't need to install any software on your local machine.\n",
        "\n",
        "<br>\n",
        "\n",
        "<font size=7px></font><details>\n",
        "<summary> <strong>What is R/exmans?</strong></summary>\n",
        "\n",
        "<br>\n",
        "\n",
        "***R/exams***[$^{[1]}$](https://www.r-exams.org/) is a fantastic tool for generating exams automatically. It allows you to export the exams into several printed formats such as HTML or PDF; or learning management system formats compatible with platroms such as Moodle, Canvas, OpenOlat, Blackboard, Ilias, … This makes it easy to create dynamic exams and then effortlessly import them into online platforms (like [*URJC's Aula Virtual*]((https://www.aulavirtual.urjc.es/moodle/login/index.php)) for your students to access and take the tests.\n",
        "\n",
        "<br>\n",
        "\n",
        "</details>\n",
        "\n",
        "<details>\n",
        "<summary><strong>How to use this notebook?</strong></summary>\n",
        "\n",
        "<br>\n",
        "\n",
        "The main purpose of this notebook is to allow you to create your own exams without having to install any software locally. **We recommend that you make a copy of this notebook for each exam you wish to create and customize it to suit your needs.**\n",
        "\n",
        "While this notebook is not a R/Exams tutorial (you can access to the oficial web page tutorials here: [link](https://www.r-exams.org/tutorials/)), it offers a platform overview, and you will find several sections with code snippets that will assist you throughout the exam design process. Feel free to modify, add, and delete cells in this notebook to tailor it to your specific needs.\n",
        "\n",
        "Please note that the goal of this notebook is to provide you with a convenient and accessible tool for creating exams. Enjoy the process and create great exams for your students!\n",
        "\n",
        "<br>\n",
        "\n",
        "</details>\n"
      ],
      "metadata": {
        "id": "DlS4wb1Y5pbL"
      }
    },
    {
      "cell_type": "markdown",
      "source": [
        "## 0. Overview\n"
      ],
      "metadata": {
        "id": "jArKeF5FywId"
      }
    },
    {
      "cell_type": "markdown",
      "source": [
        "R/exams[$^{[1]}$](https://www.r-exams.org/)  is an open-source package designed to streamline the creation of exams across various online platforms and in printed formats. On their website, you have access to videos, tutorials, blogs, and other resources that offer comprehensive insights into how to effectively use the tool and how it functions.\n",
        "\n",
        "<font color=\"#ffaa00\" size=4>***Note:***</font> The notebooks offered in the [`/notebooks/tutorials`](https://github.com/Mr-McGL/RExamsUtils/tree/dev/mgarcia/notebooks/tutorials) directory of this repository are not meant to replace these materials, but rather to provide an environment  for getting familiar with the tool. In fact, some of these modules are designed for potential users to run these tutorials without the need to install any software locally.\n",
        "<font color=\"#ff00000\">**TODO 1. enlace**</font>"
      ],
      "metadata": {
        "id": "m7h8X4Owy0BS"
      }
    },
    {
      "cell_type": "markdown",
      "source": [
        "### Main Idea"
      ],
      "metadata": {
        "id": "PE7y8lP-BrHA"
      }
    },
    {
      "cell_type": "markdown",
      "source": [
        "In the tutorial [*First Steps*](https://www.r-exams.org/tutorials/first_steps/), you'll find a clear description of the idea behind this platform.\n",
        "\n",
        ">The basic idea of R/exams is to have a one-for-all exams generator where each exercise is a standalone file, so that the same exercise can be rendered easily into a variety output formats such as e-learning systems or written exams. To reduce the risk of cheating, R/exams offers different mechanisms for drawing random variations of exercises:\n",
        "> * Randomly selecting one (or more) out of a set of exercises for each participant.\n",
        "> * Randomly shuffling answer alternatives in single-choice and multiple-choice questions.\n",
        "> * Randomly selecting numbers, text blocks, graphics, etc. using the R programming language.\n",
        ">\n",
        ">Each exercise (or rather “exercise template”) is a standalone file with up to four elements:\n",
        ">1. Data-generating process in R.\n",
        ">2. Question text.\n",
        ">3. Solution text.\n",
        ">4. Meta-information: Type of question (single-choice, multiple-choice, numeric, string, or combinations thereof), correct solution, a name/label, etc.\n",
        ">\n",
        "> Only the question (2) and the meta-information (4) are mandatory while data generation (1) and solution (3) are optional. Solutions can be used to either inform teachers about the correct solution for some randomly drawn exercise - or for giving students feedback about how to solve a given exercise. Programming a good data-generating process is often the hardest part of authoring a new dynamic exercise but is, of course, crucial for drawing a very large number of random variations.\n",
        ">\n",
        "> For formatting the text within question/solution (e.g., italics, bold face, lists, etc.) two options are available: Markdown or LaTeX. The former is very easy to learn and recommended for authors who do not know LaTeX yet. If mathematic notation and formulas are needed, then LaTeX can be used - either within a LaTeX or also within a Markdown question. The file suffix for R/Markdown is .Rmd while .Rnw is conventionally used for R/LaTeX, known as Sweave.\n",
        ">\n",
        "\n"
      ],
      "metadata": {
        "id": "mWV3AeYC9DsU"
      }
    },
    {
      "cell_type": "markdown",
      "source": [
        "> #### Single-choice example: Swiss capital (.Rmd)"
      ],
      "metadata": {
        "id": "_uoAO9-5GCyt"
      }
    },
    {
      "cell_type": "markdown",
      "source": [
        "\n",
        "> *Question [2]*\n",
        "> ```md\n",
        "> Question\n",
        "> ========\n",
        "> What is the seat of the federal authorities in Switzerland (i.e., the de facto capital)?\n",
        ">\n",
        "> Answerlist\n",
        "> ----------\n",
        "* Basel\n",
        "* Bern\n",
        "* Geneva\n",
        "* Lausanne\n",
        "* Zurich\n",
        "* St. Gallen\n",
        "* Vaduz\n",
        "```\n",
        "> *Solution [3]*\n",
        ">```\n",
        ">Solution\n",
        ">========\n",
        ">There is no de jure capital but the de facto capital and seat of the federal authorities is Bern.\n",
        "```\n",
        "> *Meta-information [4]*\n",
        "> ```\n",
        "> Meta-information\n",
        "> ================\n",
        "> exname: Swiss Capital\n",
        "> extype: schoice\n",
        "> exsolution: 0100000\n",
        "> exshuffle: 5\n",
        "```\n"
      ],
      "metadata": {
        "id": "IBStwjdBF9df"
      }
    },
    {
      "cell_type": "markdown",
      "source": [
        "### Exercise Types"
      ],
      "metadata": {
        "id": "2yMF56J0F9_g"
      }
    },
    {
      "cell_type": "markdown",
      "source": [
        "R/exams provides the following execise template types: multiple-choice, single-choice, numeric, text, and combinations thereof (cloze). Examples of each question type can be found at this [link](https://www.r-exams.org/intro/dynamic/)."
      ],
      "metadata": {
        "id": "s5hv1yFMGdh7"
      }
    },
    {
      "cell_type": "markdown",
      "source": [
        "### Output formats"
      ],
      "metadata": {
        "id": "iZqG6f71H9s1"
      }
    },
    {
      "cell_type": "markdown",
      "source": [
        "Output formats available:\n",
        "* Imports for learning management systems, content management systems, computer-based assessment, live voting software, and interactive platforms: Moodle, Canvas, OpenOlat, Blackboard, Ilias, Grasple, Kahoot, Particify, TCExam...\n",
        "* Question and Test Interoperability specification: QTI 1.2 and 2.1\n",
        "* Writen exams (automatic evalutation): NOPS (PDF). Additional information at this [link](https://www.r-exams.org/intro/written/)\n",
        "* Document templates (*some of which are supported through pandoc*): PDF, HTML, Docx, ODF, ODT, Markdown, LaTeX...\n",
        "* Additional Packges: [learnr](https://cran.r-project.org/web/packages/exams2learnr/index.html), [MyLearn](https://cran.r-project.org/web/packages/exams.mylearn/index.html) and [Sakai](https://cran.r-project.org/web/packages/exams2sakai/index.html)\n",
        "\n",
        "Additional information can be found at this [link](https://www.r-exams.org/intro/oneforall/).\n"
      ],
      "metadata": {
        "id": "Exlbeb6TIXig"
      }
    },
    {
      "cell_type": "markdown",
      "source": [
        "### Resources"
      ],
      "metadata": {
        "id": "i7buoEsDSwdw"
      }
    },
    {
      "cell_type": "markdown",
      "source": [
        "\n",
        "* [Official Web Page](https://www.r-exams.org/)\n",
        "  * [Tutorials](https://www.r-exams.org/tutorials/)\n",
        "  * [Blogs](https://www.r-exams.org/blog/)\n",
        "  * [Exercise Templates](https://www.r-exams.org/templates/)\n",
        "* [Reference manual](https://cran.r-project.org/web/packages/exams/exams.pdf)\n",
        "* [Package Web Page at CRAN](https://cran.r-project.org/web/packages/exams/index.html)\n",
        "* [Videos](https://www.youtube.com/playlist?list=PLsEZAAbioUw1IBnhtBi9eIo0uqMHmqDor)"
      ],
      "metadata": {
        "id": "foTb_4xORYu9"
      }
    },
    {
      "cell_type": "markdown",
      "source": [
        "## 1. Installing R/exams [$^{[2]}$](https://www.r-exams.org/tutorials/installation/)\n",
        "\n",
        "<font color=#ffaa00 size=4>***Note:*** </font> All the cells in this section must be run to install and import the R/exams package. Optionally, you can uncomment some parts of the code to modify the configuration or adapt it to other Python environments."
      ],
      "metadata": {
        "id": "7MumODSHjq_R"
      }
    },
    {
      "cell_type": "markdown",
      "source": [
        "### 1.1. Enabling R in Python Notebook\n",
        "\n",
        "R/exams is an R package. In order to run this package in a Python kernel, we need to install the rpy2[$^{[3]}$](https://rpy2.github.io/) module. The rpy2 module allows us to execute R code in our notebook. For more information on how to run R code in Google Colab, you can refer to this tutorial\n",
        "<a href=\"https://colab.research.google.com/github/Mr-McGL/RExamsUtils/blob/dev%2Fmgarcia/notebooks/tutorials/RInColab.ipynb\" target=\"_parent\"><img src=\"https://colab.research.google.com/assets/colab-badge.svg\" alt=\"Open In Colab\"></a>.\n",
        "<font color=red>**TODO!!!!!**</font>"
      ],
      "metadata": {
        "id": "jQGyNei6kdn8"
      }
    },
    {
      "cell_type": "code",
      "execution_count": null,
      "metadata": {
        "id": "Hj97hvY-CMcH"
      },
      "outputs": [],
      "source": [
        "# To hide the output of the cell, uncomment the next line.\n",
        "# %%caputre installRPY2Output\n",
        "!pip install rpy2==3.5.1\n",
        "#!pip install --upgrade rpy2 #warning!!!"
      ]
    },
    {
      "cell_type": "markdown",
      "source": [
        "The rpy2 package offers convenient line magic command (`%R`) and cell magic command (`%%R`), enabling seamless execution of R code. Before using them, you need to load the following extension:\n"
      ],
      "metadata": {
        "id": "t424mn5Bnly8"
      }
    },
    {
      "cell_type": "code",
      "source": [
        " #Load rpy2 package\n",
        " %reload_ext rpy2.ipython"
      ],
      "metadata": {
        "id": "cctHR8r3GlDy"
      },
      "execution_count": null,
      "outputs": []
    },
    {
      "cell_type": "markdown",
      "source": [
        "\n",
        "***Examples:***"
      ],
      "metadata": {
        "id": "oLNQzWdqGn0s"
      }
    },
    {
      "cell_type": "code",
      "source": [
        "#Use the following cell magic to run R code:\n",
        "%%R\n",
        "x <- seq(0, 2*pi, length.out=5)\n",
        "print(x)"
      ],
      "metadata": {
        "id": "zy1VKPaZnkQw"
      },
      "execution_count": null,
      "outputs": []
    },
    {
      "cell_type": "code",
      "source": [
        "# Use %R (line magic) to run a single R line\n",
        "x = %R x\n",
        "x = list(x)\n",
        "print(x)"
      ],
      "metadata": {
        "id": "9jMc4bo9n-Pl"
      },
      "execution_count": null,
      "outputs": []
    },
    {
      "cell_type": "markdown",
      "source": [
        "#### Optional"
      ],
      "metadata": {
        "id": "pQYtgBr3H3rY"
      }
    },
    {
      "cell_type": "markdown",
      "source": [
        "R provides a lot of information through the console, for example, during package installatiosn. rpy2 allows configuring how to interact with and receive information from the console.\n",
        "When working in Google Colab, we recommend modifying how errors and warnings are displayed to make it more user-friendly. Here's an example:"
      ],
      "metadata": {
        "id": "ed5egzjNHuhC"
      }
    },
    {
      "cell_type": "code",
      "source": [
        "def warn_error_print(msg: str) -> None:\n",
        "    if not msg:\n",
        "        return\n",
        "\n",
        "    def print_line(m: str, add_prefix: bool, end: str = \"\\n\"):\n",
        "        prefix = \"\\x1b[1m\\x1b[32m[R]: \\x1b[0m\" if add_prefix else \"\"\n",
        "        print(f\"{prefix}\\x1b[3m\\x1B[1m\\x1b[35m{m}\\x1b[0m\", end=end)\n",
        "\n",
        "    lines = msg.split('\\n')\n",
        "    add_prefix = warn_error_print.new_line\n",
        "    for line in lines[:-1]:\n",
        "        print_line(line, add_prefix)\n",
        "        add_prefix = True\n",
        "\n",
        "    if lines[-1]:\n",
        "        print_line(lines[-1], add_prefix, end='')\n",
        "\n",
        "    warn_error_print.new_line = lines[-1] == ''\n",
        "\n",
        "warn_error_print.new_line = True"
      ],
      "metadata": {
        "id": "skEtbpVAHwa6"
      },
      "execution_count": null,
      "outputs": []
    },
    {
      "cell_type": "code",
      "source": [
        "import rpy2\n",
        "consolewrite_warnerror_default = rpy2.rinterface_lib.callbacks.consolewrite_warnerror"
      ],
      "metadata": {
        "id": "47nAK_zZHw8w"
      },
      "execution_count": null,
      "outputs": []
    },
    {
      "cell_type": "code",
      "source": [
        "rpy2.rinterface_lib.callbacks.consolewrite_warnerror = warn_error_print"
      ],
      "metadata": {
        "id": "-vAdfv1wW539"
      },
      "execution_count": null,
      "outputs": []
    },
    {
      "cell_type": "code",
      "source": [
        "%%R\n",
        "warning(\"foo\", immediate. = TRUE)"
      ],
      "metadata": {
        "id": "Ep3EYGRYHw0J"
      },
      "execution_count": null,
      "outputs": []
    },
    {
      "cell_type": "code",
      "source": [
        "rpy2.rinterface_lib.callbacks.consolewrite_warnerror = consolewrite_warnerror_default"
      ],
      "metadata": {
        "id": "XxsOO9gqIKKg"
      },
      "execution_count": null,
      "outputs": []
    },
    {
      "cell_type": "markdown",
      "source": [
        "### 1.2. Installing R/exams and its dependencies\n",
        "\n"
      ],
      "metadata": {
        "id": "w9wB0yyEoJJy"
      }
    },
    {
      "cell_type": "markdown",
      "source": [
        "Installing the R/exams package takes approximately 4 minutes."
      ],
      "metadata": {
        "id": "KemqYmuRyfIz"
      }
    },
    {
      "cell_type": "code",
      "source": [
        "%%R\n",
        "#Stable version\n",
        "install.packages(\"exams\", dependencies = TRUE)\n",
        "\n",
        "#Development version (not recommended for beginners)\n",
        "#install.packages(\"exams\", repos = \"https://R-Forge.R-project.org\")"
      ],
      "metadata": {
        "id": "dkgWPv8moiGK"
      },
      "execution_count": null,
      "outputs": []
    },
    {
      "cell_type": "markdown",
      "source": [
        "Installing a LaTeX distribution"
      ],
      "metadata": {
        "id": "oYBAYlnio1W0"
      }
    },
    {
      "cell_type": "code",
      "source": [
        "#Install TinyTeX for generating PDF files\n",
        "%%R\n",
        "tinytex::install_tinytex()"
      ],
      "metadata": {
        "id": "HqzNmUb5oypa"
      },
      "execution_count": null,
      "outputs": []
    },
    {
      "cell_type": "markdown",
      "source": [
        "\n",
        "Pandoc$^{[}$[$^{4}$](https://pandoc.org/)$^{,}$[$^{5}$](https://github.com/JessicaTegner/pypandoc)$^{]}$ is internally used for certain conversions. Fortunately, this package is already installed in Colab."
      ],
      "metadata": {
        "id": "mYEP1nDqpgfN"
      }
    },
    {
      "cell_type": "code",
      "source": [
        "#Install pandoc (internal use). Already installed in Colab and Jupyter\n",
        "#%%capture installPandoc_output\n",
        "#!apt-get install pandoc\n",
        "\n",
        "#To use it in Python\n",
        "#!pip install pandoc\n",
        "#import pypandoc"
      ],
      "metadata": {
        "id": "ETpnQCXxpf6C"
      },
      "execution_count": null,
      "outputs": []
    },
    {
      "cell_type": "markdown",
      "source": [
        "The following packages$^{[}$[$^{6}$](https://imagemagick.org/index.php)$^{,}$[$^{7}$](https://www.pdflabs.com/tools/pdftk-the-pdf-toolkit/)$^{]}$ are required to create written NOPS exams (automatic evaluation)"
      ],
      "metadata": {
        "id": "PLo-9K6mqDjr"
      }
    },
    {
      "cell_type": "code",
      "source": [
        "# The following packages are required to create written NOPS exams (automatic evaluation):\n",
        "# https://www.r-exams.org/intro/written/\n",
        "#%%capture\n",
        "#!apt-get install pdftk imagemagick"
      ],
      "metadata": {
        "id": "0YX-GIAXqLVv"
      },
      "execution_count": null,
      "outputs": []
    },
    {
      "cell_type": "markdown",
      "source": [
        "### 1.3. Importing R/exams"
      ],
      "metadata": {
        "id": "6RMoPufCqOCe"
      }
    },
    {
      "cell_type": "code",
      "source": [
        "%%R\n",
        "library(\"exams\")"
      ],
      "metadata": {
        "id": "QKhJB-p5qMiS"
      },
      "execution_count": null,
      "outputs": []
    },
    {
      "cell_type": "markdown",
      "source": [
        "### 1.4. Installing Optional Modules\n",
        "\n",
        "In this section, you can install additional modules that are <font color=#ffaa00><u>***required for some snippets***</u></font>, but are not mandatory for the basic functioning of R/Exams."
      ],
      "metadata": {
        "id": "nSnMLwBQAS8W"
      }
    },
    {
      "cell_type": "markdown",
      "source": [
        "You have the option to install pygments[$^{[8]}$](https://pygments.org/), which enables syntax highlighting for Markdown files. Colab already has it installed, but you need to install the jedi[$^{[9]}$](https://jedi.readthedocs.io/en/latest/) package for it to work properly. The following snippet allows you to update the version. <font color=\"#ffaa00\"><u>***Please note that you'll need to restart the environment and re-run the previous cells!***</u></font>\n"
      ],
      "metadata": {
        "id": "_CSrs3XUBy3s"
      }
    },
    {
      "cell_type": "code",
      "source": [
        "# pygments update (**Catution: restarts runtime**.  Requires to rerun the notebook from the beginning)\n",
        "#%%capture\n",
        "#from packaging.version import parse as get_version\n",
        "#from importlib.metadata import version as pkg_version\n",
        "#if get_version(pkg_version(\"pygments\")) <= get_version('2.13.0'):\n",
        "#  !pip install pygments -U\n",
        "#  import os\n",
        "#  os.kill(os.getpid(), 9)\n",
        "#  quit()"
      ],
      "metadata": {
        "id": "iZ0MDgZkABFS"
      },
      "execution_count": null,
      "outputs": []
    },
    {
      "cell_type": "code",
      "source": [
        "#Required by pigments (code highlighting)\n",
        "#%%capture --no-stderr\n",
        "!pip install jedi"
      ],
      "metadata": {
        "id": "dSsQDMCpAH8g"
      },
      "execution_count": null,
      "outputs": []
    },
    {
      "cell_type": "markdown",
      "source": [
        "###  <a name=\"sec:skeleton\"></a>1.5. R/exams skeleton\n",
        "R/exams allows you to create a skeleton with various examples that illustrate its functionality. Use the `exams_skeleton` function to create this skeleton. <u>***Some of the snippets used later on rely on these files***</u>.\n"
      ],
      "metadata": {
        "id": "RvGz_NB-C35B"
      }
    },
    {
      "cell_type": "code",
      "source": [
        "!mkdir -p ./exams/demo"
      ],
      "metadata": {
        "id": "jZr-E7H1Hios"
      },
      "execution_count": null,
      "outputs": []
    },
    {
      "cell_type": "code",
      "source": [
        "%%R\n",
        "exams_skeleton(\n",
        "        dir = \"./exams/demo\",\n",
        "        markup = \"markdown\", encoding = \"UTF-8\",\n",
        "        writer = c(\"exams2html\", \"exams2pdf\", \"exams2moodle\"))\n"
      ],
      "metadata": {
        "id": "YKE8KomWy3hW"
      },
      "execution_count": null,
      "outputs": []
    },
    {
      "cell_type": "markdown",
      "source": [
        "*Other options*\n",
        "\n",
        "```r\n",
        "type = c(\"num\", \"schoice\", \"mchoice\", \"string\", \"cloze\")\n",
        "writer = c(\"exams2html\", \"exams2pdf\", \"exams2moodle\", \"exams2qti12\", \"exams2qti21\", \"exams2arsnova\", \"exams2nops\")\n",
        "markup = \"latex\"\n",
        "```"
      ],
      "metadata": {
        "id": "v1Yto6J4RIB5"
      }
    },
    {
      "cell_type": "markdown",
      "source": [
        "*Directory tree created*"
      ],
      "metadata": {
        "id": "Yt2Zk3T_RY-d"
      }
    },
    {
      "cell_type": "code",
      "source": [
        "#tree\n",
        "!ls -R exams | grep \":$\" | sed -e 's/:$//' -e 's/[^-][^\\/]*\\//--/g' -e 's/^/   /' -e 's/-/|/'"
      ],
      "metadata": {
        "id": "Ul75LzIlC4P6"
      },
      "execution_count": null,
      "outputs": []
    },
    {
      "cell_type": "code",
      "source": [
        "# @title <font size=3> Show examples</font> { run: \"auto\", display-mode: \"form\" }\n",
        "example = \"Create exams in all available formats\" # @param [\"Create exams in all available formats\", \"Create exam in HTML format\", \"Create exam in PDF format\", \"Create exam specifically for Moodle\",\"Multiple-choice question\",\"Single-choice question\", \"Numeric question\", \"Cloze question\", \"LaTeX template\", \"LaTeX solution template\", \"LaTeX plain template\", \"HTML plain template\"]\n",
        "\n",
        "\n",
        "\n",
        "options = [\"Create exams in all available formats\", \"Create exam in HTML format\", \"Create exam in PDF format\", \"Create exam specifically for Moodle\",\"Multiple-choice question\",\"Single-choice question\", \"Numeric question\", \"Cloze question\", \"LaTeX template\", \"LaTeX solution template\", \"LaTeX plain template\", \"HTML plain template\"]\n",
        "path = \"./exams/demo/\"\n",
        "files = [\"demo-all.R\", \"demo-html.R\", \"demo-pdf.R\", \"demo-moodle.R\", \"exercises/capitals.Rmd\", \"exercises/swisscapital.Rmd\", \"exercises/deriv.Rmd\",          \"exercises/lm.Rmd\", \"templates/exam.tex\", \"templates/solution.tex\", \"templates/plain.tex\", \"templates/plain.html\"]\n",
        "\n",
        "fn = files[options.index(example)]\n",
        "frmt = \"-l markdown\" if fn.endswith(\".Rmd\") else \"\"\n",
        "!pygmentize -f terminal {frmt} {path}{fn}"
      ],
      "metadata": {
        "id": "Sq3tFrg9Jfm7"
      },
      "execution_count": null,
      "outputs": []
    },
    {
      "cell_type": "markdown",
      "source": [
        "## 2. R/exams: Snippets for Desing Exams\n",
        "\n",
        "The goal of this section is to provide a collection of snippets that will facilitate the process of designing exams using R/exams. To create an exam you with this tool you will have to: (i) create the set of question templates that will be incorporated into the exam; (ii) optionally, if you want to export your exam to an HTML file or to a PDF file, you can create an exam format template; and (iii) finally you will have to configure and gernerate your exams.\n",
        "\n",
        "Following these three points, the rest of the notebook is structured as follows:\n",
        "\n",
        "1. [Question Banks](#sec:quest)\n",
        "2. [Exam Templates](#sec:format)\n",
        "3. [Configure and Generate Exams](#sec:genExam)\n"
      ],
      "metadata": {
        "id": "X3t0yHKQ3Fbf"
      }
    },
    {
      "cell_type": "markdown",
      "source": [
        "### <a name=\"sec:quest\"></a> 2.1 Question Banks\n",
        "\n",
        "This section offers different alternatives for **uploading**, **creating**, and **downloading** a excercise templates."
      ],
      "metadata": {
        "id": "d4vFvUphJePi"
      }
    },
    {
      "cell_type": "markdown",
      "source": [
        "#### 2.1.0 Download data for testing\n",
        "\n",
        "In this subsection, you'll find instructions on how to download sample data to test the options provided in the other subsections of section 2.1."
      ],
      "metadata": {
        "id": "O3CiBZUPAzjl"
      }
    },
    {
      "cell_type": "markdown",
      "source": [
        "The following links contain the example question banks provided by the R/exams in *LaTeX* and *Markdown*:\n",
        "\n",
        "* [*LaTeX*](https://github.com/Mr-McGL/RExamsUtilsBinaries/raw/main/testdata/exercises_latex.zip)\n",
        "* [*Markdown*](https://github.com/Mr-McGL/RExamsUtilsBinaries/raw/main/testdata/exercises_md.zip)\n",
        "\n",
        "The following subsections explain how to load and unzip question banks from your local machine and your Google Drive account$^{[}$[$^{10}$](https://drive.google.com/drive/my-drive)$^{]}$. By clicking on the links above, a zip file containing all the questions will be downloaded to your local device. In order to try out the second option recommended in subsection [2.1.1](#subsec:upq), you'll need to upload the exams to a folder in your Google Drive.\n",
        "\n",
        "<u>**Alternatively, you can run the following cell to perform these steps automatically.**</u>\n",
        "\n"
      ],
      "metadata": {
        "id": "d1I-xXffB_Cp"
      }
    },
    {
      "cell_type": "code",
      "source": [
        "# @title <font size=3>Config and run</font> { vertical-output: true, display-mode: \"form\" }\n",
        "\n",
        "#@markdown Absolute path to a folder on Google Drive where the exams will be downloaded. If the folder doesn't exist, it will be created automatically.\n",
        "gdrive_folder = \"/rexams/exercises\" #@param {type:\"string\"}\n",
        "\n",
        "#@markdown Steps:\n",
        "download_to_gdrive = True # @param {type:\"boolean\"}\n",
        "download_to_local_device = True # @param {type:\"boolean\"}\n",
        "\n",
        "#@markdown <u>**Click the button ![image](https://user-images.githubusercontent.com/101522927/239503327-25ab8bf5-ad27-45b6-9c2f-39d303eec112.png)\n",
        "#@markdown on the left to execute the cell.**</u>\n",
        "\n",
        "# ---\n",
        "from google.colab import files\n",
        "from google.colab import drive\n",
        "\n",
        "if download_to_gdrive or download_to_local_device:\n",
        "  !wget https://github.com/Mr-McGL/RExamsUtilsBinaries/raw/main/testdata/exercises_latex.zip\n",
        "  !wget https://github.com/Mr-McGL/RExamsUtilsBinaries/raw/main/testdata/exercises_md.zip\n",
        "\n",
        "  if download_to_local_device:\n",
        "    files.download(\"exercises_latex.zip\")\n",
        "    files.download(\"exercises_md.zip\")\n",
        "\n",
        "  if download_to_gdrive:\n",
        "    drive.mount('/gdrive')\n",
        "\n",
        "    print(f\"mkdir -p /gdrive/MyDrive{gdrive_folder}\")\n",
        "    !mkdir -p /gdrive/MyDrive{gdrive_folder}\n",
        "    !cp exercises_latex.zip /gdrive/MyDrive{gdrive_folder}\n",
        "    !cp exercises_md.zip /gdrive/MyDrive{gdrive_folder}\n",
        "\n",
        "    drive.flush_and_unmount()"
      ],
      "metadata": {
        "id": "bivOWTwCmEeH"
      },
      "execution_count": null,
      "outputs": []
    },
    {
      "cell_type": "code",
      "source": [
        "if download_to_gdrive or download_to_local_device:\n",
        "  !rm /content/exercises_latex.zip\n",
        "  !rm /content/exercises_md.zip"
      ],
      "metadata": {
        "id": "Bzx0UEsTxeKw"
      },
      "execution_count": null,
      "outputs": []
    },
    {
      "cell_type": "markdown",
      "source": [
        "#### <a name=\"subsec:upq\"></a>2.1.1 Upload Questions\n",
        "\n",
        "Since this notebook is running on a remote virtual machine, you will be required to upload your working data each time the runtime environment is reset.\n",
        "\n"
      ],
      "metadata": {
        "id": "Ofyj4U9-NlrU"
      }
    },
    {
      "cell_type": "markdown",
      "source": [
        "The variable `uploadedQuestions` will store the names of all the files you have uploaded."
      ],
      "metadata": {
        "id": "-bUAfI8QyCto"
      }
    },
    {
      "cell_type": "code",
      "source": [
        "uploadedQuestions = []"
      ],
      "metadata": {
        "id": "6EmTglRRwu3F"
      },
      "execution_count": null,
      "outputs": []
    },
    {
      "cell_type": "markdown",
      "source": [
        "##### *Option 1*: Upload questions from local files\n",
        "\n",
        "With this code, you have the option to upload the exercise templates individually or upload a compressed file containing multiple questions. Further ahead, you will find a snippet that enables you to unpack the compressed files."
      ],
      "metadata": {
        "id": "OZDl5fLcRp8N"
      }
    },
    {
      "cell_type": "code",
      "source": [
        "from google.colab import files\n",
        "\n",
        "!mkdir -p ./exams/exercises\n",
        "%pushd ./exams/exercises\n",
        "\n",
        "try:\n",
        "  while True:\n",
        "    uploadedQuestions += list(files.upload().keys())\n",
        "    choice = input(\"Do you want to upload another file? (yes/no, default: no): \")\n",
        "    if choice.lower() not in (\"yes\",\"y\"):\n",
        "        break\n",
        "\n",
        "finally:\n",
        "  %popd"
      ],
      "metadata": {
        "id": "RDxfYpp2Rr-I"
      },
      "execution_count": null,
      "outputs": []
    },
    {
      "cell_type": "markdown",
      "source": [
        "##### *Option 2*: Upload questions from Google Drive\n",
        "\n",
        "The example below demonstrates how to mount your Google Drive in the virtual machine and copy your exercise templates into the working directory."
      ],
      "metadata": {
        "id": "n7Ffizz2k8fg"
      }
    },
    {
      "cell_type": "code",
      "source": [
        "#@title <font size=3>Config and run</font>\n",
        "\n",
        "#@markdown Select the soruce folder (absolute path)\n",
        "src_folder = \"/rexams/exercises\" #@param {type:\"string\"}\n",
        "dst_folder = \"exams/exercises\"\n",
        "\n",
        "#@markdown\n",
        "#@markdown <u>**Click the button ![image](https://user-images.githubusercontent.com/101522927/239503327-25ab8bf5-ad27-45b6-9c2f-39d303eec112.png)\n",
        "#@markdown on the left to execute the cell.**</u>\n",
        "\n",
        "from google.colab import drive\n",
        "import shutil\n",
        "import os\n",
        "\n",
        "!mkdir -p ./exams/exercises\n",
        "\n",
        "drive.mount('/gdrive')\n",
        "\n",
        "shutil.copytree(f\"/gdrive/MyDrive{src_folder}\", f\"/content/{dst_folder}\", dirs_exist_ok=True)\n",
        "\n",
        "uploadedQuestions = os.listdir(f\"/content/{dst_folder}\")\n",
        "\n",
        "drive.flush_and_unmount()"
      ],
      "metadata": {
        "cellView": "form",
        "id": "UtVuktk_k7oD"
      },
      "execution_count": null,
      "outputs": []
    },
    {
      "cell_type": "markdown",
      "source": [
        "##### Unpack uploaded files (optional)\n",
        "\n",
        "This code allows you to extract TAR, ZIP, GZ, BZ, and XZ files."
      ],
      "metadata": {
        "id": "UIiUVBkSmF5k"
      }
    },
    {
      "cell_type": "code",
      "source": [
        "import shutil\n",
        "import os\n",
        "\n",
        "path = \"./exams/exercises/\"\n",
        "uploadedQuestions = os.listdir(f\"/content/{dst_folder}\")\n",
        "\n",
        "\n",
        "for fn in uploadedQuestions:\n",
        "  if fn.split(\".\")[-1].lower() in (\"tar\",\"zip\",\"gz\", \"bz\", \"xz\"):\n",
        "    shutil.unpack_archive(f'{path}{fn}', path) #formats = “zip|tar|gztar|bztar|xztar”"
      ],
      "metadata": {
        "id": "zV--dyo4rAe_"
      },
      "execution_count": null,
      "outputs": []
    },
    {
      "cell_type": "markdown",
      "source": [
        "#### 2.1.2 Create Question Banks\n",
        "\n",
        "We crafted a series of instructional notebooks detailing the creation of diverse exercise  compatible with R/exams.  Additionally, you can use any of the notebooks designed to enhance the creation of exercise templates.\n",
        "\n",
        "Within this section, you will encounter the links to these alternatives.\n",
        "\n",
        "[![Tutorials](https://badgen.net/badge/icon/GIT?icon=git&label=Tutorials&color=FF4400)](https://github.com/Mr-McGL/RExamsUtils/tree/dev/mgarcia/notebooks/tutorials)\n",
        "[![Tools](https://badgen.net/badge/icon/GIT?icon=git&label=Tools&color=FF4400)](https://github.com/Mr-McGL/RExamsUtils/tree/dev/mgarcia/notebooks/tools/exercises)\n",
        "\n",
        "<font color=\"red\">**TODO LINKS**</font>"
      ],
      "metadata": {
        "id": "WDn1j9ADNdJ4"
      }
    },
    {
      "cell_type": "markdown",
      "source": [
        "#### 2.1.3 Download Questions\n",
        "\n",
        "In case you make any changes to your data,  you can use any of the following options to download the updated information."
      ],
      "metadata": {
        "id": "KMdVp8L4DBHL"
      }
    },
    {
      "cell_type": "markdown",
      "source": [
        "##### *Option 1*: Download questions to your local device\n",
        "<font color=\"#ffaa00\">***Note:***</font> This option only works if the folder containing the exercise templates does not have subfolders."
      ],
      "metadata": {
        "id": "oJe0t7rWjgpo"
      }
    },
    {
      "cell_type": "code",
      "source": [
        "import os\n",
        "from google.colab import files\n",
        "\n",
        "folder = './exams/exercises'\n",
        "file_names = [f\"{folder}/{f}\" for f in os.listdir(folder) if os.path.isfile(f\"{folder}/{f}\")]\n",
        "\n",
        "for f in file_names:\n",
        "  files.download(f)"
      ],
      "metadata": {
        "id": "VCY523kFjhf9"
      },
      "execution_count": null,
      "outputs": []
    },
    {
      "cell_type": "markdown",
      "source": [
        "##### *Option 2*: Pack and download the question folder to your local device\n",
        "\n",
        "This code allows you to use the following formats: TAR, ZIP, GZ, BZ, and XZ files."
      ],
      "metadata": {
        "id": "0l7Eno5vnKie"
      }
    },
    {
      "cell_type": "code",
      "source": [
        "# @title <font size=3>Select Format<font> { run: \"auto\", display-mode: \"form\" }\n",
        "format = \"zip\" # @param [\"zip\",  \"gztar\", \"bztar\", \"xztar\", \"tar\"]\n",
        "\n",
        "#@markdown <u>**Click the button ![image](https://user-images.githubusercontent.com/101522927/239503327-25ab8bf5-ad27-45b6-9c2f-39d303eec112.png)\n",
        "#@markdown on the left to execute the cell.**</u>\n",
        "\n",
        "idx = (\"zip\",  \"gztar\", \"bztar\", \"xztar\", \"tar\").index(format)\n",
        "ext = (\".zip\",  \".tar.gz\", \".tar.bz2\", \".tar.xz\", \".tar\")[idx]"
      ],
      "metadata": {
        "id": "LvTbo3HyoE2h"
      },
      "execution_count": null,
      "outputs": []
    },
    {
      "cell_type": "code",
      "source": [
        "import shutil\n",
        "import os\n",
        "from google.colab import files\n",
        "\n",
        "path = \"exams/exercises\"\n",
        "fn = path\n",
        "\n",
        "shutil.make_archive(fn, format, path)\n",
        "files.download(f\"{fn}{ext}\")"
      ],
      "metadata": {
        "id": "91tHdmmPnKie"
      },
      "execution_count": null,
      "outputs": []
    },
    {
      "cell_type": "code",
      "source": [
        "!rm {fn}{ext}"
      ],
      "metadata": {
        "id": "mw-3jQ2_DdmH"
      },
      "execution_count": null,
      "outputs": []
    },
    {
      "cell_type": "markdown",
      "source": [
        "##### *Option 3*: Download questions to Google Drive\n",
        "\n",
        "The example below demonstrates how to mount your Google Drive in the virtual machine and copy your exercise templates into an existing Google Drive folder."
      ],
      "metadata": {
        "id": "K4LOGvEenKie"
      }
    },
    {
      "cell_type": "code",
      "source": [
        "#@title <font size=3>Config and run</font>\n",
        "\n",
        "#@markdown Select the soruce folder (absolute path):\n",
        "dst_folder = \"/rexams/exercises\" #@param {type:\"string\"}\n",
        "src_folder = \"exams/exercises\"\n",
        "\n",
        "#@markdown `none` option will not pack the data:\n",
        "packing_format = \"none\" # @param [\"none\", \"zip\",  \"gztar\", \"bztar\", \"xztar\", \"tar\"]\n",
        "idx = (\"none\", \"zip\",  \"gztar\", \"bztar\", \"xztar\", \"tar\").index(packing_format)\n",
        "ext = (\"\", \".zip\",  \".tar.gz\", \".tar.bz2\", \".tar.xz\", \".tar\")[idx]\n",
        "\n",
        "\n",
        "#@markdown Name of the compressed file:\n",
        "file_name = \"exercises\" #@param {type:\"string\"}\n",
        "file_path = f\"exams/{file_name}\"\n",
        "\n",
        "#@markdown <u>**Click the button ![image](https://user-images.githubusercontent.com/101522927/239503327-25ab8bf5-ad27-45b6-9c2f-39d303eec112.png)\n",
        "#@markdown on the left to execute the cell.**</u>\n",
        "\n",
        "from google.colab import drive\n",
        "import shutil\n",
        "\n",
        "drive.mount('/gdrive')\n",
        "\n",
        "if packing_format != \"none\":\n",
        "  shutil.make_archive(file_path, packing_format, src_folder)\n",
        "  !cp {file_path}{ext} /gdrive/MyDrive{dst_folder}\n",
        "  !rm {file_path}{ext}\n",
        "\n",
        "else:\n",
        "  shutil.copytree(f\"/content/{src_folder}\",f\"/gdrive/MyDrive{dst_folder}\", dirs_exist_ok=True)\n",
        "\n",
        "drive.flush_and_unmount()"
      ],
      "metadata": {
        "cellView": "form",
        "id": "aaK7czTrnKie"
      },
      "execution_count": null,
      "outputs": []
    },
    {
      "cell_type": "markdown",
      "source": [
        "### <a name=\"sec:format\"></a> 2.2 Exam Templates\n",
        "\n",
        "Exam templates allow you to customize how the content of exam questions is presented when generating exams in documents such us HTML and PDF. Much like in the Question Banks (section [2.1](#sec:quest)), this section offers similar methods for managing exam templates, including **uploading**, **creating**, and **downloading**.\n"
      ],
      "metadata": {
        "id": "KI2LDIDsJeCn"
      }
    },
    {
      "cell_type": "markdown",
      "source": [
        "#### 2.2.0 Download data for testing\n",
        "\n",
        "In this subsection, you'll find instructions on how to download sample data to test the options provided in the other subsections of section 2.2."
      ],
      "metadata": {
        "id": "Yd0w7IHhs4ZL"
      }
    },
    {
      "cell_type": "markdown",
      "source": [
        "The following link contain the example exam templates provided by the R/exams:\n",
        "\n",
        "* [Exam Templates](https://github.com/Mr-McGL/RExamsUtilsBinaries/raw/main/testdata/templates.zip)\n",
        "\n",
        "\n",
        "The following subsections provide guidance on loading and unzipping exam templates from both your local machine and your Google Drive account$^{[}$[$^{10}$](https://drive.google.com/drive/my-drive)$^{]}$. Clicking on the links above will trigger the download of a zip file containing all the exam templates to your local device. To o explore the second option (outlined in subsection [2.2.1](#subsec:upt)), you'll need to upload the exam templates to a designated folder within your Google Drive.\n",
        "\n",
        "<u>**Alternatively, you can run the following cell to perform these steps automatically.**</u>\n"
      ],
      "metadata": {
        "id": "95NQGykvs4ZL"
      }
    },
    {
      "cell_type": "code",
      "source": [
        "# @title <font size=3>Config and run</font> { vertical-output: true, display-mode: \"form\" }\n",
        "\n",
        "#@markdown Absolute path to a folder on Google Drive where the exams will be downloaded. If the folder doesn't exist, it will be created automatically.\n",
        "gdrive_folder = \"/rexams/templates\" #@param {type:\"string\"}\n",
        "\n",
        "#@markdown Steps:\n",
        "download_to_gdrive = True # @param {type:\"boolean\"}\n",
        "download_to_local_device = True # @param {type:\"boolean\"}\n",
        "\n",
        "#@markdown <u>**Click the button ![image](https://user-images.githubusercontent.com/101522927/239503327-25ab8bf5-ad27-45b6-9c2f-39d303eec112.png)\n",
        "#@markdown on the left to execute the cell.**</u>\n",
        "\n",
        "# ---\n",
        "from google.colab import files\n",
        "from google.colab import drive\n",
        "\n",
        "if download_to_gdrive or download_to_local_device:\n",
        "  !wget https://github.com/Mr-McGL/RExamsUtilsBinaries/raw/main/testdata/templates.zip\n",
        "\n",
        "\n",
        "  if download_to_local_device:\n",
        "    files.download(\"templates.zip\")\n",
        "\n",
        "\n",
        "  if download_to_gdrive:\n",
        "    drive.mount('/gdrive')\n",
        "\n",
        "    print(f\"mkdir -p /gdrive/MyDrive{gdrive_folder}\")\n",
        "    !mkdir -p /gdrive/MyDrive{gdrive_folder}\n",
        "    !cp templates.zip /gdrive/MyDrive{gdrive_folder}\n",
        "\n",
        "    drive.flush_and_unmount()"
      ],
      "metadata": {
        "id": "6uzn6WjPs4ZL"
      },
      "execution_count": null,
      "outputs": []
    },
    {
      "cell_type": "code",
      "source": [
        "if download_to_gdrive or download_to_local_device:\n",
        "  !rm /content/templates.zip"
      ],
      "metadata": {
        "id": "cUq9mhhrxAp6"
      },
      "execution_count": null,
      "outputs": []
    },
    {
      "cell_type": "markdown",
      "source": [
        "#### <a name=\"subsec:upt\"></a>2.2.1 Upload Exam Templates\n",
        "\n",
        "Since this notebook is running on a remote virtual machine, you will be required to upload your working data each time the runtime environment is reset."
      ],
      "metadata": {
        "id": "PKA4UiVEs4ZM"
      }
    },
    {
      "cell_type": "markdown",
      "source": [
        "The variable `uploadedTemplates` will store the names of all the files you have uploaded."
      ],
      "metadata": {
        "id": "4cK1kuVXs4ZM"
      }
    },
    {
      "cell_type": "code",
      "source": [
        "uploadedTemplates = []"
      ],
      "metadata": {
        "id": "byoB0u7zs4ZM"
      },
      "execution_count": null,
      "outputs": []
    },
    {
      "cell_type": "markdown",
      "source": [
        "##### *Option 1*: Upload  from local files\n",
        "\n",
        "With this code, you have the option to upload the exam templates individually or upload a compressed file containing multiple templates. Further ahead, you will find a snippet that enables you to unpack the compressed files."
      ],
      "metadata": {
        "id": "47KwTJi2s4ZM"
      }
    },
    {
      "cell_type": "code",
      "source": [
        "from google.colab import files\n",
        "\n",
        "!mkdir -p ./exams/templates\n",
        "%pushd ./exams/templates\n",
        "\n",
        "try:\n",
        "  while True:\n",
        "    uploadedTemplates += list(files.upload().keys())\n",
        "    choice = input(\"Do you want to upload another file? (yes/no, default: no): \")\n",
        "    if choice.lower() not in (\"yes\",\"y\"):\n",
        "        break\n",
        "\n",
        "finally:\n",
        "  %popd"
      ],
      "metadata": {
        "id": "0pOY8PARs4ZM"
      },
      "execution_count": null,
      "outputs": []
    },
    {
      "cell_type": "markdown",
      "source": [
        "##### *Option 2*: Upload exam templates from Google Drive\n",
        "\n",
        "The example below demonstrates how to mount your Google Drive in the virtual machine and copy your exam templates into the working directory."
      ],
      "metadata": {
        "id": "e9LL_2m-s4ZM"
      }
    },
    {
      "cell_type": "code",
      "source": [
        "#@title <font size=3>Config and run</font>\n",
        "\n",
        "#@markdown Select the soruce folder (absolute path)\n",
        "src_folder = \"/rexams/templates\" #@param {type:\"string\"}\n",
        "dst_folder = \"exams/templates\"\n",
        "\n",
        "#@markdown\n",
        "#@markdown <u>**Click the button ![image](https://user-images.githubusercontent.com/101522927/239503327-25ab8bf5-ad27-45b6-9c2f-39d303eec112.png)\n",
        "#@markdown on the left to execute the cell.**</u>\n",
        "\n",
        "from google.colab import drive\n",
        "import shutil\n",
        "import os\n",
        "\n",
        "!mkdir -p ./exams/templates\n",
        "\n",
        "drive.mount('/gdrive')\n",
        "\n",
        "shutil.copytree(f\"/gdrive/MyDrive{src_folder}\", f\"/content/{dst_folder}\", dirs_exist_ok=True)\n",
        "\n",
        "uploadedTemplates = os.listdir(f\"/content/{dst_folder}\")\n",
        "\n",
        "drive.flush_and_unmount()"
      ],
      "metadata": {
        "cellView": "form",
        "id": "fmWATn9ws4ZM"
      },
      "execution_count": null,
      "outputs": []
    },
    {
      "cell_type": "markdown",
      "source": [
        "##### Unpack uploaded files (optional)\n",
        "\n",
        "This code allows you to extract TAR, ZIP, GZ, BZ, and XZ files."
      ],
      "metadata": {
        "id": "PSpxBZihs4ZM"
      }
    },
    {
      "cell_type": "code",
      "source": [
        "import shutil\n",
        "import os\n",
        "\n",
        "path = \"exams/templates/\"\n",
        "uploadedTemplates = os.listdir(f\"/content/{path}\")\n",
        "\n",
        "for fn in uploadedTemplates:\n",
        "  if fn.split(\".\")[-1].lower() in (\"tar\",\"zip\",\"gz\", \"bz\", \"xz\"):\n",
        "    shutil.unpack_archive(f'{path}{fn}', path) #formats = “zip|tar|gztar|bztar|xztar”"
      ],
      "metadata": {
        "id": "MB_a00L0s4ZM"
      },
      "execution_count": null,
      "outputs": []
    },
    {
      "cell_type": "markdown",
      "source": [
        "#### 2.2.2 Create Exam Templates\n",
        "We crafted a series of instructional notebooks detailing the creation of diverse exam templates  compatible with R/exams.  Additionally, you can use any of the notebooks designed to enhance the creation of exercise templates.\n",
        "\n",
        "Within this section, you will encounter the links to these alternatives.\n",
        "\n",
        "[![Tutorials](https://badgen.net/badge/icon/GIT?icon=git&label=Tutorials&color=FF4400)](https://github.com/Mr-McGL/RExamsUtils/tree/dev/mgarcia/notebooks/tools/templates)\n",
        "[![Tools](https://badgen.net/badge/icon/GIT?icon=git&label=Tools&color=FF4400)](https://github.com/Mr-McGL/RExamsUtils/tree/dev/mgarcia/notebooks/tools/templates)\n",
        "\n",
        "<font color=\"red\">**TODO LINKS**</font>"
      ],
      "metadata": {
        "id": "y7XiI-3Os4ZM"
      }
    },
    {
      "cell_type": "markdown",
      "source": [
        "#### 2.2.3 Download Exam Templates\n",
        "\n",
        "In case you make any changes to your data,  you can use any of the following options to download the updated information."
      ],
      "metadata": {
        "id": "SGSVyVrhs4ZN"
      }
    },
    {
      "cell_type": "markdown",
      "source": [
        "##### *Option 1*: Download exam templates to your local device\n",
        "<font color=\"#ffaa00\">***Note:***</font> This option only works if the folder containing the exam templates does not have subfolders."
      ],
      "metadata": {
        "id": "3xSWYgDPs4ZN"
      }
    },
    {
      "cell_type": "code",
      "source": [
        "import os\n",
        "from google.colab import files\n",
        "\n",
        "folder = './exams/templates'\n",
        "file_names = [f\"{folder}/{f}\" for f in os.listdir(folder) if os.path.isfile(f\"{folder}/{f}\")]\n",
        "\n",
        "for f in file_names:\n",
        "  files.download(f)"
      ],
      "metadata": {
        "id": "Ah2azYPUs4ZN"
      },
      "execution_count": null,
      "outputs": []
    },
    {
      "cell_type": "markdown",
      "source": [
        "##### *Option 2*: Pack and download the exam templates folder to your local device\n",
        "\n",
        "This code allows you to use the following formats: TAR, ZIP, GZ, BZ, and XZ files."
      ],
      "metadata": {
        "id": "cPg6pSO1s4ZN"
      }
    },
    {
      "cell_type": "code",
      "source": [
        "# @title <font size=3>Select Format<font> { run: \"auto\", display-mode: \"form\" }\n",
        "format = \"zip\" # @param [\"zip\",  \"gztar\", \"bztar\", \"xztar\", \"tar\"]\n",
        "\n",
        "#@markdown <u>**Click the button ![image](https://user-images.githubusercontent.com/101522927/239503327-25ab8bf5-ad27-45b6-9c2f-39d303eec112.png)\n",
        "#@markdown on the left to execute the cell.**</u>\n",
        "\n",
        "idx = (\"zip\",  \"gztar\", \"bztar\", \"xztar\", \"tar\").index(format)\n",
        "ext = (\".zip\",  \".tar.gz\", \".tar.bz2\", \".tar.xz\", \".tar\")[idx]"
      ],
      "metadata": {
        "id": "meZhvRW-s4ZN"
      },
      "execution_count": null,
      "outputs": []
    },
    {
      "cell_type": "code",
      "source": [
        "import shutil\n",
        "import os\n",
        "from google.colab import files\n",
        "\n",
        "path = \"exams/templates\"\n",
        "fn = path\n",
        "\n",
        "shutil.make_archive(fn, format, path)\n",
        "files.download(f\"{fn}{ext}\")"
      ],
      "metadata": {
        "id": "tIt-ccLUs4ZN"
      },
      "execution_count": null,
      "outputs": []
    },
    {
      "cell_type": "code",
      "source": [
        "!rm {fn}{ext}"
      ],
      "metadata": {
        "id": "gOKlikasDUWE"
      },
      "execution_count": null,
      "outputs": []
    },
    {
      "cell_type": "markdown",
      "source": [
        "##### *Option 3*: Download questions to Google Drive\n",
        "\n",
        "The example below demonstrates how to mount your Google Drive in the virtual machine and copy your exercise templates into an existing Google Drive folder."
      ],
      "metadata": {
        "id": "lZJl_cm-s4ZN"
      }
    },
    {
      "cell_type": "code",
      "source": [
        "#@title <font size=3>Config and run</font>\n",
        "\n",
        "#@markdown Select the soruce folder (absolute path):\n",
        "dst_folder = \"/rexams/templates\" #@param {type:\"string\"}\n",
        "src_folder = \"exams/templates\"\n",
        "\n",
        "#@markdown `none` option will not pack the data:\n",
        "packing_format = \"zip\" # @param [\"none\", \"zip\",  \"gztar\", \"bztar\", \"xztar\", \"tar\"]\n",
        "idx = (\"none\", \"zip\",  \"gztar\", \"bztar\", \"xztar\", \"tar\").index(packing_format)\n",
        "ext = (\"\", \".zip\",  \".tar.gz\", \".tar.bz2\", \".tar.xz\", \".tar\")[idx]\n",
        "\n",
        "\n",
        "#@markdown Name of the compressed file:\n",
        "file_name = \"templates2\" #@param {type:\"string\"}\n",
        "file_path = f\"exams/{file_name}\"\n",
        "\n",
        "#@markdown <u>**Click the button ![image](https://user-images.githubusercontent.com/101522927/239503327-25ab8bf5-ad27-45b6-9c2f-39d303eec112.png)\n",
        "#@markdown on the left to execute the cell.**</u>\n",
        "\n",
        "from google.colab import drive\n",
        "import shutil\n",
        "\n",
        "drive.mount('/gdrive')\n",
        "\n",
        "if packing_format != \"none\":\n",
        "  shutil.make_archive(file_path, packing_format, src_folder)\n",
        "\n",
        "  print(f\"!cp {file_path}{ext} /gdrive/MyDrive{dst_folder}\")\n",
        "  !cp {file_path}{ext} /gdrive/MyDrive{dst_folder}\n",
        "  !rm {file_path}{ext}\n",
        "\n",
        "else:\n",
        "  shutil.copytree(f\"/content/{src_folder}\",f\"/gdrive/MyDrive{dst_folder}\", dirs_exist_ok=True)\n",
        "\n",
        "drive.flush_and_unmount()"
      ],
      "metadata": {
        "id": "rawjU1JPs4ZN",
        "cellView": "form"
      },
      "execution_count": null,
      "outputs": []
    },
    {
      "cell_type": "markdown",
      "source": [
        "### 2.3 <a name=\"sec:genExam\"></a>Configuring and Generating Exams\n",
        "\n",
        "In this notebook, you will discover fundamental examples of creating and configuring exams from a question bank and a exam template.\n",
        "\n",
        "Futhermore, you'll find links to other notebooks featuring more advanced examples and offering and providing with additional tools.  \n",
        "\n",
        "[![Tutorials](https://badgen.net/badge/icon/GIT?icon=git&label=Tutorials&color=FF4400)](https://github.com/Mr-McGL/RExamsUtils/tree/dev/mgarcia/notebooks/tutorials/render)\n",
        "[![Tools](https://badgen.net/badge/icon/GIT?icon=git&label=Tools&color=FF4400)](https://github.com/Mr-McGL/RExamsUtils/tree/dev/mgarcia/notebooks/tools/render)\n",
        "\n",
        "<font color=\"red\">**TODO LINKS**</font>"
      ],
      "metadata": {
        "id": "RjcQUPxGJd1D"
      }
    },
    {
      "cell_type": "markdown",
      "source": [
        "#### 2.3.1 R/exams demo files\n",
        "All the examples presented below are based on the exercise and exam templates provided by the R/Exams package (see section [1.5](#sec:skeleton))."
      ],
      "metadata": {
        "id": "yI_uShWKisEo"
      }
    },
    {
      "cell_type": "code",
      "source": [
        "# @title <font size=4>File viewer</font>{ run: \"auto\", vertical-output: true, display-mode: \"form\" }\n",
        "\n",
        "show = \"code\" # @param [\"exercises\", \"templates\", \"code\"]\n",
        "\n",
        "#@markdown <u>**Click the button ![image](https://user-images.githubusercontent.com/101522927/239503327-25ab8bf5-ad27-45b6-9c2f-39d303eec112.png)\n",
        "#@markdown on the left to execute the cell.**</u>\n",
        "\n",
        "from ipywidgets import widgets\n",
        "from IPython.display import display, Markdown, Latex, HTML\n",
        "import os\n",
        "\n",
        "from pygments import highlight\n",
        "from pygments.lexers import get_lexer_by_name\n",
        "from pygments.formatters import HtmlFormatter\n",
        "\n",
        "path = \"./exams/demo\"\n",
        "idx = [\"exercises\", \"templates\", \"code\"].index(show)\n",
        "folder = path + [\"/exercises\", \"/templates\", \"\"][idx]\n",
        "\n",
        "file_names = [file_name for file_name in os.listdir(folder)\\\n",
        "              if os.path.isfile(f\"{folder}/{file_name}\")]\n",
        "\n",
        "def show_file(_):\n",
        "  fn = f\"{folder}/{files_dd.value}\"\n",
        "  out.clear_output()\n",
        "  with out:\n",
        "    if mode_dd.value==\"terminal\":\n",
        "      frmt = \"-l markdown\" if fn.endswith(\".Rmd\") else \"\"\n",
        "      !pygmentize -f terminal {frmt} {fn}\n",
        "    else:\n",
        "      with open(fn, 'r') as f:\n",
        "        contenido = f.read()\n",
        "\n",
        "      if fn.endswith(\".Rmd\") or fn.endswith(\".rmd\"):\n",
        "        display(Markdown(contenido))\n",
        "      elif fn.endswith(\".tex\"):\n",
        "        display(Latex(contenido))\n",
        "        #lexer = get_lexer_by_name(\"latex\", stripall=True)\n",
        "        #html = highlight(contenido, lexer, HtmlFormatter())\n",
        "        #display(HTML(html))\n",
        "      elif fn.endswith(\".html\"):\n",
        "        display(HTML(contenido))\n",
        "\n",
        "files_dd = widgets.Dropdown(options=file_names, description='Select file:')\n",
        "files_dd.observe(show_file, names='value')\n",
        "mode_dd = widgets.Dropdown(options=[\"terminal\",\"formatted\"], description='Select display mode:')\n",
        "mode_dd.observe(show_file, names='value')\n",
        "out = widgets.Output()\n",
        "\n",
        "out.layout.max_height = '450px'\n",
        "\n",
        "\n",
        "show_file(_)\n",
        "\n",
        "display(widgets.VBox([files_dd,mode_dd, widgets.VBox([out])]))\n"
      ],
      "metadata": {
        "id": "-AoNMSv04OuB"
      },
      "execution_count": null,
      "outputs": []
    },
    {
      "cell_type": "markdown",
      "source": [
        "#### 2.3.2 Render to HTML (Main Parameters)"
      ],
      "metadata": {
        "id": "KJmXTQaDiVyI"
      }
    },
    {
      "cell_type": "code",
      "source": [
        "# @title <font size=3>Main Parameters</font>{ run: \"auto\", vertical-output: true, display-mode: \"form\" }\n",
        "\n",
        "#@markdown  **Exam name** `name`: A prefix for resulting exam instances.\n",
        "exam_name = \"testA\" # @param {type:\"string\"}\n",
        "\n",
        "#@markdown  **Number of instances** `n`: Number of exams\n",
        "exam_num = 3 # @param {type:\"integer\"}\n",
        "\n",
        "#@markdown ---\n",
        "#@markdown These variables are specific to HTML rendering\n",
        "\n",
        "#@markdown Show `question`\n",
        "show_questions = True # @param [\"True\", \"False\", \"\\\"\\u003Ch4>Question\\u003Ch4>\\\"\", \"None\"] {type:\"raw\", allow-input: true}\n",
        "\n",
        "#@markdown Show `solution`\n",
        "show_solutions = False # @param [\"True\", \"False\", \"\\\"\\u003Ch4>Solution\\u003Ch4>\\\"\", \"None\"] {type:\"raw\", allow-input: true}\n",
        "\n",
        "\n",
        "#@markdown ---\n",
        "#@markdown  **Exam name** `template`: A prefix for resulting exam instances.\n",
        "template = \"./exams/demo/templates/plain.html\" # @param [\"./exams/demo/templates/plain.html\"] {allow-input: true}\n",
        "\n",
        "\n",
        "\n",
        "#@markdown ---\n",
        "#@markdown Directories\n",
        "\n",
        "#@markdown **Output directory** -- `dir`: In Gooble Colab, it must be set when rendering HTML exams.\n",
        "output_dir = \"./exams/demo/output\" # @param [\"./exams/demo/output\"] {allow-input: true}\n",
        "#@markdown **Question bank directory** -- `edir`: It could include subdirectories.\n",
        "#@markdown The execise template name **must be unique**.\n",
        "execise_dir = \"./exams/demo/exercises\" # @param [\"./exams/demo/exercises\"] {allow-input: true}\n",
        "\n",
        "#@markdown Other directories:\n",
        "#@markdown * `tdir`: temporarydirectory\n",
        "#@markdown * `sdir`: directories for storing supplements\n",
        "\n",
        "#@markdown <u>**Click the button ![image](https://user-images.githubusercontent.com/101522927/239503327-25ab8bf5-ad27-45b6-9c2f-39d303eec112.png)\n",
        "#@markdown on the left to execute the cell.**</u>\n"
      ],
      "metadata": {
        "id": "U7l02M2gVek-"
      },
      "execution_count": null,
      "outputs": []
    },
    {
      "cell_type": "markdown",
      "source": [
        "`%R -i var` is used to inject a Python variable named `var` into the R environment. The following cell will make the previously defined variables available in R."
      ],
      "metadata": {
        "id": "b7jNDkp6teeP"
      }
    },
    {
      "cell_type": "code",
      "source": [
        "%R -i exam_name -i exam_num\n",
        "%R -i template -i output_dir -i execise_dir\n",
        "%R -i show_questions -i show_solutions"
      ],
      "metadata": {
        "id": "C9tcvRffmF7S"
      },
      "execution_count": null,
      "outputs": []
    },
    {
      "cell_type": "code",
      "source": [
        "%%R\n",
        "exam = exams2html(\"deriv.Rmd\", name = exam_name, n = exam_num, seed = NULL,\n",
        "                  template = template, dir = output_dir, edir = execise_dir,\n",
        "                  question = show_questions, solution = show_solutions)"
      ],
      "metadata": {
        "id": "Sqk8vQnIsn8f"
      },
      "execution_count": null,
      "outputs": []
    },
    {
      "cell_type": "markdown",
      "source": [
        "We can use the `exams_metainfo` function to perform a preliminary analysis of the generated exams. For each instance of the exam, we print the information for each question, including the question name, solution, and tolerance (only for numeric questions)."
      ],
      "metadata": {
        "id": "L_nuzsnlxJc7"
      }
    },
    {
      "cell_type": "code",
      "source": [
        "%%R\n",
        "print(exams_metainfo(exam))"
      ],
      "metadata": {
        "id": "r6g1zLTvuuvN"
      },
      "execution_count": null,
      "outputs": []
    },
    {
      "cell_type": "code",
      "source": [
        "# @title <font size=3>Print exams</font>{ run: \"auto\", vertical-output: true, display-mode: \"form\" }\n",
        "#@markdown <u>**Click the button ![image](https://user-images.githubusercontent.com/101522927/239503327-25ab8bf5-ad27-45b6-9c2f-39d303eec112.png)\n",
        "#@markdown on the left to execute the cell.**</u>\n",
        "\n",
        "\n",
        "from IPython.display import display, HTML\n",
        "from ipywidgets import widgets\n",
        "\n",
        "outs = []\n",
        "for i in range(exam_num):\n",
        "  outs.append(widgets.Output(layout = widgets.Layout(\n",
        "      max_height = '400px', max_width = '500px')))\n",
        "  with outs[-1]:\n",
        "    fn = f\"{output_dir}/{exam_name}{1+i}.html\"\n",
        "    print(f\"\\x1B[1m\\x1B[4m\\x1b[32m{fn}\\x1b[0m\")\n",
        "    display(HTML(filename = fn))\n",
        "\n",
        "display(widgets.HBox(outs))\n"
      ],
      "metadata": {
        "id": "vsmxZ-8bwXSG"
      },
      "execution_count": null,
      "outputs": []
    },
    {
      "cell_type": "markdown",
      "source": [
        "#### 2.3.3 Exercise Selection\n",
        "\n",
        "In this section, you'll learn how to compose exams from question lists."
      ],
      "metadata": {
        "id": "WKj2mj_69XML"
      }
    },
    {
      "cell_type": "markdown",
      "source": [
        "##### Option 1:\n",
        "Using a single list, each question will correspond to an item in the list."
      ],
      "metadata": {
        "id": "EkIesEnGAaew"
      }
    },
    {
      "cell_type": "code",
      "source": [
        "%%R\n",
        "exercises <- c( \"deriv2.Rmd\",  \"tstat2.Rmd\",  \"dist3.Rmd\")"
      ],
      "metadata": {
        "id": "CV701SmH_4_F"
      },
      "execution_count": null,
      "outputs": []
    },
    {
      "cell_type": "code",
      "source": [
        "exam_name, exam_num = \"TEST_OP1_\", 1\n",
        "%R -i exam_name -i exam_num"
      ],
      "metadata": {
        "id": "mF-2SR87CazZ"
      },
      "execution_count": null,
      "outputs": []
    },
    {
      "cell_type": "code",
      "source": [
        "%%R\n",
        "exam = exams2html(exercises,\n",
        "                  name = exam_name, n = exam_num,\n",
        "                  template = template, dir = output_dir, edir = execise_dir)\n",
        "\n",
        "print(exams_metainfo(exam))"
      ],
      "metadata": {
        "id": "5cuvRsCSA-XB"
      },
      "execution_count": null,
      "outputs": []
    },
    {
      "cell_type": "code",
      "source": [
        "# @title <font size=3>Print exams</font>{ run: \"auto\", vertical-output: true, display-mode: \"form\" }\n",
        "#@markdown <u>**Click the button ![image](https://user-images.githubusercontent.com/101522927/239503327-25ab8bf5-ad27-45b6-9c2f-39d303eec112.png)\n",
        "#@markdown on the left to execute the cell.**</u>\n",
        "\n",
        "from IPython.display import display, HTML\n",
        "from ipywidgets import widgets\n",
        "\n",
        "outs = []\n",
        "for i in range(exam_num):\n",
        "  outs.append(widgets.Output(layout = widgets.Layout(\n",
        "      max_height = '400px', max_width = '500px')))\n",
        "  with outs[-1]:\n",
        "    fn = f\"{output_dir}/{exam_name}{1+i}.html\"\n",
        "    print(f\"\\x1B[1m\\x1B[4m\\x1b[32m{fn}\\x1b[0m\")\n",
        "    display(HTML(filename = fn))\n",
        "\n",
        "display(widgets.HBox(outs))"
      ],
      "metadata": {
        "id": "40h7_K3RH3ce"
      },
      "execution_count": null,
      "outputs": []
    },
    {
      "cell_type": "markdown",
      "source": [
        "##### Opción 2\n",
        "It is possible to use a list of question file lists.\n"
      ],
      "metadata": {
        "id": "hKWajB1PGUxb"
      }
    },
    {
      "cell_type": "markdown",
      "source": [
        "In this scenario, each question file list is used to select multiple questions for the final exam. The `nsamp` parameter allows you to specify the number of questions to be used from each list. If the number of elements in the question list exceeds `nsamp`, questions will not be repeated."
      ],
      "metadata": {
        "id": "YPHKEosEGUmS"
      }
    },
    {
      "cell_type": "code",
      "source": [
        "%%R\n",
        "exercises <- list(c( \"deriv2.Rmd\",  \"tstat2.Rmd\",  \"dist3.Rmd\"),\n",
        "              c(\"ttest.Rmd\", \"relfreq.Rmd\", \"cholesky.Rmd\"))\n",
        "\n",
        "nsamp <- 2"
      ],
      "metadata": {
        "id": "Ut5d9kYSGk57"
      },
      "execution_count": null,
      "outputs": []
    },
    {
      "cell_type": "code",
      "source": [
        "exam_name, exam_num = \"TEST_OP2_\", 1\n",
        "%R -i exam_name -i exam_num"
      ],
      "metadata": {
        "id": "dR6Z3zKJHZru"
      },
      "execution_count": null,
      "outputs": []
    },
    {
      "cell_type": "code",
      "source": [
        "%%R\n",
        "exam = exams2html(exercises, nsamp = nsamp,\n",
        "                  name = exam_name, n = exam_num,\n",
        "                  template = template, dir = output_dir, edir = execise_dir)\n",
        "\n",
        "print(exams_metainfo(exam))"
      ],
      "metadata": {
        "id": "HyZrF0IAHamR"
      },
      "execution_count": null,
      "outputs": []
    },
    {
      "cell_type": "code",
      "source": [
        "%R nsamp <- c(2,1)"
      ],
      "metadata": {
        "id": "JJhcVD0_J1Zm"
      },
      "execution_count": null,
      "outputs": []
    },
    {
      "cell_type": "code",
      "source": [
        "%%R\n",
        "exam = exams2html(exercises, nsamp = nsamp,\n",
        "                  name = exam_name, n = exam_num,\n",
        "                  template = template, dir = output_dir, edir = execise_dir)\n",
        "\n",
        "print(exams_metainfo(exam))"
      ],
      "metadata": {
        "id": "Jb0et-0IKDem"
      },
      "execution_count": null,
      "outputs": []
    },
    {
      "cell_type": "code",
      "source": [
        "# @title <font size=3>Print exams</font>{ run: \"auto\", vertical-output: true, display-mode: \"form\" }\n",
        "#@markdown <u>**Click the button ![image](https://user-images.githubusercontent.com/101522927/239503327-25ab8bf5-ad27-45b6-9c2f-39d303eec112.png)\n",
        "#@markdown on the left to execute the cell.**</u>\n",
        "\n",
        "from IPython.display import display, HTML\n",
        "from ipywidgets import widgets\n",
        "\n",
        "outs = []\n",
        "for i in range(exam_num):\n",
        "  outs.append(widgets.Output(layout = widgets.Layout(\n",
        "      max_height = '400px', max_width = '500px')))\n",
        "  with outs[-1]:\n",
        "    fn = f\"{output_dir}/{exam_name}{1+i}.html\"\n",
        "    print(f\"\\x1B[1m\\x1B[4m\\x1b[32m{fn}\\x1b[0m\")\n",
        "    display(HTML(filename = fn))\n",
        "\n",
        "display(widgets.HBox(outs))"
      ],
      "metadata": {
        "id": "uAIvl35HBzVy"
      },
      "execution_count": null,
      "outputs": []
    },
    {
      "cell_type": "markdown",
      "source": [
        "#### 2.3.4 Render to PDF"
      ],
      "metadata": {
        "id": "N_5HnXML256M"
      }
    },
    {
      "cell_type": "markdown",
      "source": [
        "In this case, we will generate two files, one with the questions and another one without solutions. To do this, we use two templates, one for each type of document."
      ],
      "metadata": {
        "id": "Gvtph55HRCO0"
      }
    },
    {
      "cell_type": "code",
      "source": [
        "exam_num, exam_names = 1, [\"pdf-exam\", \"pdf-solution\"]\n",
        "%R -i exam_num -i exam_names"
      ],
      "metadata": {
        "id": "dns5Vb_bR7_h"
      },
      "execution_count": null,
      "outputs": []
    },
    {
      "cell_type": "code",
      "source": [
        "%%R\n",
        "\n",
        "exam = exams2pdf(\"deriv.Rmd\", n = exam_num, name = exam_names,\n",
        "  dir = \"./exams/demo/output\",  edir = \"./exams/demo/exercises\",\n",
        "  template = c(\"./exams/demo/templates/exam.tex\", \"./exams/demo/templates/solution.tex\"))\n",
        "\n",
        "print(exams_metainfo(exam))"
      ],
      "metadata": {
        "id": "VhMmlNTcMtD7"
      },
      "execution_count": null,
      "outputs": []
    },
    {
      "cell_type": "code",
      "source": [
        "# @title <font size=3>Print exams</font>{ run: \"auto\", vertical-output: true, display-mode: \"form\" }\n",
        "#@markdown <u>**Click the button ![image](https://user-images.githubusercontent.com/101522927/239503327-25ab8bf5-ad27-45b6-9c2f-39d303eec112.png)\n",
        "#@markdown on the left to execute the cell.**</u>\n",
        "\n",
        "\n",
        "try:\n",
        "  from pdf2image import convert_from_path\n",
        "except:\n",
        "  !pip install pdf2image\n",
        "  !sudo apt-get install poppler-utils\n",
        "  from pdf2image import convert_from_path\n",
        "\n",
        "\n",
        "from IPython.display import display\n",
        "from ipywidgets import widgets\n",
        "\n",
        "outs = []\n",
        "for i in range(exam_num):\n",
        "  for exam_name in exam_names:\n",
        "    outs.append(widgets.Output(layout = widgets.Layout(\n",
        "        max_height = '400px', max_width = '700px')))\n",
        "\n",
        "    outs.append(widgets.Label(layout=widgets.Layout(width='2px')))\n",
        "    with outs[-2]:\n",
        "\n",
        "      fn = f\"{output_dir}/{exam_name}{1+i}.pdf\"\n",
        "      print(f\"\\x1B[1m\\x1B[4m\\x1b[32m{fn}\\x1b[0m\")\n",
        "\n",
        "      images = convert_from_path(fn)\n",
        "      for img in images:\n",
        "        display(img)\n",
        "        print()\n",
        "\n",
        "      display(filename=fn)\n",
        "      #pdf_reader = PyPDF2.PdfReader(fn)\n",
        "      #for page in pdf_reader.pages:\n",
        "      #  display(page.pdf)\n",
        "\n",
        "  display(widgets.HBox(outs))"
      ],
      "metadata": {
        "id": "lZQcWSccRbPJ"
      },
      "execution_count": null,
      "outputs": []
    },
    {
      "cell_type": "markdown",
      "source": [
        "#### 2.3.5 Download Outputs"
      ],
      "metadata": {
        "id": "P_p27QLzMmRQ"
      }
    },
    {
      "cell_type": "code",
      "source": [
        "# @title <font size=3>Select Format and Download Exams<font> {display-mode: \"form\" }\n",
        "format = \"zip\" # @param [\"zip\",  \"gztar\", \"bztar\", \"xztar\", \"tar\"]\n",
        "\n",
        "#@markdown <u>**Click the button ![image](https://user-images.githubusercontent.com/101522927/239503327-25ab8bf5-ad27-45b6-9c2f-39d303eec112.png)\n",
        "#@markdown on the left to execute the cell.**</u>\n",
        "\n",
        "idx = (\"zip\",  \"gztar\", \"bztar\", \"xztar\", \"tar\").index(format)\n",
        "ext = (\".zip\",  \".tar.gz\", \".tar.bz2\", \".tar.xz\", \".tar\")[idx]\n",
        "\n",
        "import shutil\n",
        "import os\n",
        "from google.colab import files\n",
        "\n",
        "fn = output_dir\n",
        "shutil.make_archive(fn, format, output_dir)\n",
        "files.download(f\"{fn}{ext}\")"
      ],
      "metadata": {
        "id": "jQSgIKsN8Ac3"
      },
      "execution_count": null,
      "outputs": []
    },
    {
      "cell_type": "code",
      "source": [
        "!rm {fn}{ext}"
      ],
      "metadata": {
        "id": "qFqZiEqZ8Ac3"
      },
      "execution_count": null,
      "outputs": []
    },
    {
      "cell_type": "markdown",
      "source": [
        "### 2.4 Other resources\n",
        "\n",
        "<font color=\"red\">**TODO: Scripts and Extensions**</font> Notebooks for scripts and exentensions.\n"
      ],
      "metadata": {
        "id": "Y4U274akgRGm"
      }
    },
    {
      "cell_type": "markdown",
      "source": [
        "<a name=\"sec:dis\"></a>\n",
        "## Disclaimer, license and additional information"
      ],
      "metadata": {
        "id": "-lWnWAMdaWp1"
      }
    },
    {
      "cell_type": "markdown",
      "source": [
        "### Disclaimer\n",
        "\n",
        "The code provided in this notebook is for educational and illustrative purposes only. While we strive to ensure the accuracy and reliability of the information and code presented, we make no representations or warranties of any kind, express or implied, about the completeness, accuracy, reliability, suitability, or availability with respect to the notebook or the code contained within it. Any reliance you place on such information and code is therefore strictly at your own risk.\n",
        "\n",
        "We disclaim any liability for any errors, omissions, or inaccuracies in the notebook or the code. We will not be liable for any loss or damage arising from the use of this notebook or the code it contains. It is your responsibility to ensure that any code or information you use from this notebook is adequately tested and meets your requirements.\n",
        "\n",
        "Please note that the code may require modifications to adapt it to your specific use case, and you should exercise caution and judgment when implementing it.\n",
        "\n",
        "By using this notebook and the provided code, you agree to these terms and conditions.\n",
        "\n",
        "### License\n",
        "\n",
        "This work is licensed under a Creative Commons Attribution-ShareAlike 4.0 International License (CC BY-NC-SA); you may not use this file except in compliance with the License.\n",
        "To view a copy of this license, visit [link to the Creative Commons license](https://creativecommons.org/licenses/by-nc-sa/4.0/legalcode).\n",
        "\n",
        "Unless required by applicable law or agreed to in writing, software distributed under the License is distributed on an \"AS IS\" BASIS, WITHOUT WARRANTIES OR CONDITIONS OF ANY KIND, either express or implied. See the License for the specific language governing permissions and limitations under the License.\n",
        "\n",
        "\n",
        "\n"
      ],
      "metadata": {
        "id": "9qsRzKm9aWp2"
      }
    },
    {
      "cell_type": "markdown",
      "source": [
        "### Authorship\n",
        "\n",
        "- **Authors:**\n",
        "  - Marcos García-Lorenzo\n",
        "      - Affiliation: *VG-Lab*, Universidad Rey Juan Carlos, Móstoles, Spain\n",
        "      - Email: marcos.garcia &lt;at&gt; urjc.es\n",
        "\n",
        "<!--\n",
        "- **Contributors:**\n",
        "- **Revised by:**\n",
        "-->\n",
        "\n",
        "- **Code Maintenance:**\n",
        "  - The code in this notebook is maintained by Marcos García-Lorenzo. For any questions, bug reports, or suggestions related to the code, please contact Marcos at the provided email address.\n",
        "\n",
        "\n",
        "<!--\n",
        "### Acknowledgments\n",
        "We would like to express our gratitude to\n",
        "\n",
        "### Citation Request\n",
        "If you find this notebook useful for your work, we kindly request that you cite it as follows:\n",
        "\n",
        "[Author(s)]. [Notebook Title]. [Year]. Available in [URL of the notebook].\n",
        "\n",
        "This will help acknowledge the original authors and provide proper credit for their work.\n",
        "\n",
        "Thank you for your consideration and support!\n",
        "-->\n"
      ],
      "metadata": {
        "id": "C95OdC5IZ0W6"
      }
    }
  ]
}